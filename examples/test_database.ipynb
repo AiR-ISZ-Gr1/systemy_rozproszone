{
 "cells": [
  {
   "cell_type": "code",
   "execution_count": 2,
   "metadata": {},
   "outputs": [
    {
     "data": {
      "text/html": [
       "<div>\n",
       "<style scoped>\n",
       "    .dataframe tbody tr th:only-of-type {\n",
       "        vertical-align: middle;\n",
       "    }\n",
       "\n",
       "    .dataframe tbody tr th {\n",
       "        vertical-align: top;\n",
       "    }\n",
       "\n",
       "    .dataframe thead th {\n",
       "        text-align: right;\n",
       "    }\n",
       "</style>\n",
       "<table border=\"1\" class=\"dataframe\">\n",
       "  <thead>\n",
       "    <tr style=\"text-align: right;\">\n",
       "      <th></th>\n",
       "      <th>username</th>\n",
       "      <th>password</th>\n",
       "    </tr>\n",
       "  </thead>\n",
       "  <tbody>\n",
       "    <tr>\n",
       "      <th>0</th>\n",
       "      <td>htitley0</td>\n",
       "      <td>vG017?oZU'I+Jt@fsArXzOjO4fP=</td>\n",
       "    </tr>\n",
       "    <tr>\n",
       "      <th>1</th>\n",
       "      <td>hbutchard1</td>\n",
       "      <td>yE474)5a$5W3FR6+UppP{cpes</td>\n",
       "    </tr>\n",
       "    <tr>\n",
       "      <th>2</th>\n",
       "      <td>dchick2</td>\n",
       "      <td>jZ067!m*y~%*s?m7~@&gt;w`2B)B</td>\n",
       "    </tr>\n",
       "    <tr>\n",
       "      <th>3</th>\n",
       "      <td>hhuggett3</td>\n",
       "      <td>qD582##$4QKwGk(?mDyKgijO*yljC</td>\n",
       "    </tr>\n",
       "    <tr>\n",
       "      <th>4</th>\n",
       "      <td>filchuk4</td>\n",
       "      <td>zF093%EWaBx#`3J'g{ARi2Ah8WeA$CmO</td>\n",
       "    </tr>\n",
       "  </tbody>\n",
       "</table>\n",
       "</div>"
      ],
      "text/plain": [
       "     username                          password\n",
       "0    htitley0      vG017?oZU'I+Jt@fsArXzOjO4fP=\n",
       "1  hbutchard1         yE474)5a$5W3FR6+UppP{cpes\n",
       "2     dchick2         jZ067!m*y~%*s?m7~@>w`2B)B\n",
       "3   hhuggett3     qD582##$4QKwGk(?mDyKgijO*yljC\n",
       "4    filchuk4  zF093%EWaBx#`3J'g{ARi2Ah8WeA$CmO"
      ]
     },
     "execution_count": 2,
     "metadata": {},
     "output_type": "execute_result"
    }
   ],
   "source": [
    "import pandas as pd\n",
    "\n",
    "data = pd.read_csv('/home/bb/advanced_data_base/username_password.csv')\n",
    "\n",
    "data.head()"
   ]
  },
  {
   "cell_type": "markdown",
   "metadata": {},
   "source": [
    "## ADB"
   ]
  },
  {
   "cell_type": "code",
   "execution_count": 5,
   "metadata": {},
   "outputs": [],
   "source": [
    "import requests\n",
    "base_url = \"http://localhost:8000/users\"\n",
    "\n",
    "def create_user(username, password, is_admin=False):\n",
    "    user_data = {\n",
    "        \"username\": username,\n",
    "        \"password\": password,\n",
    "        \"is_admin\": is_admin\n",
    "    }\n",
    "    response = requests.post(base_url, json=user_data)\n",
    "    return response.json()\n",
    "\n",
    "for index, row in data.iterrows():\n",
    "    username = row['username']\n",
    "    password = row['password']\n",
    "    result = create_user(username, password)"
   ]
  },
  {
   "cell_type": "code",
   "execution_count": 3,
   "metadata": {},
   "outputs": [],
   "source": [
    "\n"
   ]
  },
  {
   "cell_type": "code",
   "execution_count": 5,
   "metadata": {},
   "outputs": [
    {
     "name": "stdout",
     "output_type": "stream",
     "text": [
      "[{'id': 1, 'is_admin': False, 'cart_id': None, 'password': 'aaa', 'username': 'aaa', 'address_id': None}]\n"
     ]
    }
   ],
   "source": [
    "#how to get \n",
    "\n",
    "response = requests.get(base_url, params={\"username\": \"aaa\"})\n",
    "print(response.json())"
   ]
  },
  {
   "cell_type": "code",
   "execution_count": 5,
   "metadata": {},
   "outputs": [
    {
     "name": "stdout",
     "output_type": "stream",
     "text": [
      "Rejestracja użytkownika: {'detail': 'Username already exists'}\n"
     ]
    }
   ],
   "source": [
    "import requests\n",
    "\n",
    "# URL serwera FastAPI\n",
    "base_url = \"http://localhost:8001\"\n",
    "\n",
    "# Dane użytkownika do rejestracji\n",
    "user_data = {\n",
    "    \"username\": \"12344\",\n",
    "    \"password\": \"1234\",\n",
    "}\n",
    "\n",
    "# Rejestrowanie użytkownika\n",
    "response = requests.post(f\"{base_url}/register/\", json=user_data)\n",
    "print(\"Rejestracja użytkownika:\", response.json())"
   ]
  },
  {
   "cell_type": "code",
   "execution_count": 4,
   "metadata": {},
   "outputs": [
    {
     "name": "stdout",
     "output_type": "stream",
     "text": [
      "Logowanie użytkownika: {'message': 'Login successful'}\n"
     ]
    }
   ],
   "source": [
    "login_data = {\n",
    "    \"username\": \"1234\",\n",
    "    \"password\": \"1234\"\n",
    "}\n",
    "\n",
    "# Logowanie użytkownika\n",
    "response = requests.post(f\"{base_url}/login/\", json=login_data)\n",
    "print(\"Logowanie użytkownika:\", response.json())"
   ]
  }
 ],
 "metadata": {
  "kernelspec": {
   "display_name": ".venv",
   "language": "python",
   "name": "python3"
  },
  "language_info": {
   "codemirror_mode": {
    "name": "ipython",
    "version": 3
   },
   "file_extension": ".py",
   "mimetype": "text/x-python",
   "name": "python",
   "nbconvert_exporter": "python",
   "pygments_lexer": "ipython3",
   "version": "3.11.2"
  }
 },
 "nbformat": 4,
 "nbformat_minor": 2
}
