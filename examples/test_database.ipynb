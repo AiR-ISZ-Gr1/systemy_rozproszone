{
 "cells": [
  {
   "cell_type": "code",
   "execution_count": 25,
   "metadata": {},
   "outputs": [
    {
     "name": "stdout",
     "output_type": "stream",
     "text": [
      "Create User Response: {'id': 3, 'is_admin': False, 'cart_id': None, 'password': 'aaa', 'username': 'aaa', 'address_id': None}\n"
     ]
    }
   ],
   "source": [
    "import requests\n",
    "base_url = \"http://localhost:8000/users\"\n",
    "\n",
    "user_data = {\n",
    "    \"username\": \"aaa\",\n",
    "    \"password\": \"aaa\",\n",
    "    \"is_admin\": False\n",
    "}\n",
    "\n",
    "response = requests.post(base_url, json=user_data)\n",
    "print(\"Create User Response:\", response.json())\n"
   ]
  },
  {
   "cell_type": "code",
   "execution_count": 5,
   "metadata": {},
   "outputs": [
    {
     "name": "stdout",
     "output_type": "stream",
     "text": [
      "[{'id': 1, 'is_admin': False, 'cart_id': None, 'password': 'aaa', 'username': 'aaa', 'address_id': None}]\n"
     ]
    }
   ],
   "source": [
    "#how to get \n",
    "\n",
    "response = requests.get(base_url, params={\"username\": \"aaa\"})\n",
    "print(response.json())"
   ]
  },
  {
   "cell_type": "code",
   "execution_count": 3,
   "metadata": {},
   "outputs": [
    {
     "name": "stdout",
     "output_type": "stream",
     "text": [
      "Rejestracja użytkownika: {'message': 'User registered successfully.'}\n"
     ]
    }
   ],
   "source": [
    "import requests\n",
    "\n",
    "# URL serwera FastAPI\n",
    "base_url = \"http://localhost:8001\"\n",
    "\n",
    "# Dane użytkownika do rejestracji\n",
    "user_data = {\n",
    "    \"username\": \"12344\",\n",
    "    \"password\": \"1234\",\n",
    "}\n",
    "\n",
    "# Rejestrowanie użytkownika\n",
    "response = requests.post(f\"{base_url}/register/\", json=user_data)\n",
    "print(\"Rejestracja użytkownika:\", response.json())"
   ]
  },
  {
   "cell_type": "code",
   "execution_count": 4,
   "metadata": {},
   "outputs": [
    {
     "name": "stdout",
     "output_type": "stream",
     "text": [
      "Logowanie użytkownika: {'message': 'Login successful'}\n"
     ]
    }
   ],
   "source": [
    "login_data = {\n",
    "    \"username\": \"1234\",\n",
    "    \"password\": \"1234\"\n",
    "}\n",
    "\n",
    "# Logowanie użytkownika\n",
    "response = requests.post(f\"{base_url}/login/\", json=login_data)\n",
    "print(\"Logowanie użytkownika:\", response.json())"
   ]
  }
 ],
 "metadata": {
  "kernelspec": {
   "display_name": ".venv",
   "language": "python",
   "name": "python3"
  },
  "language_info": {
   "codemirror_mode": {
    "name": "ipython",
    "version": 3
   },
   "file_extension": ".py",
   "mimetype": "text/x-python",
   "name": "python",
   "nbconvert_exporter": "python",
   "pygments_lexer": "ipython3",
   "version": "3.11.2"
  }
 },
 "nbformat": 4,
 "nbformat_minor": 2
}
