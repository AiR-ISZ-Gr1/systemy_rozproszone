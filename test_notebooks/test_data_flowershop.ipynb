{
 "cells": [
  {
   "cell_type": "code",
   "execution_count": 3,
   "metadata": {},
   "outputs": [],
   "source": [
    "import pandas as pd\n",
    "import numpy as np\n",
    "import nanoid\n",
    "import pymongo\n",
    "from openai import OpenAI\n",
    "import requests"
   ]
  },
  {
   "cell_type": "code",
   "execution_count": 76,
   "metadata": {},
   "outputs": [],
   "source": [
    "quantites = np.random.randint(1,100,size=48)\n",
    "prices_buy = np.random.randint(1,2,size=48)*10 + np.random.randint(0,10,size=48) + np.random.randint(0,10,size=48)*0.1\n",
    "prices_sale = prices_buy - np.random.randint(0,10,size=48) + np.random.randint(0,10,size=48)*0.1\n"
   ]
  },
  {
   "cell_type": "code",
   "execution_count": 130,
   "metadata": {},
   "outputs": [],
   "source": [
    "data = pd.read_csv('data/flowershopdata.csv')\n",
    "data['Description'] = data[['Description', 'Needs','Season']].apply(lambda x: ' '.join(x.dropna().astype(str)), axis=1)\n",
    "data['Buy_price'] = prices_buy\n",
    "data['Sale_price'] = np.round(prices_sale,2)\n",
    "data['Quantities'] = quantites\n",
    "jpg_paths = [f\"/Users/kacperjarzyna/systemy_rozproszone/test_notebooks/data/img_flowers/{flower.lower()}.jpg\" for flower in data['Name']]\n",
    "data['pic_path'] = jpg_paths\n",
    "data['id'] = [nanoid.generate(size=10) for x in range(48)]\n",
    "data.drop(columns=['Needs','Season'],inplace=True)"
   ]
  },
  {
   "cell_type": "code",
   "execution_count": 131,
   "metadata": {},
   "outputs": [],
   "source": [
    "data.to_csv('data/flowershopdata_clean.csv')"
   ]
  },
  {
   "cell_type": "code",
   "execution_count": 46,
   "metadata": {},
   "outputs": [],
   "source": [
    "import os\n",
    "import requests\n",
    "from bs4 import BeautifulSoup\n",
    "from PIL import Image\n",
    "from io import BytesIO\n",
    "from selenium import webdriver\n",
    "from selenium.webdriver.common.by import By\n",
    "import time\n",
    "\n",
    "def fetch_first_image_url(query):\n",
    "    options = webdriver.SafariOptions()\n",
    "    driver = webdriver.Safari(options=options)\n",
    "\n",
    "    search_url = f\"https://pl.pinterest.com/search/pins/?q={query}%20flower&rs=typed\"\n",
    "    driver.get(search_url)\n",
    "\n",
    "    time.sleep(2)\n",
    "    image_elements = driver.find_elements(By.CSS_SELECTOR, 'img')\n",
    "\n",
    "    if len(image_elements) >= 10:\n",
    "        # Get the URL of the 10th image\n",
    "        image_element = image_elements[9]  # Index 9 corresponds to the 10th image (0-based index)\n",
    "        image_url = image_element.get_attribute('src')\n",
    "    else:\n",
    "        print(\"Not enough images found on the page\")\n",
    "        image_url = None\n",
    "\n",
    "    driver.quit()\n",
    "    return image_url\n",
    "\n",
    "def save_image_from_url(url, directory, filename):\n",
    "    response = requests.get(url)\n",
    "    image = Image.open(BytesIO(response.content))\n",
    "    image_path = os.path.join(directory, filename)\n",
    "    image.save(image_path)\n",
    "    print(f\"Image saved to {image_path}\")\n",
    "\n"
   ]
  },
  {
   "cell_type": "code",
   "execution_count": 6,
   "metadata": {},
   "outputs": [],
   "source": [
    "import nanoid\n",
    "def create_product(product_data):\n",
    "    base_url = \"http://127.0.0.1:8000\"\n",
    "    response = requests.post(f\"{base_url}/products/\", json=product_data)\n",
    "    print(response.json())"
   ]
  },
  {
   "cell_type": "code",
   "execution_count": 7,
   "metadata": {},
   "outputs": [],
   "source": [
    "data = pd.read_csv('data/flowershopdata_clean.csv').drop(columns=['Unnamed: 0'])\n",
    "# for index,item in data.iterrows():\n",
    "#     product_data = {\n",
    "#     \"id\": item['id'],\n",
    "#     \"name\": item['Name'][0] + item['Name'][1:].lower(),\n",
    "#     \"description\": item['Description'],\n",
    "#     \"sale_price\": item['Sale_price'],\n",
    "#     \"quantity\": item['Quantities'],\n",
    "#     \"buy_price\": item['Buy_price'],\n",
    "#     \"date\": 'None',\n",
    "#     \"picture_path\": item['pic_path']\n",
    "#     }\n",
    "#     create_product(product_data)\n"
   ]
  },
  {
   "cell_type": "code",
   "execution_count": 70,
   "metadata": {},
   "outputs": [
    {
     "name": "stdout",
     "output_type": "stream",
     "text": [
      "Collection exits\n"
     ]
    }
   ],
   "source": [
    "from sentence_transformers import SentenceTransformer, util\n",
    "from qdrant_client import QdrantClient\n",
    "from qdrant_client.models import Distance, VectorParams\n",
    "from qdrant_client.models import PointStruct\n",
    "\n",
    "model = SentenceTransformer('intfloat/e5-small-v2')\n",
    "vec_len = model[1].word_embedding_dimension\n",
    "client = QdrantClient(url=\"http://127.0.0.1:6333\")\n",
    "names = [item.name for item in client.get_collections().collections]\n",
    "if 'products_description' not in names:\n",
    "    client.create_collection(\n",
    "        collection_name=\"products_description\",\n",
    "        vectors_config=VectorParams(size=vec_len, distance=Distance.COSINE),)\n",
    "else:\n",
    "    print('Collection exits')\n"
   ]
  },
  {
   "cell_type": "code",
   "execution_count": 74,
   "metadata": {},
   "outputs": [
    {
     "data": {
      "text/plain": [
       "True"
      ]
     },
     "execution_count": 74,
     "metadata": {},
     "output_type": "execute_result"
    }
   ],
   "source": [
    "client.delete_collection(\"products_description\")"
   ]
  },
  {
   "cell_type": "code",
   "execution_count": 8,
   "metadata": {},
   "outputs": [],
   "source": [
    "points = [PointStruct(id=index, \n",
    "                      vector=model.encode(item['Description'], normalize_embeddings=True), \n",
    "                      payload={\"Id\": item['id'],\n",
    "                               \"Name\": item['Name'],\n",
    "                               \"Description\":item['Description']}) for index,item in data.iterrows()]\n"
   ]
  },
  {
   "cell_type": "code",
   "execution_count": 215,
   "metadata": {},
   "outputs": [
    {
     "name": "stdout",
     "output_type": "stream",
     "text": [
      "operation_id=0 status=<UpdateStatus.COMPLETED: 'completed'>\n"
     ]
    }
   ],
   "source": [
    "operation_info = client.upsert(\n",
    "    collection_name=\"products_description\",\n",
    "    wait=True,\n",
    "    points=points,\n",
    ")\n",
    "\n",
    "print(operation_info)"
   ]
  },
  {
   "cell_type": "code",
   "execution_count": 88,
   "metadata": {},
   "outputs": [],
   "source": [
    "question = \"I would like white flower that needs acidic soil\"\n",
    "model = SentenceTransformer(\"intfloat/e5-small-v2\")\n",
    "bot = Chatbot(data = {\n",
    "    \"mongo_client\": MongoClient(\"mongodb://localhost:27017/\"),\n",
    "    \"qdrant_client\": QdrantClient(\"http://localhost:6333\"),\n",
    "    \"openai_client\":  OpenAI(api_key=\"sk-proj-8j1NyU5gvA4njucbGG3uT3BlbkFJxBLHcRn4z7futfYb4sgb\")\n",
    "}, embedding_model= model)"
   ]
  },
  {
   "cell_type": "code",
   "execution_count": 90,
   "metadata": {},
   "outputs": [],
   "source": [
    "dwa = bot.qdrant_search(question)"
   ]
  },
  {
   "cell_type": "code",
   "execution_count": 91,
   "metadata": {},
   "outputs": [
    {
     "data": {
      "text/plain": [
       "[ScoredPoint(id=24, version=0, score=0.8672363, payload={'Description': 'Large clusters of blooms, often used in landscaping for their showy flowers and evergreen foliage. The petals come in various colors including pink, red, white, and purple. Needs acidic soil. Blooms in spring. Requires moderate sunlight and moderate water.', 'Id': 'ls2RVznjzh', 'Name': 'RHODODENDRON'}, vector=None, shard_key=None),\n",
       " ScoredPoint(id=47, version=0, score=0.8601799, payload={'Description': 'Dainty, daisy-like flowers that are easy to grow and come in shades of pink, white, and orange. The petals come in shades of pink, white, and orange. Needs well-drained soil. Blooms in summer to fall. Requires full sun and moderate water.', 'Id': 'T0wtC8urCv', 'Name': 'COSMOS'}, vector=None, shard_key=None),\n",
       " ScoredPoint(id=21, version=0, score=0.852825, payload={'Description': 'Small, bell-shaped flowers, often used as ground cover and in rock gardens, known for their resilience and beauty. The petals are various shades including white, pink, and purple. Needs acidic soil. Blooms in late summer to fall. Requires moderate sunlight and low water.', 'Id': '-HiMtaCJm-', 'Name': 'HEATHER'}, vector=None, shard_key=None)]"
      ]
     },
     "execution_count": 91,
     "metadata": {},
     "output_type": "execute_result"
    }
   ],
   "source": [
    "dwa"
   ]
  },
  {
   "cell_type": "code",
   "execution_count": 111,
   "metadata": {},
   "outputs": [],
   "source": [
    "import requests\n",
    "async def search_mongo(results):\n",
    "    all_jsons = []\n",
    "    for flower_id in [res.payload.get('Id') for res in results]:\n",
    "        item = await requests.get(f\"http://127.0.0.1:8000/products/{flower_id}\").json()\n",
    "        json_data = {'Name':item.get('name'), 'Description':item.get('description'),'Quantity': item.get('quantity')}\n",
    "        all_jsons.append(json_data)\n",
    "    return all_jsons\n"
   ]
  },
  {
   "cell_type": "code",
   "execution_count": 121,
   "metadata": {},
   "outputs": [],
   "source": [
    "import aiohttp\n",
    "import asyncio\n",
    "\n"
   ]
  },
  {
   "cell_type": "code",
   "execution_count": 122,
   "metadata": {},
   "outputs": [
    {
     "data": {
      "text/plain": [
       "[{'Name': 'Rhododendron',\n",
       "  'Description': 'Large clusters of blooms, often used in landscaping for their showy flowers and evergreen foliage. The petals come in various colors including pink, red, white, and purple. Needs acidic soil. Blooms in spring. Requires moderate sunlight and moderate water.',\n",
       "  'Quantity': 7},\n",
       " {'Name': 'Cosmos',\n",
       "  'Description': 'Dainty, daisy-like flowers that are easy to grow and come in shades of pink, white, and orange. The petals come in shades of pink, white, and orange. Needs well-drained soil. Blooms in summer to fall. Requires full sun and moderate water.',\n",
       "  'Quantity': 11},\n",
       " {'Name': 'Heather',\n",
       "  'Description': 'Small, bell-shaped flowers, often used as ground cover and in rock gardens, known for their resilience and beauty. The petals are various shades including white, pink, and purple. Needs acidic soil. Blooms in late summer to fall. Requires moderate sunlight and low water.',\n",
       "  'Quantity': 66}]"
      ]
     },
     "execution_count": 122,
     "metadata": {},
     "output_type": "execute_result"
    }
   ],
   "source": [
    "await search_mongo(dwa)"
   ]
  },
  {
   "cell_type": "code",
   "execution_count": 4,
   "metadata": {},
   "outputs": [
    {
     "name": "stdout",
     "output_type": "stream",
     "text": [
      "{'_id': ObjectId('6658b8fe66aa40e2c10584e1'), 'id': 'p7rMQlu3Ks', 'name': 'wegweg', 'description': 'weg', 'sell_price': 0.03, 'quantity': 35, 'buy_price': 0.060000000000000005, 'date': '30-05-2024 19:51:08', 'image_id': None, 'tags': ['Flower', 'Object']}\n",
      "{'_id': ObjectId('6658c9c066aa40e2c10584f3'), 'id': '3WUyaMkI71', 'name': 'ehthedth', 'description': 'ejriu', 'sell_price': 0.05, 'quantity': 11, 'buy_price': 0.07, 'date': '30-05-2024 18:47:28', 'image_id': '6658c9c066aa40e2c10584f1', 'tags': ['Flower']}\n",
      "{'_id': ObjectId('6658c9e466aa40e2c10584f6'), 'id': 'Gne7Or2vKv', 'name': 'Różaaa', 'description': 'ejridgs', 'sell_price': 0.05, 'quantity': 10, 'buy_price': 0.07, 'date': '31-05-2024 18:21:16', 'image_id': None, 'tags': ['Flower']}\n",
      "{'_id': ObjectId('6658d07966aa40e2c10584f9'), 'id': 'D_udOm_Qta', 'name': 'dfgdrhdd', 'description': 'srthsthss', 'sell_price': 0.02, 'quantity': 8, 'buy_price': 0.060000000000000005, 'date': '30-05-2024 19:16:09', 'image_id': '6658d07966aa40e2c10584f7', 'tags': ['Flower', 'Manure']}\n",
      "{'_id': ObjectId('6658d1a766aa40e2c10584fc'), 'id': 'K7vAmWuQ0y', 'name': 'dfgdrhdda', 'description': 'srthsthss', 'sell_price': 0.02, 'quantity': 7, 'buy_price': 0.060000000000000005, 'date': '30-05-2024 19:21:11', 'image_id': '6658d1a766aa40e2c10584fa', 'tags': ['Flower', 'Manure']}\n",
      "{'_id': ObjectId('665a1193e80cbb0ea8e045b5'), 'id': 'FVGc4xcb0f', 'name': 'dgsgsg', 'description': 'test', 'sell_price': 0.01, 'quantity': 6, 'buy_price': 0.02, 'date': '31-05-2024 18:06:11', 'image_id': '665a1193e80cbb0ea8e045b3', 'tags': ['Flower']}\n",
      "{'_id': ObjectId('665a1234e80cbb0ea8e045bb'), 'id': 'ZiwaGu7bww', 'name': 'Róża', 'description': 'fgherhery', 'sell_price': 0.07, 'quantity': 7, 'buy_price': 0.01, 'date': '31-05-2024 18:08:52', 'image_id': '665a1234e80cbb0ea8e045b9', 'tags': ['Flower']}\n",
      "{'_id': ObjectId('665a13678e5d174e78311275'), 'id': 'ht799fUoDZ', 'name': 'wegwega', 'description': 'fgherhery', 'sell_price': 0.07, 'quantity': 7, 'buy_price': 0.01, 'date': '31-05-2024 18:13:59', 'image_id': '665a13678e5d174e78311273', 'tags': ['Flower']}\n",
      "{'_id': ObjectId('665a5168c702187b24aefe76'), 'id': '2kPkIOva97', 'name': 'Rose', 'description': 'Over 100 species of rose exist along with almost countless cultivars, known for their beauty and fragrance, often symbols of love and admiration. Needs well-drained soil. Blooms in late spring to early fall. Petal colors: various colors. Requires full sun and moderate water.', 'sell_price': 0, 'quantity': 83, 'buy_price': 14.0, 'date': 'None', 'image_id': None, 'tags': []}\n",
      "{'_id': ObjectId('665a5168c702187b24aefe77'), 'id': 'rYitHikVVp', 'name': 'Zinnia', 'description': 'Large blooms in vibrant colors that attract butterflies, zinnias are popular for their long-lasting flowers and ease of growth. Needs well-drained soil. Blooms in mid-summer to mid-fall. Petal colors: vibrant colors. Requires full sun and moderate water.', 'sell_price': 0, 'quantity': 29, 'buy_price': 13.5, 'date': 'None', 'image_id': None, 'tags': []}\n",
      "{'_id': ObjectId('665a5168c702187b24aefe78'), 'id': 'JiAOlhSlnZ', 'name': 'Bloodroot', 'description': 'Named for its red colored sap that flows from cut stems, bloodroot flowers are white with a bright yellow center. Needs well-drained soil. Blooms in early spring. Petal colors: white, yellow center. Requires partial shade and low water.', 'sell_price': 0, 'quantity': 14, 'buy_price': 13.5, 'date': 'None', 'image_id': None, 'tags': []}\n",
      "{'_id': ObjectId('665a5168c702187b24aefe79'), 'id': 'hisoAMVDAk', 'name': 'Violet', 'description': 'A common house plant, they come in many colors and are known for their delicate, heart-shaped leaves and small blooms. Needs well-drained soil. Blooms in early spring to early fall. Petal colors: various colors. Requires partial shade and moderate water.', 'sell_price': 0, 'quantity': 63, 'buy_price': 10.7, 'date': 'None', 'image_id': None, 'tags': []}\n",
      "{'_id': ObjectId('665a5169c702187b24aefe7a'), 'id': 'Sfxy8V7ed3', 'name': 'Daffodil', 'description': 'Known for their trumpet-like flowers and bright yellow petals, daffodils are a harbinger of spring. Needs well-drained soil. Blooms in early spring. Petal colors: yellow. Requires full sun and moderate water.', 'sell_price': 0, 'quantity': 10, 'buy_price': 16.8, 'date': 'None', 'image_id': None, 'tags': []}\n",
      "{'_id': ObjectId('665a5169c702187b24aefe7b'), 'id': '2EZlyYL3k9', 'name': 'Marigold', 'description': 'Popular for their vibrant orange and yellow blooms, marigolds are easy to grow and can help repel garden pests. Needs full sun. Blooms in summer to fall. Petal colors: orange, yellow. Requires full sun and moderate water.', 'sell_price': 0, 'quantity': 11, 'buy_price': 17.0, 'date': 'None', 'image_id': None, 'tags': []}\n",
      "{'_id': ObjectId('665a5169c702187b24aefe7c'), 'id': 'jmIOTEWMxQ', 'name': 'Hydrangea', 'description': 'Large flower heads and a variety of colors, usually blue, pink, or white, hydrangeas are beloved in garden landscapes. Needs moist soil. Blooms in late spring to summer. Petal colors: blue, pink, white. Requires partial shade and high water.', 'sell_price': 0, 'quantity': 47, 'buy_price': 19.8, 'date': 'None', 'image_id': None, 'tags': []}\n",
      "{'_id': ObjectId('665a5169c702187b24aefe7d'), 'id': 'JfNkxSyqVZ', 'name': 'Lavender', 'description': 'Famous for its fragrance, often used in oils and sachets, lavender is also known for its beautiful purple flowers. Needs well-drained soil. Blooms in late spring to early summer. Petal colors: purple. Requires full sun and low water.', 'sell_price': 0, 'quantity': 68, 'buy_price': 11.3, 'date': 'None', 'image_id': None, 'tags': []}\n",
      "{'_id': ObjectId('665a5169c702187b24aefe7e'), 'id': '-xkQhsRPtM', 'name': 'Peony', 'description': 'Known for their large, often fragrant blooms, peonies are a garden favorite and come in a variety of colors. Needs rich, well-drained soil. Blooms in late spring to early summer. Petal colors: various colors. Requires full sun and moderate water.', 'sell_price': 0, 'quantity': 53, 'buy_price': 18.6, 'date': 'None', 'image_id': None, 'tags': []}\n",
      "{'_id': ObjectId('665a5169c702187b24aefe7f'), 'id': 'Vjt_4SJe4_', 'name': 'Daisy', 'description': 'Simple and charming, daisies are a symbol of innocence and purity, recognized by their white petals and yellow centers. Needs well-drained soil. Blooms in spring to autumn. Petal colors: white, yellow center. Requires full sun and moderate water.', 'sell_price': 0, 'quantity': 25, 'buy_price': 17.5, 'date': 'None', 'image_id': None, 'tags': []}\n",
      "{'_id': ObjectId('665a5169c702187b24aefe80'), 'id': 'uKJmCwCaiD', 'name': 'Chrysanthemum', 'description': 'Known as mums, these flowers come in a variety of colors and are popular in fall gardens for their vibrant blooms. Needs well-drained soil. Blooms in late summer to fall. Petal colors: various colors. Requires full sun and moderate water.', 'sell_price': 0, 'quantity': 98, 'buy_price': 18.9, 'date': 'None', 'image_id': None, 'tags': []}\n",
      "{'_id': ObjectId('665a5169c702187b24aefe81'), 'id': 'ft1U6bLfiS', 'name': 'Aster', 'description': 'Star-shaped flowers that come in many colors, asters are a great addition to any garden and attract pollinators. Needs well-drained soil. Blooms in late summer to fall. Petal colors: various colors. Requires full sun and moderate water.', 'sell_price': 0, 'quantity': 55, 'buy_price': 12.5, 'date': 'None', 'image_id': None, 'tags': []}\n",
      "{'_id': ObjectId('665a5169c702187b24aefe82'), 'id': 'p2Gw5Nv8xC', 'name': 'Iris', 'description': 'Distinctive flowers with unique petal arrangements and a wide range of colors, irises are named after the Greek goddess of the rainbow. Needs well-drained soil. Blooms in late spring to early summer. Petal colors: various colors. Requires full sun to partial shade and moderate water.', 'sell_price': 0, 'quantity': 17, 'buy_price': 16.8, 'date': 'None', 'image_id': None, 'tags': []}\n",
      "{'_id': ObjectId('665a5169c702187b24aefe83'), 'id': 'u-ea2SSsjX', 'name': 'Sunflower', 'description': 'Tall and bright, they follow the sun across the sky and are known for their large, cheerful blooms. Needs full sun. Blooms in summer. Petal colors: yellow. Requires full sun and moderate water.', 'sell_price': 0, 'quantity': 76, 'buy_price': 12.7, 'date': 'None', 'image_id': None, 'tags': []}\n",
      "{'_id': ObjectId('665a5169c702187b24aefe84'), 'id': 'Yn9yf4vcrc', 'name': 'Orchid', 'description': 'Exotic flowers with intricate patterns, often grown as houseplants, orchids come in many varieties and colors. Needs well-drained, humid soil. Blooms throughout the year. Petal colors: various colors. Requires partial shade and high water.', 'sell_price': 0, 'quantity': 74, 'buy_price': 19.8, 'date': 'None', 'image_id': None, 'tags': []}\n",
      "{'_id': ObjectId('665a5169c702187b24aefe85'), 'id': 'jMSZTFW1K-', 'name': 'Begonia', 'description': 'Popular in gardens and as houseplants, they come in a variety of colors and forms, known for their vibrant blooms and foliage. Needs moist, well-drained soil. Blooms in summer. Petal colors: various colors. Requires partial shade and high water.', 'sell_price': 0, 'quantity': 49, 'buy_price': 18.2, 'date': 'None', 'image_id': None, 'tags': []}\n",
      "{'_id': ObjectId('665a5169c702187b24aefe86'), 'id': 'EO5BgT0ja7', 'name': 'Forsythia', 'description': 'Early blooming shrub with bright yellow flowers that herald the arrival of spring. Petal color: bright yellow. Needs well-drained soil. Blooms in early spring. Requires full sun and moderate water.', 'sell_price': 0, 'quantity': 33, 'buy_price': 14.4, 'date': 'None', 'image_id': None, 'tags': []}\n",
      "{'_id': ObjectId('665a5169c702187b24aefe87'), 'id': '-HiMtaCJm-', 'name': 'Heather', 'description': 'Small, bell-shaped flowers, often used as ground cover and in rock gardens, known for their resilience and beauty. The petals are various shades including white, pink, and purple. Needs acidic soil. Blooms in late summer to fall. Requires moderate sunlight and low water.', 'sell_price': 0, 'quantity': 66, 'buy_price': 14.4, 'date': 'None', 'image_id': None, 'tags': []}\n",
      "{'_id': ObjectId('665a5169c702187b24aefe88'), 'id': 'jT4ORg85AL', 'name': 'Jasmine', 'description': 'Known for their sweet fragrance, often used in perfumes and teas, jasmine flowers are small and usually white or yellow. The petals are white or yellow. Needs well-drained soil. Blooms in summer. Requires moderate sunlight and moderate water.', 'sell_price': 0, 'quantity': 76, 'buy_price': 16.3, 'date': 'None', 'image_id': None, 'tags': []}\n",
      "{'_id': ObjectId('665a5169c702187b24aefe89'), 'id': 'Tg5D_1VIea', 'name': 'Azalea', 'description': 'Known for their vibrant blooms and use in bonsai, azaleas are a type of rhododendron with a wide range of colors. The petals come in various colors including pink, red, white, and purple. Needs acidic, well-drained soil. Blooms in spring. Requires moderate sunlight and moderate water.', 'sell_price': 0, 'quantity': 79, 'buy_price': 18.5, 'date': 'None', 'image_id': None, 'tags': []}\n",
      "{'_id': ObjectId('665a5169c702187b24aefe8a'), 'id': 'ls2RVznjzh', 'name': 'Rhododendron', 'description': 'Large clusters of blooms, often used in landscaping for their showy flowers and evergreen foliage. The petals come in various colors including pink, red, white, and purple. Needs acidic soil. Blooms in spring. Requires moderate sunlight and moderate water.', 'sell_price': 0, 'quantity': 7, 'buy_price': 15.2, 'date': 'None', 'image_id': None, 'tags': []}\n",
      "{'_id': ObjectId('665a5169c702187b24aefe8b'), 'id': 'zKrgGDTJ9R', 'name': 'Geranium', 'description': 'Popular in window boxes and gardens, they come in many colors and are known for their long blooming season and easy care. The petals come in various colors including pink, red, white, and purple. Needs well-drained soil. Blooms in spring to fall. Requires moderate sunlight and moderate water.', 'sell_price': 0, 'quantity': 24, 'buy_price': 14.9, 'date': 'None', 'image_id': None, 'tags': []}\n",
      "{'_id': ObjectId('665a5169c702187b24aefe8c'), 'id': 'ccfZvnS6rj', 'name': 'Lobelia', 'description': 'Small, vibrant blue flowers often used in borders and containers, known for their intense color. The petals are blue. Needs well-drained soil. Blooms in summer. Requires high sunlight and moderate water.', 'sell_price': 0, 'quantity': 21, 'buy_price': 11.4, 'date': 'None', 'image_id': None, 'tags': []}\n",
      "{'_id': ObjectId('665a5169c702187b24aefe8d'), 'id': 'w_ynWmR3in', 'name': 'Snapdragon', 'description': 'Tall spikes of flowers that resemble a dragon’s mouth when squeezed, available in a wide range of colors. The petals come in various colors including pink, red, white, and yellow. Needs well-drained soil. Blooms in spring to fall. Requires moderate sunlight and moderate water.', 'sell_price': 0, 'quantity': 9, 'buy_price': 10.5, 'date': 'None', 'image_id': None, 'tags': []}\n",
      "{'_id': ObjectId('665a5169c702187b24aefe8e'), 'id': 'Q1esOQ_t7R', 'name': 'Anemone', 'description': 'Known for their delicate, wind-blown appearance, anemones come in various colors and are often used in floral arrangements. The petals come in various colors including white, pink, and purple. Needs well-drained soil. Blooms in spring or fall. Requires moderate sunlight and moderate water.', 'sell_price': 0, 'quantity': 15, 'buy_price': 11.7, 'date': 'None', 'image_id': None, 'tags': []}\n",
      "{'_id': ObjectId('665a5169c702187b24aefe8f'), 'id': '1QPP3hr2eU', 'name': 'Fuchsia', 'description': 'Recognizable by their pendulous flowers, often in shades of pink, purple, and red, fuchsias are popular in hanging baskets. The petals come in various shades including pink, purple, and red. Needs well-drained soil. Blooms in summer to fall. Requires partial to full shade and moderate water.', 'sell_price': 0, 'quantity': 38, 'buy_price': 15.5, 'date': 'None', 'image_id': None, 'tags': []}\n",
      "{'_id': ObjectId('665a5169c702187b24aefe90'), 'id': 'E9-xIWNd8i', 'name': 'Primrose', 'description': 'Early blooming flowers that come in many colors and are often found in woodlands and shady areas. The petals come in various colors including yellow, pink, and purple. Needs well-drained soil. Blooms in spring. Requires partial shade and moderate water.', 'sell_price': 0, 'quantity': 39, 'buy_price': 15.3, 'date': 'None', 'image_id': None, 'tags': []}\n",
      "{'_id': ObjectId('665a5169c702187b24aefe91'), 'id': 'h1r4AgIjQk', 'name': 'Crocus', 'description': 'One of the first flowers to bloom in spring, they come in a variety of colors and signal the end of winter. The petals come in various colors including purple, yellow, and white. Needs well-drained soil. Blooms in early spring. Requires full sun to partial shade and moderate water.', 'sell_price': 0, 'quantity': 59, 'buy_price': 15.9, 'date': 'None', 'image_id': None, 'tags': []}\n",
      "{'_id': ObjectId('665a5169c702187b24aefe92'), 'id': '6GMZEM1Y0f', 'name': 'Bluebell', 'description': 'Known for their beautiful blue, bell-shaped flowers, often carpeting woodland floors in spring. The petals are blue. Needs moist, well-drained soil. Blooms in spring. Requires partial shade and moderate water.', 'sell_price': 0, 'quantity': 47, 'buy_price': 11.6, 'date': 'None', 'image_id': None, 'tags': []}\n",
      "{'_id': ObjectId('665a5169c702187b24aefe93'), 'id': 'E-UQzkGaJR', 'name': 'Gladiolus', 'description': 'Tall spikes of flowers that are often used in floral arrangements, gladiolus come in many colors and are known for their striking appearance. The petals come in various colors including red, pink, white, and yellow. Needs well-drained soil. Blooms in summer. Requires full sun and moderate water.', 'sell_price': 0, 'quantity': 55, 'buy_price': 12.8, 'date': 'None', 'image_id': None, 'tags': []}\n",
      "{'_id': ObjectId('665a5169c702187b24aefe94'), 'id': 'Q35aQKXBn5', 'name': 'Freesia', 'description': 'Highly fragrant flowers that are often used in bouquets, freesias come in a range of colors and are prized for their scent. The petals come in various colors including white, yellow, pink, and purple. Needs well-drained soil. Blooms in spring to summer. Requires full sun and moderate water.', 'sell_price': 0, 'quantity': 74, 'buy_price': 13.4, 'date': 'None', 'image_id': None, 'tags': []}\n",
      "{'_id': ObjectId('665a5169c702187b24aefe95'), 'id': 'wldPvY84ce', 'name': 'Camellia', 'description': 'Glossy green leaves and beautiful, rose-like flowers make camellias a favorite in southern gardens. The petals come in various colors including pink, red, and white. Needs well-drained, acidic soil. Blooms in winter to spring. Requires partial shade and moderate water.', 'sell_price': 0, 'quantity': 91, 'buy_price': 13.0, 'date': 'None', 'image_id': None, 'tags': []}\n",
      "{'_id': ObjectId('665a5169c702187b24aefe96'), 'id': '53wkWBkKuq', 'name': 'Allium', 'description': 'Known for their spherical flower heads, often purple, alliums are related to onions and garlic and add a unique touch to gardens. The petals are purple. Needs well-drained soil. Blooms in late spring to early summer. Requires full sun and low water.', 'sell_price': 0, 'quantity': 96, 'buy_price': 15.4, 'date': 'None', 'image_id': None, 'tags': []}\n",
      "{'_id': ObjectId('665a5169c702187b24aefe97'), 'id': 'PpHxWONijf', 'name': 'Amaryllis', 'description': 'Large, trumpet-shaped flowers that are often grown indoors during winter, amaryllis come in various colors. The petals come in various colors including red, pink, and white. Needs well-drained soil. Blooms in winter to spring. Requires full sun to partial shade and moderate water.', 'sell_price': 0, 'quantity': 5, 'buy_price': 14.6, 'date': 'None', 'image_id': None, 'tags': []}\n",
      "{'_id': ObjectId('665a5169c702187b24aefe98'), 'id': 'QJLauQy9f-', 'name': 'Delphinium', 'description': 'Tall spikes of flowers that come in various shades of blue, purple, pink, and white, known for their striking height and beauty. The petals come in various shades of blue, purple, pink, and white. Needs well-drained soil. Blooms in early to mid-summer. Requires full sun and moderate water.', 'sell_price': 0, 'quantity': 70, 'buy_price': 18.9, 'date': 'None', 'image_id': None, 'tags': []}\n",
      "{'_id': ObjectId('665a5169c702187b24aefe99'), 'id': 'cXGPWH06cn', 'name': 'Columbine', 'description': 'Distinctive flowers with spurred petals, popular in cottage gardens and attracting hummingbirds. The petals come in various colors including blue, purple, red, and yellow. Needs well-drained soil. Blooms in spring to early summer. Requires partial shade and moderate water.', 'sell_price': 0, 'quantity': 16, 'buy_price': 16.1, 'date': 'None', 'image_id': None, 'tags': []}\n",
      "{'_id': ObjectId('665a5169c702187b24aefe9a'), 'id': 'EPP2wDZzfo', 'name': 'Cornflower', 'description': 'Blue, star-like flowers that are often used in wildflower gardens and are known for their bright color. The petals are blue. Needs well-drained soil. Blooms in summer. Requires full sun and moderate water.', 'sell_price': 0, 'quantity': 5, 'buy_price': 14.5, 'date': 'None', 'image_id': None, 'tags': []}\n",
      "{'_id': ObjectId('665a5169c702187b24aefe9b'), 'id': 'ARBkR2r4Kx', 'name': 'Gazania', 'description': 'Sun-loving flowers with daisy-like blooms that close at night and in cloudy weather, available in a variety of bright colors. The petals come in various bright colors. Needs well-drained soil. Blooms in summer. Requires full sun and low water.', 'sell_price': 0, 'quantity': 51, 'buy_price': 11.4, 'date': 'None', 'image_id': None, 'tags': []}\n",
      "{'_id': ObjectId('665a5169c702187b24aefe9c'), 'id': 'S8lPwv8OS3', 'name': 'Heliotrope', 'description': 'Known for their sweet vanilla-like fragrance, heliotrope flowers are clusters of small, usually purple or white blooms. The petals are usually purple or white. Needs well-drained soil. Blooms in summer to fall. Requires moderate sunlight and high water.', 'sell_price': 0, 'quantity': 9, 'buy_price': 10.4, 'date': 'None', 'image_id': None, 'tags': []}\n",
      "{'_id': ObjectId('665a5169c702187b24aefe9d'), 'id': 'A_0zsEPGUj', 'name': 'Impatiens', 'description': 'Popular shade-loving flowers that come in a wide range of colors, often used in hanging baskets and as bedding plants. The petals come in a wide range of colors. Needs moist, well-drained soil. Blooms in spring to fall. Requires partial to full shade and moderate water.', 'sell_price': 0, 'quantity': 40, 'buy_price': 15.1, 'date': 'None', 'image_id': None, 'tags': []}\n",
      "{'_id': ObjectId('665a5169c702187b24aefe9e'), 'id': 'hEmCRBQSZ_', 'name': 'Canna', 'description': 'Large, tropical-looking flowers that add a touch of the exotic to gardens, cannas come in vibrant colors and have bold foliage. The petals come in vibrant colors. Needs well-drained soil. Blooms in summer to fall. Requires full sun and moderate water.', 'sell_price': 0, 'quantity': 44, 'buy_price': 18.5, 'date': 'None', 'image_id': None, 'tags': []}\n",
      "{'_id': ObjectId('665a5169c702187b24aefe9f'), 'id': 'c9KtrOCmCe', 'name': 'Coreopsis', 'description': 'Daisy-like flowers that are known for their long blooming period and bright yellow or orange colors. The petals are bright yellow or orange. Needs well-drained soil. Blooms in summer to fall. Requires full sun and moderate water.', 'sell_price': 0, 'quantity': 61, 'buy_price': 16.9, 'date': 'None', 'image_id': None, 'tags': []}\n",
      "{'_id': ObjectId('665a5169c702187b24aefea0'), 'id': '9_YXXpwFMt', 'name': 'Verbena', 'description': 'Clusters of small, colorful flowers that are perfect for hanging baskets and borders, known for their long bloom period. The petals come in various colors. Needs well-drained soil. Blooms in summer to fall. Requires full sun and moderate water.', 'sell_price': 0, 'quantity': 99, 'buy_price': 12.3, 'date': 'None', 'image_id': None, 'tags': []}\n",
      "{'_id': ObjectId('665a5169c702187b24aefea1'), 'id': 'T0wtC8urCv', 'name': 'Cosmos', 'description': 'Dainty, daisy-like flowers that are easy to grow and come in shades of pink, white, and orange. The petals come in shades of pink, white, and orange. Needs well-drained soil. Blooms in summer to fall. Requires full sun and moderate water.', 'sell_price': 0, 'quantity': 11, 'buy_price': 16.2, 'date': 'None', 'image_id': None, 'tags': []}\n",
      "{'_id': ObjectId('665a637eb3076b6c91d5fbf2'), 'id': 'P_wQaTEhxF', 'name': 'Periwinkle', 'description': 'Perfect as a ground cover, the flowers resemble small, delicate stars and are often found in shades of blue, purple, and white. Needs droughty soil. Blooms in mid-spring to mid-fall. Petal colors: blue, purple, white. Requires partial shade and low water.', 'sell_price': 0, 'quantity': 2, 'buy_price': 12.3, 'date': 'None', 'image_id': None, 'tags': []}\n",
      "{'_id': ObjectId('665a637eb3076b6c91d5fbf3'), 'id': '3R7y315Ofw', 'name': 'Bellflower', 'description': 'Known for their resemblance to bells, these flowers come in shades of blue, purple, pink, and white and add a whimsical touch to any garden. Needs well-drained soil. Blooms in early summer to early fall. Petal colors: blue, purple, pink, white. Requires full sun to partial shade and moderate water.', 'sell_price': 0, 'quantity': 36, 'buy_price': 12.8, 'date': 'None', 'image_id': None, 'tags': []}\n",
      "{'_id': ObjectId('665a637eb3076b6c91d5fbf4'), 'id': '8IbYkmbd20', 'name': 'Lily', 'description': 'A highly recognized flower which has bright colors and a distinct fragrance, lilies are often associated with purity and refined beauty. Needs well-drained soil. Blooms in spring to early fall. Petal colors: various bright colors. Requires full sun to partial shade and moderate water.', 'sell_price': 0, 'quantity': 77, 'buy_price': 13.2, 'date': 'None', 'image_id': None, 'tags': []}\n",
      "{'_id': ObjectId('665a637eb3076b6c91d5fbf5'), 'id': 'WcSVYJCihK', 'name': 'Tulip', 'description': 'Great as a cut flower, they come in every color of the rainbow and are symbolic of spring and renewal. Needs well-drained soil. Blooms in spring. Petal colors: various colors. Requires full sun and moderate water.', 'sell_price': 0, 'quantity': 93, 'buy_price': 17.4, 'date': 'None', 'image_id': None, 'tags': []}\n",
      "{'_id': ObjectId('665a637eb3076b6c91d5fbf6'), 'id': '2kPkIOva97', 'name': 'Rose', 'description': 'Over 100 species of rose exist along with almost countless cultivars, known for their beauty and fragrance, often symbols of love and admiration. Needs well-drained soil. Blooms in late spring to early fall. Petal colors: various colors. Requires full sun and moderate water.', 'sell_price': 0, 'quantity': 83, 'buy_price': 14.0, 'date': 'None', 'image_id': None, 'tags': []}\n",
      "{'_id': ObjectId('665a637eb3076b6c91d5fbf7'), 'id': 'rYitHikVVp', 'name': 'Zinnia', 'description': 'Large blooms in vibrant colors that attract butterflies, zinnias are popular for their long-lasting flowers and ease of growth. Needs well-drained soil. Blooms in mid-summer to mid-fall. Petal colors: vibrant colors. Requires full sun and moderate water.', 'sell_price': 0, 'quantity': 29, 'buy_price': 13.5, 'date': 'None', 'image_id': None, 'tags': []}\n",
      "{'_id': ObjectId('665a637eb3076b6c91d5fbf8'), 'id': 'JiAOlhSlnZ', 'name': 'Bloodroot', 'description': 'Named for its red colored sap that flows from cut stems, bloodroot flowers are white with a bright yellow center. Needs well-drained soil. Blooms in early spring. Petal colors: white, yellow center. Requires partial shade and low water.', 'sell_price': 0, 'quantity': 14, 'buy_price': 13.5, 'date': 'None', 'image_id': None, 'tags': []}\n",
      "{'_id': ObjectId('665a637eb3076b6c91d5fbf9'), 'id': 'hisoAMVDAk', 'name': 'Violet', 'description': 'A common house plant, they come in many colors and are known for their delicate, heart-shaped leaves and small blooms. Needs well-drained soil. Blooms in early spring to early fall. Petal colors: various colors. Requires partial shade and moderate water.', 'sell_price': 0, 'quantity': 63, 'buy_price': 10.7, 'date': 'None', 'image_id': None, 'tags': []}\n",
      "{'_id': ObjectId('665a637eb3076b6c91d5fbfa'), 'id': 'Sfxy8V7ed3', 'name': 'Daffodil', 'description': 'Known for their trumpet-like flowers and bright yellow petals, daffodils are a harbinger of spring. Needs well-drained soil. Blooms in early spring. Petal colors: yellow. Requires full sun and moderate water.', 'sell_price': 0, 'quantity': 10, 'buy_price': 16.8, 'date': 'None', 'image_id': None, 'tags': []}\n",
      "{'_id': ObjectId('665a637eb3076b6c91d5fbfb'), 'id': '2EZlyYL3k9', 'name': 'Marigold', 'description': 'Popular for their vibrant orange and yellow blooms, marigolds are easy to grow and can help repel garden pests. Needs full sun. Blooms in summer to fall. Petal colors: orange, yellow. Requires full sun and moderate water.', 'sell_price': 0, 'quantity': 11, 'buy_price': 17.0, 'date': 'None', 'image_id': None, 'tags': []}\n",
      "{'_id': ObjectId('665a637eb3076b6c91d5fbfc'), 'id': 'jmIOTEWMxQ', 'name': 'Hydrangea', 'description': 'Large flower heads and a variety of colors, usually blue, pink, or white, hydrangeas are beloved in garden landscapes. Needs moist soil. Blooms in late spring to summer. Petal colors: blue, pink, white. Requires partial shade and high water.', 'sell_price': 0, 'quantity': 47, 'buy_price': 19.8, 'date': 'None', 'image_id': None, 'tags': []}\n",
      "{'_id': ObjectId('665a637eb3076b6c91d5fbfd'), 'id': 'JfNkxSyqVZ', 'name': 'Lavender', 'description': 'Famous for its fragrance, often used in oils and sachets, lavender is also known for its beautiful purple flowers. Needs well-drained soil. Blooms in late spring to early summer. Petal colors: purple. Requires full sun and low water.', 'sell_price': 0, 'quantity': 68, 'buy_price': 11.3, 'date': 'None', 'image_id': None, 'tags': []}\n",
      "{'_id': ObjectId('665a637eb3076b6c91d5fbfe'), 'id': '-xkQhsRPtM', 'name': 'Peony', 'description': 'Known for their large, often fragrant blooms, peonies are a garden favorite and come in a variety of colors. Needs rich, well-drained soil. Blooms in late spring to early summer. Petal colors: various colors. Requires full sun and moderate water.', 'sell_price': 0, 'quantity': 53, 'buy_price': 18.6, 'date': 'None', 'image_id': None, 'tags': []}\n",
      "{'_id': ObjectId('665a637eb3076b6c91d5fbff'), 'id': 'Vjt_4SJe4_', 'name': 'Daisy', 'description': 'Simple and charming, daisies are a symbol of innocence and purity, recognized by their white petals and yellow centers. Needs well-drained soil. Blooms in spring to autumn. Petal colors: white, yellow center. Requires full sun and moderate water.', 'sell_price': 0, 'quantity': 25, 'buy_price': 17.5, 'date': 'None', 'image_id': None, 'tags': []}\n",
      "{'_id': ObjectId('665a637eb3076b6c91d5fc00'), 'id': 'uKJmCwCaiD', 'name': 'Chrysanthemum', 'description': 'Known as mums, these flowers come in a variety of colors and are popular in fall gardens for their vibrant blooms. Needs well-drained soil. Blooms in late summer to fall. Petal colors: various colors. Requires full sun and moderate water.', 'sell_price': 0, 'quantity': 98, 'buy_price': 18.9, 'date': 'None', 'image_id': None, 'tags': []}\n",
      "{'_id': ObjectId('665a637eb3076b6c91d5fc01'), 'id': 'ft1U6bLfiS', 'name': 'Aster', 'description': 'Star-shaped flowers that come in many colors, asters are a great addition to any garden and attract pollinators. Needs well-drained soil. Blooms in late summer to fall. Petal colors: various colors. Requires full sun and moderate water.', 'sell_price': 0, 'quantity': 55, 'buy_price': 12.5, 'date': 'None', 'image_id': None, 'tags': []}\n",
      "{'_id': ObjectId('665a637eb3076b6c91d5fc02'), 'id': 'p2Gw5Nv8xC', 'name': 'Iris', 'description': 'Distinctive flowers with unique petal arrangements and a wide range of colors, irises are named after the Greek goddess of the rainbow. Needs well-drained soil. Blooms in late spring to early summer. Petal colors: various colors. Requires full sun to partial shade and moderate water.', 'sell_price': 0, 'quantity': 17, 'buy_price': 16.8, 'date': 'None', 'image_id': None, 'tags': []}\n",
      "{'_id': ObjectId('665a637eb3076b6c91d5fc03'), 'id': 'u-ea2SSsjX', 'name': 'Sunflower', 'description': 'Tall and bright, they follow the sun across the sky and are known for their large, cheerful blooms. Needs full sun. Blooms in summer. Petal colors: yellow. Requires full sun and moderate water.', 'sell_price': 0, 'quantity': 76, 'buy_price': 12.7, 'date': 'None', 'image_id': None, 'tags': []}\n",
      "{'_id': ObjectId('665a637eb3076b6c91d5fc04'), 'id': 'Yn9yf4vcrc', 'name': 'Orchid', 'description': 'Exotic flowers with intricate patterns, often grown as houseplants, orchids come in many varieties and colors. Needs well-drained, humid soil. Blooms throughout the year. Petal colors: various colors. Requires partial shade and high water.', 'sell_price': 0, 'quantity': 74, 'buy_price': 19.8, 'date': 'None', 'image_id': None, 'tags': []}\n",
      "{'_id': ObjectId('665a637eb3076b6c91d5fc05'), 'id': 'jMSZTFW1K-', 'name': 'Begonia', 'description': 'Popular in gardens and as houseplants, they come in a variety of colors and forms, known for their vibrant blooms and foliage. Needs moist, well-drained soil. Blooms in summer. Petal colors: various colors. Requires partial shade and high water.', 'sell_price': 0, 'quantity': 49, 'buy_price': 18.2, 'date': 'None', 'image_id': None, 'tags': []}\n",
      "{'_id': ObjectId('665a637eb3076b6c91d5fc06'), 'id': 'EO5BgT0ja7', 'name': 'Forsythia', 'description': 'Early blooming shrub with bright yellow flowers that herald the arrival of spring. Petal color: bright yellow. Needs well-drained soil. Blooms in early spring. Requires full sun and moderate water.', 'sell_price': 0, 'quantity': 33, 'buy_price': 14.4, 'date': 'None', 'image_id': None, 'tags': []}\n",
      "{'_id': ObjectId('665a637eb3076b6c91d5fc07'), 'id': '-HiMtaCJm-', 'name': 'Heather', 'description': 'Small, bell-shaped flowers, often used as ground cover and in rock gardens, known for their resilience and beauty. The petals are various shades including white, pink, and purple. Needs acidic soil. Blooms in late summer to fall. Requires moderate sunlight and low water.', 'sell_price': 0, 'quantity': 66, 'buy_price': 14.4, 'date': 'None', 'image_id': None, 'tags': []}\n",
      "{'_id': ObjectId('665a637eb3076b6c91d5fc08'), 'id': 'jT4ORg85AL', 'name': 'Jasmine', 'description': 'Known for their sweet fragrance, often used in perfumes and teas, jasmine flowers are small and usually white or yellow. The petals are white or yellow. Needs well-drained soil. Blooms in summer. Requires moderate sunlight and moderate water.', 'sell_price': 0, 'quantity': 76, 'buy_price': 16.3, 'date': 'None', 'image_id': None, 'tags': []}\n",
      "{'_id': ObjectId('665a637eb3076b6c91d5fc09'), 'id': 'Tg5D_1VIea', 'name': 'Azalea', 'description': 'Known for their vibrant blooms and use in bonsai, azaleas are a type of rhododendron with a wide range of colors. The petals come in various colors including pink, red, white, and purple. Needs acidic, well-drained soil. Blooms in spring. Requires moderate sunlight and moderate water.', 'sell_price': 0, 'quantity': 79, 'buy_price': 18.5, 'date': 'None', 'image_id': None, 'tags': []}\n",
      "{'_id': ObjectId('665a637eb3076b6c91d5fc0a'), 'id': 'ls2RVznjzh', 'name': 'Rhododendron', 'description': 'Large clusters of blooms, often used in landscaping for their showy flowers and evergreen foliage. The petals come in various colors including pink, red, white, and purple. Needs acidic soil. Blooms in spring. Requires moderate sunlight and moderate water.', 'sell_price': 0, 'quantity': 7, 'buy_price': 15.2, 'date': 'None', 'image_id': None, 'tags': []}\n",
      "{'_id': ObjectId('665a637eb3076b6c91d5fc0b'), 'id': 'zKrgGDTJ9R', 'name': 'Geranium', 'description': 'Popular in window boxes and gardens, they come in many colors and are known for their long blooming season and easy care. The petals come in various colors including pink, red, white, and purple. Needs well-drained soil. Blooms in spring to fall. Requires moderate sunlight and moderate water.', 'sell_price': 0, 'quantity': 24, 'buy_price': 14.9, 'date': 'None', 'image_id': None, 'tags': []}\n",
      "{'_id': ObjectId('665a637eb3076b6c91d5fc0c'), 'id': 'ccfZvnS6rj', 'name': 'Lobelia', 'description': 'Small, vibrant blue flowers often used in borders and containers, known for their intense color. The petals are blue. Needs well-drained soil. Blooms in summer. Requires high sunlight and moderate water.', 'sell_price': 0, 'quantity': 21, 'buy_price': 11.4, 'date': 'None', 'image_id': None, 'tags': []}\n",
      "{'_id': ObjectId('665a637eb3076b6c91d5fc0d'), 'id': 'w_ynWmR3in', 'name': 'Snapdragon', 'description': 'Tall spikes of flowers that resemble a dragon’s mouth when squeezed, available in a wide range of colors. The petals come in various colors including pink, red, white, and yellow. Needs well-drained soil. Blooms in spring to fall. Requires moderate sunlight and moderate water.', 'sell_price': 0, 'quantity': 9, 'buy_price': 10.5, 'date': 'None', 'image_id': None, 'tags': []}\n",
      "{'_id': ObjectId('665a637eb3076b6c91d5fc0e'), 'id': 'Q1esOQ_t7R', 'name': 'Anemone', 'description': 'Known for their delicate, wind-blown appearance, anemones come in various colors and are often used in floral arrangements. The petals come in various colors including white, pink, and purple. Needs well-drained soil. Blooms in spring or fall. Requires moderate sunlight and moderate water.', 'sell_price': 0, 'quantity': 15, 'buy_price': 11.7, 'date': 'None', 'image_id': None, 'tags': []}\n",
      "{'_id': ObjectId('665a637eb3076b6c91d5fc0f'), 'id': '1QPP3hr2eU', 'name': 'Fuchsia', 'description': 'Recognizable by their pendulous flowers, often in shades of pink, purple, and red, fuchsias are popular in hanging baskets. The petals come in various shades including pink, purple, and red. Needs well-drained soil. Blooms in summer to fall. Requires partial to full shade and moderate water.', 'sell_price': 0, 'quantity': 38, 'buy_price': 15.5, 'date': 'None', 'image_id': None, 'tags': []}\n",
      "{'_id': ObjectId('665a637eb3076b6c91d5fc10'), 'id': 'E9-xIWNd8i', 'name': 'Primrose', 'description': 'Early blooming flowers that come in many colors and are often found in woodlands and shady areas. The petals come in various colors including yellow, pink, and purple. Needs well-drained soil. Blooms in spring. Requires partial shade and moderate water.', 'sell_price': 0, 'quantity': 39, 'buy_price': 15.3, 'date': 'None', 'image_id': None, 'tags': []}\n",
      "{'_id': ObjectId('665a637eb3076b6c91d5fc11'), 'id': 'h1r4AgIjQk', 'name': 'Crocus', 'description': 'One of the first flowers to bloom in spring, they come in a variety of colors and signal the end of winter. The petals come in various colors including purple, yellow, and white. Needs well-drained soil. Blooms in early spring. Requires full sun to partial shade and moderate water.', 'sell_price': 0, 'quantity': 59, 'buy_price': 15.9, 'date': 'None', 'image_id': None, 'tags': []}\n",
      "{'_id': ObjectId('665a637eb3076b6c91d5fc12'), 'id': '6GMZEM1Y0f', 'name': 'Bluebell', 'description': 'Known for their beautiful blue, bell-shaped flowers, often carpeting woodland floors in spring. The petals are blue. Needs moist, well-drained soil. Blooms in spring. Requires partial shade and moderate water.', 'sell_price': 0, 'quantity': 47, 'buy_price': 11.6, 'date': 'None', 'image_id': None, 'tags': []}\n",
      "{'_id': ObjectId('665a637eb3076b6c91d5fc13'), 'id': 'E-UQzkGaJR', 'name': 'Gladiolus', 'description': 'Tall spikes of flowers that are often used in floral arrangements, gladiolus come in many colors and are known for their striking appearance. The petals come in various colors including red, pink, white, and yellow. Needs well-drained soil. Blooms in summer. Requires full sun and moderate water.', 'sell_price': 0, 'quantity': 55, 'buy_price': 12.8, 'date': 'None', 'image_id': None, 'tags': []}\n",
      "{'_id': ObjectId('665a637eb3076b6c91d5fc14'), 'id': 'Q35aQKXBn5', 'name': 'Freesia', 'description': 'Highly fragrant flowers that are often used in bouquets, freesias come in a range of colors and are prized for their scent. The petals come in various colors including white, yellow, pink, and purple. Needs well-drained soil. Blooms in spring to summer. Requires full sun and moderate water.', 'sell_price': 0, 'quantity': 74, 'buy_price': 13.4, 'date': 'None', 'image_id': None, 'tags': []}\n",
      "{'_id': ObjectId('665a637eb3076b6c91d5fc15'), 'id': 'wldPvY84ce', 'name': 'Camellia', 'description': 'Glossy green leaves and beautiful, rose-like flowers make camellias a favorite in southern gardens. The petals come in various colors including pink, red, and white. Needs well-drained, acidic soil. Blooms in winter to spring. Requires partial shade and moderate water.', 'sell_price': 0, 'quantity': 91, 'buy_price': 13.0, 'date': 'None', 'image_id': None, 'tags': []}\n",
      "{'_id': ObjectId('665a637eb3076b6c91d5fc16'), 'id': '53wkWBkKuq', 'name': 'Allium', 'description': 'Known for their spherical flower heads, often purple, alliums are related to onions and garlic and add a unique touch to gardens. The petals are purple. Needs well-drained soil. Blooms in late spring to early summer. Requires full sun and low water.', 'sell_price': 0, 'quantity': 96, 'buy_price': 15.4, 'date': 'None', 'image_id': None, 'tags': []}\n",
      "{'_id': ObjectId('665a637eb3076b6c91d5fc17'), 'id': 'PpHxWONijf', 'name': 'Amaryllis', 'description': 'Large, trumpet-shaped flowers that are often grown indoors during winter, amaryllis come in various colors. The petals come in various colors including red, pink, and white. Needs well-drained soil. Blooms in winter to spring. Requires full sun to partial shade and moderate water.', 'sell_price': 0, 'quantity': 5, 'buy_price': 14.6, 'date': 'None', 'image_id': None, 'tags': []}\n",
      "{'_id': ObjectId('665a637eb3076b6c91d5fc18'), 'id': 'QJLauQy9f-', 'name': 'Delphinium', 'description': 'Tall spikes of flowers that come in various shades of blue, purple, pink, and white, known for their striking height and beauty. The petals come in various shades of blue, purple, pink, and white. Needs well-drained soil. Blooms in early to mid-summer. Requires full sun and moderate water.', 'sell_price': 0, 'quantity': 70, 'buy_price': 18.9, 'date': 'None', 'image_id': None, 'tags': []}\n",
      "{'_id': ObjectId('665a637eb3076b6c91d5fc19'), 'id': 'cXGPWH06cn', 'name': 'Columbine', 'description': 'Distinctive flowers with spurred petals, popular in cottage gardens and attracting hummingbirds. The petals come in various colors including blue, purple, red, and yellow. Needs well-drained soil. Blooms in spring to early summer. Requires partial shade and moderate water.', 'sell_price': 0, 'quantity': 16, 'buy_price': 16.1, 'date': 'None', 'image_id': None, 'tags': []}\n",
      "{'_id': ObjectId('665a637eb3076b6c91d5fc1a'), 'id': 'EPP2wDZzfo', 'name': 'Cornflower', 'description': 'Blue, star-like flowers that are often used in wildflower gardens and are known for their bright color. The petals are blue. Needs well-drained soil. Blooms in summer. Requires full sun and moderate water.', 'sell_price': 0, 'quantity': 5, 'buy_price': 14.5, 'date': 'None', 'image_id': None, 'tags': []}\n",
      "{'_id': ObjectId('665a637eb3076b6c91d5fc1b'), 'id': 'ARBkR2r4Kx', 'name': 'Gazania', 'description': 'Sun-loving flowers with daisy-like blooms that close at night and in cloudy weather, available in a variety of bright colors. The petals come in various bright colors. Needs well-drained soil. Blooms in summer. Requires full sun and low water.', 'sell_price': 0, 'quantity': 51, 'buy_price': 11.4, 'date': 'None', 'image_id': None, 'tags': []}\n",
      "{'_id': ObjectId('665a637eb3076b6c91d5fc1c'), 'id': 'S8lPwv8OS3', 'name': 'Heliotrope', 'description': 'Known for their sweet vanilla-like fragrance, heliotrope flowers are clusters of small, usually purple or white blooms. The petals are usually purple or white. Needs well-drained soil. Blooms in summer to fall. Requires moderate sunlight and high water.', 'sell_price': 0, 'quantity': 9, 'buy_price': 10.4, 'date': 'None', 'image_id': None, 'tags': []}\n",
      "{'_id': ObjectId('665a637eb3076b6c91d5fc1d'), 'id': 'A_0zsEPGUj', 'name': 'Impatiens', 'description': 'Popular shade-loving flowers that come in a wide range of colors, often used in hanging baskets and as bedding plants. The petals come in a wide range of colors. Needs moist, well-drained soil. Blooms in spring to fall. Requires partial to full shade and moderate water.', 'sell_price': 0, 'quantity': 40, 'buy_price': 15.1, 'date': 'None', 'image_id': None, 'tags': []}\n",
      "{'_id': ObjectId('665a637eb3076b6c91d5fc1e'), 'id': 'hEmCRBQSZ_', 'name': 'Canna', 'description': 'Large, tropical-looking flowers that add a touch of the exotic to gardens, cannas come in vibrant colors and have bold foliage. The petals come in vibrant colors. Needs well-drained soil. Blooms in summer to fall. Requires full sun and moderate water.', 'sell_price': 0, 'quantity': 44, 'buy_price': 18.5, 'date': 'None', 'image_id': None, 'tags': []}\n",
      "{'_id': ObjectId('665a637eb3076b6c91d5fc1f'), 'id': 'c9KtrOCmCe', 'name': 'Coreopsis', 'description': 'Daisy-like flowers that are known for their long blooming period and bright yellow or orange colors. The petals are bright yellow or orange. Needs well-drained soil. Blooms in summer to fall. Requires full sun and moderate water.', 'sell_price': 0, 'quantity': 61, 'buy_price': 16.9, 'date': 'None', 'image_id': None, 'tags': []}\n",
      "{'_id': ObjectId('665a637eb3076b6c91d5fc20'), 'id': '9_YXXpwFMt', 'name': 'Verbena', 'description': 'Clusters of small, colorful flowers that are perfect for hanging baskets and borders, known for their long bloom period. The petals come in various colors. Needs well-drained soil. Blooms in summer to fall. Requires full sun and moderate water.', 'sell_price': 0, 'quantity': 99, 'buy_price': 12.3, 'date': 'None', 'image_id': None, 'tags': []}\n",
      "{'_id': ObjectId('665a637eb3076b6c91d5fc21'), 'id': 'T0wtC8urCv', 'name': 'Cosmos', 'description': 'Dainty, daisy-like flowers that are easy to grow and come in shades of pink, white, and orange. The petals come in shades of pink, white, and orange. Needs well-drained soil. Blooms in summer to fall. Requires full sun and moderate water.', 'sell_price': 0, 'quantity': 11, 'buy_price': 16.2, 'date': 'None', 'image_id': None, 'tags': []}\n"
     ]
    }
   ],
   "source": [
    "# Connect to the MongoDB server\n",
    "client_mongo = pymongo.MongoClient(\"mongodb://localhost:27017/\")\n",
    "\n",
    "# Select your database\n",
    "db = client_mongo[\"ecommerce-app\"]\n",
    "\n",
    "# List all collection names in the database\n",
    "collection_names = db.list_collection_names()\n",
    "\n",
    "\n",
    "collection = db['products']\n",
    "# Find all documents in the collection\n",
    "documents = collection.find()\n",
    "for x in documents:\n",
    "    print(x)\n",
    "\n"
   ]
  },
  {
   "cell_type": "code",
   "execution_count": 5,
   "metadata": {},
   "outputs": [],
   "source": [
    "db.drop_collection('products')\n",
    "for document in documents:\n",
    "    print(document)"
   ]
  },
  {
   "cell_type": "code",
   "execution_count": 76,
   "metadata": {},
   "outputs": [],
   "source": [
    "from pymongo import MongoClient\n",
    "from openai import OpenAI\n",
    "from typing import List\n",
    "from sentence_transformers import SentenceTransformer\n",
    "from qdrant_client import QdrantClient\n",
    "\n",
    "\n",
    "class Chatbot():\n",
    "    mongo_client: MongoClient\n",
    "    qdrant_client: QdrantClient\n",
    "    openai_client: OpenAI\n",
    "    embedding_model: SentenceTransformer\n",
    "\n",
    "    def __init__(self, data, embedding_model):\n",
    "        self.mongo_client = data.pop('mongo_client', None)\n",
    "        self.qdrant_client = data.pop('qdrant_client', None)\n",
    "        self.openai_client = data.pop('openai_client', None)\n",
    "        self.embedding_model = embedding_model\n",
    "\n",
    "    def answer(self,question:str) -> str:\n",
    "        system,user = self.__prepare_question(question)\n",
    "        chat_completion = self.openai_client.chat.completions.create(\n",
    "        model=\"gpt-3.5-turbo\",\n",
    "        messages=[{\"role\":\"system\", \"content\" : system},\n",
    "            {\"role\": \"user\", \"content\": user}])\n",
    "        \n",
    "        return chat_completion.choices[0].message.content\n",
    "\n",
    "\n",
    "    def __fill_prompt(self,question:str, jsons:List[str]) -> List[str]:\n",
    "        SYSTEM_TEMPLATE = \"\"\"You are a professional flower shop assistatnt, you reccomend products that fullfils\n",
    "        every user expectations or answer his question based only on data in json format below:\n",
    "        {}\n",
    "        Always check the quantity before recommending if it's equal to 0 ask to wait until restock.\n",
    "        If none of products fulfill expectations say that sadly we don't have product you need.\n",
    "        Your answer should short and contain only what flower you recommend, reasoning why and friendly insight.\n",
    "        Don't encourage further conversation.\n",
    "        \"\"\"\n",
    "\n",
    "        filled_prompt = SYSTEM_TEMPLATE.format(jsons)\n",
    "        return filled_prompt, question\n",
    "\n",
    "\n",
    "    def __qdrant_search(self, question:str):\n",
    "        query = self.embedding_model.encode(question, normalize_embeddings=True)\n",
    "        results = self.qdrant_client.search(\n",
    "            collection_name=\"products_description\",\n",
    "            query_vector=query,\n",
    "            limit=3,\n",
    "        )\n",
    "        return results\n",
    "\n",
    "\n",
    "    def __search_mongo(self, results):\n",
    "        db = self.mongo_client[\"ecommerce-app\"]\n",
    "        collection = db['products']\n",
    "        all_jsons = []\n",
    "        for flower_id in [res.payload.get('Id') for res in results]:\n",
    "            json_data = {}\n",
    "            for item in collection.find({\"id\":flower_id}):\n",
    "                json_data['Name'] = item.get('name')\n",
    "                json_data['Description'] = item.get('description')\n",
    "                json_data['Quantity'] = item.get('quantity')\n",
    "                all_jsons.append(json_data)\n",
    "        return all_jsons\n",
    "\n",
    "\n",
    "    def __prepare_question(self, question):\n",
    "        qdrant_result = self.__qdrant_search(question)\n",
    "        mongo_result = self.__search_mongo(qdrant_result)\n",
    "        return self.__fill_prompt(question,mongo_result)\n",
    "    "
   ]
  },
  {
   "cell_type": "code",
   "execution_count": 79,
   "metadata": {},
   "outputs": [],
   "source": [
    "model = SentenceTransformer(\"intfloat/e5-small-v2\")\n",
    "bot = Chatbot(data = {\n",
    "    \"mongo_client\": MongoClient(\"mongodb://localhost:27017/\"),\n",
    "    \"qdrant_client\": QdrantClient(\"http://localhost:6333\"),\n",
    "    \"openai_client\":  OpenAI(api_key=\"sk-proj-8j1NyU5gvA4njucbGG3uT3BlbkFJxBLHcRn4z7futfYb4sgb\")\n",
    "}, embedding_model= model)\n"
   ]
  },
  {
   "cell_type": "code",
   "execution_count": 80,
   "metadata": {},
   "outputs": [
    {
     "data": {
      "text/plain": [
       "\"I recommend the Gladiolus, as it has tall spikes of red flowers and is known for its striking appearance. It blooms in summer and requires full sun and moderate water. It's a beautiful choice for adding a pop of color to any garden or floral arrangement.\""
      ]
     },
     "execution_count": 80,
     "metadata": {},
     "output_type": "execute_result"
    }
   ],
   "source": [
    "bot.answer('Red flower')"
   ]
  },
  {
   "cell_type": "code",
   "execution_count": 181,
   "metadata": {},
   "outputs": [],
   "source": [
    "async def qdrant_search(question:str):\n",
    "    vector = model.encode(question, normalize_embeddings=True).tolist()\n",
    "    async with aiohttp.ClientSession() as session:\n",
    "        async with session.post(f\"http://localhost:8000/products/vec_search\", json=vector) as response:\n",
    "            if response.status == 200:\n",
    "                return await response.json()\n",
    "            else:\n",
    "                error_message = await response.text()\n",
    "                raise Exception(f\"Error {response.status}: {error_message}\")"
   ]
  },
  {
   "cell_type": "code",
   "execution_count": 182,
   "metadata": {},
   "outputs": [
    {
     "data": {
      "text/plain": [
       "[{'id': 27,\n",
       "  'version': 6,\n",
       "  'score': 0.8200202,\n",
       "  'payload': {'Description': 'Tall spikes of flowers that resemble a dragon’s mouth when squeezed, available in a wide range of colors. The petals come in various colors including pink, red, white, and yellow. Needs well-drained soil. Blooms in spring to fall. Requires moderate sunlight and moderate water.',\n",
       "   'Id': 'w_ynWmR3in',\n",
       "   'Name': 'SNAPDRAGON'},\n",
       "  'vector': None,\n",
       "  'shard_key': None},\n",
       " {'id': 33,\n",
       "  'version': 6,\n",
       "  'score': 0.81718296,\n",
       "  'payload': {'Description': 'Tall spikes of flowers that are often used in floral arrangements, gladiolus come in many colors and are known for their striking appearance. The petals come in various colors including red, pink, white, and yellow. Needs well-drained soil. Blooms in summer. Requires full sun and moderate water.',\n",
       "   'Id': 'E-UQzkGaJR',\n",
       "   'Name': 'GLADIOLUS'},\n",
       "  'vector': None,\n",
       "  'shard_key': None},\n",
       " {'id': 39,\n",
       "  'version': 6,\n",
       "  'score': 0.8143558,\n",
       "  'payload': {'Description': 'Distinctive flowers with spurred petals, popular in cottage gardens and attracting hummingbirds. The petals come in various colors including blue, purple, red, and yellow. Needs well-drained soil. Blooms in spring to early summer. Requires partial shade and moderate water.',\n",
       "   'Id': 'cXGPWH06cn',\n",
       "   'Name': 'COLUMBINE'},\n",
       "  'vector': None,\n",
       "  'shard_key': None}]"
      ]
     },
     "execution_count": 182,
     "metadata": {},
     "output_type": "execute_result"
    }
   ],
   "source": [
    "await qdrant_search(\"red flower\")"
   ]
  },
  {
   "cell_type": "code",
   "execution_count": 236,
   "metadata": {},
   "outputs": [],
   "source": [
    "model = SentenceTransformer(\"intfloat/e5-small-v2\")\n",
    "bot = Chatbot(data = {\n",
    "    \"openai_client\":  AsyncOpenAI(api_key=\"sk-proj-8j1NyU5gvA4njucbGG3uT3BlbkFJxBLHcRn4z7futfYb4sgb\")\n",
    "}, embedding_model= model)"
   ]
  },
  {
   "cell_type": "code",
   "execution_count": 231,
   "metadata": {},
   "outputs": [
    {
     "name": "stdout",
     "output_type": "stream",
     "text": [
      "w_ynWmR3in\n",
      "E-UQzkGaJR\n",
      "cXGPWH06cn\n"
     ]
    }
   ],
   "source": [
    "vector = model.encode('red flower', normalize_embeddings=True).tolist()\n",
    "# requests.post(f\"http://127.0.0.1:8000/products/vec_search\", json= vector).json()\n",
    "dwa = [{'id': 27, 'version': 6, 'score': 0.8200202, 'payload': {'Description': 'Tall spikes of flowers that resemble a dragon’s mouth when squeezed, available in a wide range of colors. The petals come in various colors including pink, red, white, and yellow. Needs well-drained soil. Blooms in spring to fall. Requires moderate sunlight and moderate water.', 'Id': 'w_ynWmR3in', 'Name': 'SNAPDRAGON'}, 'vector': None, 'shard_key': None}, {'id': 33, 'version': 6, 'score': 0.81718296, 'payload': {'Description': 'Tall spikes of flowers that are often used in floral arrangements, gladiolus come in many colors and are known for their striking appearance. The petals come in various colors including red, pink, white, and yellow. Needs well-drained soil. Blooms in summer. Requires full sun and moderate water.', 'Id': 'E-UQzkGaJR', 'Name': 'GLADIOLUS'}, 'vector': None, 'shard_key': None}, {'id': 39, 'version': 6, 'score': 0.8143558, 'payload': {'Description': 'Distinctive flowers with spurred petals, popular in cottage gardens and attracting hummingbirds. The petals come in various colors including blue, purple, red, and yellow. Needs well-drained soil. Blooms in spring to early summer. Requires partial shade and moderate water.', 'Id': 'cXGPWH06cn', 'Name': 'COLUMBINE'}, 'vector': None, 'shard_key': None}]\n",
    "for res in dwa:\n",
    "    flower_id = res.get('payload').get(\"Id\")\n",
    "    print(flower_id)"
   ]
  },
  {
   "cell_type": "code",
   "execution_count": 237,
   "metadata": {},
   "outputs": [
    {
     "data": {
      "text/plain": [
       "'I recommend the Gladiolus for you as it comes in red petals. It is known for its striking appearance and is great for floral arrangements. Just a heads up, we have 55 in stock so you can get them right away!'"
      ]
     },
     "execution_count": 237,
     "metadata": {},
     "output_type": "execute_result"
    }
   ],
   "source": [
    "await bot.answer('red flower')"
   ]
  },
  {
   "cell_type": "code",
   "execution_count": 135,
   "metadata": {},
   "outputs": [
    {
     "data": {
      "text/plain": [
       "qdrant_client.http.models.models.ScoredPoint"
      ]
     },
     "execution_count": 135,
     "metadata": {},
     "output_type": "execute_result"
    }
   ],
   "source": [
    "qdrant_client = QdrantClient('localhost:6333')\n",
    "results = qdrant_client.search(\n",
    "    collection_name=\"products_description\",\n",
    "    query_vector=list(model.encode('dwa', normalize_embeddings=True)),\n",
    "    limit=3,\n",
    ")\n",
    "type(results[0])"
   ]
  }
 ],
 "metadata": {
  "kernelspec": {
   "display_name": "Chatbot",
   "language": "python",
   "name": "python3"
  },
  "language_info": {
   "codemirror_mode": {
    "name": "ipython",
    "version": 3
   },
   "file_extension": ".py",
   "mimetype": "text/x-python",
   "name": "python",
   "nbconvert_exporter": "python",
   "pygments_lexer": "ipython3",
   "version": "3.11.2"
  }
 },
 "nbformat": 4,
 "nbformat_minor": 2
}
