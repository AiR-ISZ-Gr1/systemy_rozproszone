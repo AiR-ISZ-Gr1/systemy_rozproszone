{
 "cells": [
  {
   "cell_type": "code",

   "execution_count": 11,

   "metadata": {},
   "outputs": [],
   "source": [
    "import pandas as pd\n",
    "import numpy as np\n",
    "import nanoid\n",
    "import pymongo\n",
    "from openai import OpenAI\n",
    "import requests\n",
    "from datetime import datetime\n",
    "\n"
   ]
  },
  {
   "cell_type": "code",
   "execution_count": 15,
   "metadata": {},
   "outputs": [],
   "source": [
    "quantites = np.random.randint(1,100,size=48)\n",
    "prices_buy = np.random.randint(1,2,size=48)*10 + np.random.randint(0,10,size=48) + np.random.randint(0,10,size=48)*0.1\n",
    "prices_sale = prices_buy - np.random.randint(0,10,size=48) + np.random.randint(0,10,size=48)*0.1\n"
   ]
  },
  {
   "cell_type": "code",
   "execution_count": 18,
   "metadata": {},
   "outputs": [],
   "source": [
    "data = pd.read_csv('data/flowershopdata.csv')\n",
    "data['Description'] = data[['Description', 'Needs','Season']].apply(lambda x: ' '.join(x.dropna().astype(str)), axis=1)\n",
    "data['Buy_price'] = prices_buy\n",
    "data['Sale_price'] = np.round(prices_sale,2)\n",
    "data['Quantities'] = quantites\n",
    "jpg_paths = [f\"init_data/products/img_flowers/{flower.lower()}.jpg\" for flower in data['Name']]\n",
    "data['pic_path'] = jpg_paths\n",
    "data['id'] = [nanoid.generate(size=10) for x in range(48)]\n",
    "data['date'] =[datetime.now().strftime(\"%d-%m-%Y %H:%M:%S\") for x in range(48)]\n",
    "data['tags'] = ['flower' for x in range(48)]\n",
    "data.drop(columns=['Needs','Season'],inplace=True)"
   ]
  },
  {
   "cell_type": "code",
   "execution_count": 19,
   "metadata": {},
   "outputs": [],
   "source": [
    "data.to_csv('data/flowershopdata_clean.csv')"
   ]
  },
  {
   "cell_type": "code",
   "execution_count": 46,
   "metadata": {},
   "outputs": [],
   "source": [
    "import os\n",
    "import requests\n",
    "from bs4 import BeautifulSoup\n",
    "from PIL import Image\n",
    "from io import BytesIO\n",
    "from selenium import webdriver\n",
    "from selenium.webdriver.common.by import By\n",
    "import time\n",
    "\n",
    "def fetch_first_image_url(query):\n",
    "    options = webdriver.SafariOptions()\n",
    "    driver = webdriver.Safari(options=options)\n",
    "\n",
    "    search_url = f\"https://pl.pinterest.com/search/pins/?q={query}%20flower&rs=typed\"\n",
    "    driver.get(search_url)\n",
    "\n",
    "    time.sleep(2)\n",
    "    image_elements = driver.find_elements(By.CSS_SELECTOR, 'img')\n",
    "\n",
    "    if len(image_elements) >= 10:\n",
    "        # Get the URL of the 10th image\n",
    "        image_element = image_elements[9]  # Index 9 corresponds to the 10th image (0-based index)\n",
    "        image_url = image_element.get_attribute('src')\n",
    "    else:\n",
    "        print(\"Not enough images found on the page\")\n",
    "        image_url = None\n",
    "\n",
    "    driver.quit()\n",
    "    return image_url\n",
    "\n",
    "def save_image_from_url(url, directory, filename):\n",
    "    response = requests.get(url)\n",
    "    image = Image.open(BytesIO(response.content))\n",
    "    image_path = os.path.join(directory, filename)\n",
    "    image.save(image_path)\n",
    "    print(f\"Image saved to {image_path}\")\n",
    "\n"
   ]
  },
  {
   "cell_type": "code",
   "execution_count": 6,
   "metadata": {},
   "outputs": [],
   "source": [
    "import nanoid\n",
    "def create_product(product_data):\n",
    "    base_url = \"http://127.0.0.1:8000\"\n",
    "    response = requests.post(f\"{base_url}/products/\", json=product_data)\n",
    "    print(response.json())"
   ]
  },
  {
   "cell_type": "code",
   "execution_count": 7,
   "metadata": {},
   "outputs": [],
   "source": [
    "data = pd.read_csv('data/flowershopdata_clean.csv').drop(columns=['Unnamed: 0'])\n",
    "\n"
   ]
  },
  {
   "cell_type": "code",
   "execution_count": 56,
   "metadata": {},
   "outputs": [
    {
     "name": "stdout",
     "output_type": "stream",
     "text": [
      "Collection exits\n"
     ]
    }
   ],
   "source": [
    "from sentence_transformers import SentenceTransformer, util\n",
    "from qdrant_client import QdrantClient, AsyncQdrantClient\n",
    "from qdrant_client.models import Distance, VectorParams\n",
    "from qdrant_client.models import PointStruct\n",
    "\n",
    "model = SentenceTransformer('intfloat/e5-small-v2')\n",
    "vec_len = model[1].word_embedding_dimension\n",
    "client = QdrantClient(url=\"http://127.0.0.1:6333\")\n",
    "names = [item.name for item in client.get_collections().collections]\n",
    "if 'products_description' not in names:\n",
    "    client.create_collection(\n",
    "        collection_name=\"products_description\",\n",
    "        vectors_config=VectorParams(size=vec_len, distance=Distance.COSINE),)\n",
    "else:\n",
    "    print('Collection exits')\n"
   ]
  },
  {
   "cell_type": "code",
   "execution_count": 47,
   "metadata": {},
   "outputs": [
    {
     "data": {
      "text/plain": [
       "True"
      ]
     },
     "execution_count": 47,
     "metadata": {},
     "output_type": "execute_result"
    }
   ],
   "source": [
    "client.delete_collection(\"products_description\")"
   ]
  },
  {
   "cell_type": "code",
   "execution_count": 8,
   "metadata": {},
   "outputs": [],
   "source": [
    "points = [PointStruct(id=index, \n",
    "                      vector=model.encode(item['Description'], normalize_embeddings=True), \n",
    "                      payload={\"Id\": item['id'],\n",
    "                               \"Name\": item['Name'],\n",
    "                               \"Description\":item['Description']}) for index,item in data.iterrows()]\n"
   ]
  },
  {
   "cell_type": "code",
   "execution_count": 215,
   "metadata": {},
   "outputs": [
    {
     "name": "stdout",
     "output_type": "stream",
     "text": [
      "operation_id=0 status=<UpdateStatus.COMPLETED: 'completed'>\n"
     ]
    }
   ],
   "source": [
    "operation_info = client.upsert(\n",
    "    collection_name=\"products_description\",\n",
    "    wait=True,\n",
    "    points=points,\n",
    ")\n",
    "\n",
    "print(operation_info)"
   ]
  },
  {
   "cell_type": "code",

   "execution_count": 35,
   "metadata": {},
   "outputs": [],
   "source": [
    "from pymongo import MongoClient\n",
    "from openai import OpenAI\n",
    "from typing import List\n",
    "from sentence_transformers import SentenceTransformer\n",
    "from qdrant_client import QdrantClient\n"
   ]
  },
  {
   "cell_type": "code",

   "execution_count": 88,
   "metadata": {},
   "outputs": [],
   "source": [
    "question = \"I would like white flower that needs acidic soil\"\n",
    "model = SentenceTransformer(\"intfloat/e5-small-v2\")\n",
    "bot = {\n",
    "    \"mongo_client\": MongoClient(\"mongodb://localhost:27017/\"),\n",
    "    \"qdrant_client\": QdrantClient(\"http://localhost:6333\"),\n",
    "    \"openai_client\":  OpenAI(api_key=\"sk-proj-8j1NyU5gvA4njucbGG3uT3BlbkFJxBLHcRn4z7futfYb4sgb\")\n",
    "},"
   ]
  },
  {
   "cell_type": "code",
   "execution_count": 61,
   "metadata": {},
   "outputs": [],
   "source": [
    "client = AsyncQdrantClient(\"http://localhost:6333\")"
   ]
  },
  {
   "cell_type": "code",
   "execution_count": 119,
   "metadata": {},
   "outputs": [
    {
     "data": {
      "text/plain": [
       "[{'id': 6,\n",
       "  'version': 6,\n",
       "  'score': 0.81549656,\n",
       "  'payload': {'Description': 'Named for its red colored sap that flows from cut stems, bloodroot flowers are white with a bright yellow center. Needs well-drained soil. Blooms in early spring.',\n",
       "   'Id': 'AtfxNCsTNK',\n",
       "   'Name': 'Bloodroot'},\n",
       "  'vector': None,\n",
       "  'shard_key': None},\n",
       " {'id': 21,\n",
       "  'version': 21,\n",
       "  'score': 0.8153006,\n",
       "  'payload': {'Description': 'Small, bell-shaped flowers, often used as ground cover and in rock gardens, known for their resilience and beauty. Needs acidic soil. Blooms in late summer to fall.',\n",
       "   'Id': 'CS9fWn1prj',\n",
       "   'Name': 'Heather'},\n",
       "  'vector': None,\n",
       "  'shard_key': None},\n",
       " {'id': 27,\n",
       "  'version': 27,\n",
       "  'score': 0.8136447,\n",
       "  'payload': {'Description': 'Tall spikes of flowers that resemble a dragon’s mouth when squeezed, available in a wide range of colors. Needs well-drained soil. Blooms in spring to fall.',\n",
       "   'Id': 'A7y3--teGu',\n",
       "   'Name': 'Snapdragon'},\n",
       "  'vector': None,\n",
       "  'shard_key': None}]"
      ]
     },
     "execution_count": 119,
     "metadata": {},
     "output_type": "execute_result"
    }
   ],
   "source": [
    "requests.post(\"http://127.0.0.1:8000/products/vec_search/\", json={'question': 'Red flower'}).json()\n"
   ]
  },
  {
   "cell_type": "code",
   "execution_count": 101,
   "metadata": {},
   "outputs": [
    {
     "data": {
      "text/plain": [
       "48"
      ]
     },
     "execution_count": 101,
     "metadata": {},
     "output_type": "execute_result"
    }
   ],
   "source": [
    "count = await client.count(collection_name=\"products_description\")\n",
    "count.count"
   ]
  },
  {
   "cell_type": "code",
   "execution_count": 78,
   "metadata": {},
   "outputs": [
    {
     "name": "stdout",
     "output_type": "stream",
     "text": [

     ]
    }
   ],
   "source": [
    "# Connect to the MongoDB server\n",
    "client_mongo = pymongo.MongoClient(\"mongodb://localhost:27017/\")\n",
    "\n",
    "# Select your database\n",
    "db = client_mongo[\"ecommerce-app\"]\n",
    "\n",
    "# List all collection names in the database\n",
    "collection_names = db.list_collection_names()\n",
    "\n",
    "\n",
    "collection = db['products']\n",
    "# Find all documents in the collection\n",
    "documents = collection.find()\n",
    "for x in documents:\n",
    "    print(x)\n",
    "\n"
   ]
  },
  {
   "cell_type": "code",
   "execution_count": 77,

   "metadata": {},
   "outputs": [],
   "source": [
    "db.drop_collection('products')\n",
    "for document in documents:\n",
    "    print(document)"
   ]
  },
  {
   "cell_type": "code",
   "execution_count": 135,
   "metadata": {},
   "outputs": [
    {
     "data": {
      "text/plain": [
       "qdrant_client.http.models.models.ScoredPoint"
      ]
     },
     "execution_count": 135,
     "metadata": {},
     "output_type": "execute_result"
    }
   ],
   "source": [
    "qdrant_client = QdrantClient('localhost:6333')\n",
    "results = qdrant_client.search(\n",
    "    collection_name=\"products_description\",\n",
    "    query_vector=list(model.encode('dwa', normalize_embeddings=True)),\n",
    "    limit=3,\n",
    ")\n",
    "type(results[0])"
   ]
  },
  {
   "cell_type": "code",
   "execution_count": 52,
   "metadata": {},
   "outputs": [
    {
     "data": {
      "text/plain": [
       "384"
      ]
     },
     "execution_count": 52,
     "metadata": {},
     "output_type": "execute_result"
    }
   ],
   "source": [
    "model[1].word_embedding_dimension"
   ]
  },
  {
   "cell_type": "code",
   "execution_count": 23,
   "metadata": {},
   "outputs": [
    {
     "data": {
      "text/plain": [
       "['/dwa/trzy', 'jpg']"
      ]
     },
     "execution_count": 23,
     "metadata": {},
     "output_type": "execute_result"
    }
   ],
   "source": [
    "'/dwa/trzy.jpg'.split('.')"
   ]
  }
 ],
 "metadata": {
  "kernelspec": {
   "display_name": "Chatbot",
   "language": "python",
   "name": "python3"
  },
  "language_info": {
   "codemirror_mode": {
    "name": "ipython",
    "version": 3
   },
   "file_extension": ".py",
   "mimetype": "text/x-python",
   "name": "python",
   "nbconvert_exporter": "python",
   "pygments_lexer": "ipython3",
   "version": "3.11.2"
  }
 },
 "nbformat": 4,
 "nbformat_minor": 2
}
