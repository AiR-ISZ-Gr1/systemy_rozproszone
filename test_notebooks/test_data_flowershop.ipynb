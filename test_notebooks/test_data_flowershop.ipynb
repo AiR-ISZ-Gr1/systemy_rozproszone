{
 "cells": [
  {
   "cell_type": "code",
   "execution_count": 1,
   "metadata": {},
   "outputs": [],
   "source": [
    "import pandas as pd\n",
    "import numpy as np\n",
    "from sentence_transformers import SentenceTransformer, util\n",
    "\n",
    "\n",
    "model = SentenceTransformer('intfloat/e5-small-v2')\n",
    "input_texts = [\n",
    "    'query: how much protein should a female eat',\n",
    "    'query: summit define',\n",
    "    \"passage: As a general guideline, the CDC's average requirement of protein for women ages 19 to 70 is 46 grams per day. But, as you can see from this chart, you'll need to increase that if you're expecting or training for a marathon. Check out the chart below to see how much protein you should be eating each day.\",\n",
    "    \"passage: Definition of summit for English Language Learners. : 1  the highest point of a mountain : the top of a mountain. : 2  the highest level. : 3  a meeting or series of meetings between the leaders of two or more governments.\"\n",
    "]\n",
    "\n"
   ]
  },
  {
   "cell_type": "code",
   "execution_count": 18,
   "metadata": {},
   "outputs": [],
   "source": [
    "embeddings = model.encode(input_texts, normalize_embeddings=True)\n"
   ]
  },
  {
   "cell_type": "code",
   "execution_count": 2,
   "metadata": {},
   "outputs": [],
   "source": [
    "import os, re\n"
   ]
  },
  {
   "cell_type": "code",
   "execution_count": 3,
   "metadata": {},
   "outputs": [
    {
     "data": {
      "text/plain": [
       "'/Users/kacperjarzyna/systemy_rozproszone/test_notebooks'"
      ]
     },
     "execution_count": 3,
     "metadata": {},
     "output_type": "execute_result"
    }
   ],
   "source": [
    "os.getcwd()"
   ]
  },
  {
   "cell_type": "code",
   "execution_count": 61,
   "metadata": {},
   "outputs": [
    {
     "data": {
      "text/plain": [
       "(48, 4)"
      ]
     },
     "execution_count": 61,
     "metadata": {},
     "output_type": "execute_result"
    }
   ],
   "source": [
    "data.shape"
   ]
  },
  {
   "cell_type": "code",
   "execution_count": 76,
   "metadata": {},
   "outputs": [],
   "source": [
    "quantites = np.random.randint(1,100,size=48)\n",
    "prices_buy = np.random.randint(1,2,size=48)*10 + np.random.randint(0,10,size=48) + np.random.randint(0,10,size=48)*0.1\n",
    "prices_sale = prices_buy - np.random.randint(0,10,size=48) + np.random.randint(0,10,size=48)*0.1\n"
   ]
  },
  {
   "cell_type": "code",
   "execution_count": 100,
   "metadata": {},
   "outputs": [],
   "source": [
    "data = pd.read_csv('data/flowershopdata.csv')\n",
    "data['Description'] = data[['Description', 'Needs','Season']].apply(lambda x: ' '.join(x.dropna().astype(str)), axis=1)\n",
    "data['Buy_price'] = prices_buy\n",
    "data['Sale_price'] = np.round(prices_sale,2)\n",
    "data['Quantities'] = quantites\n",
    "jpg_paths = [f\"/Users/kacperjarzyna/systemy_rozproszone/test_notebooks/data/img_flowers/{flower.lower()}.jpg\" for flower in data['Name']]\n",
    "data['pic_path'] = jpg_paths\n",
    "data.drop(columns=['Needs','Season'],inplace=True)"
   ]
  },
  {
   "cell_type": "code",
   "execution_count": 101,
   "metadata": {},
   "outputs": [],
   "source": [
    "data.to_csv('data/flowershopdata_clean.csv')"
   ]
  },
  {
   "cell_type": "code",
   "execution_count": 46,
   "metadata": {},
   "outputs": [],
   "source": [
    "import os\n",
    "import requests\n",
    "from bs4 import BeautifulSoup\n",
    "from PIL import Image\n",
    "from io import BytesIO\n",
    "from selenium import webdriver\n",
    "from selenium.webdriver.common.by import By\n",
    "import time\n",
    "\n",
    "def fetch_first_image_url(query):\n",
    "    options = webdriver.SafariOptions()\n",
    "    driver = webdriver.Safari(options=options)\n",
    "\n",
    "    search_url = f\"https://pl.pinterest.com/search/pins/?q={query}%20flower&rs=typed\"\n",
    "    driver.get(search_url)\n",
    "\n",
    "    time.sleep(2)\n",
    "    image_elements = driver.find_elements(By.CSS_SELECTOR, 'img')\n",
    "\n",
    "    if len(image_elements) >= 10:\n",
    "        # Get the URL of the 10th image\n",
    "        image_element = image_elements[9]  # Index 9 corresponds to the 10th image (0-based index)\n",
    "        image_url = image_element.get_attribute('src')\n",
    "    else:\n",
    "        print(\"Not enough images found on the page\")\n",
    "        image_url = None\n",
    "\n",
    "    driver.quit()\n",
    "    return image_url\n",
    "\n",
    "def save_image_from_url(url, directory, filename):\n",
    "    response = requests.get(url)\n",
    "    image = Image.open(BytesIO(response.content))\n",
    "    image_path = os.path.join(directory, filename)\n",
    "    image.save(image_path)\n",
    "    print(f\"Image saved to {image_path}\")\n",
    "\n"
   ]
  },
  {
   "cell_type": "code",
   "execution_count": 82,
   "metadata": {},
   "outputs": [],
   "source": [
    "import nanoid\n",
    "def create_product(product_data):\n",
    "    base_url = \"http://127.0.0.1:8000\"\n",
    "    response = requests.post(f\"{base_url}/products/\", json=product_data)\n",
    "    print(response.json())"
   ]
  },
  {
   "cell_type": "code",
   "execution_count": 109,
   "metadata": {},
   "outputs": [
    {
     "name": "stdout",
     "output_type": "stream",
     "text": [
      "{'id': 'CLsWtAJvtF', 'name': 'Periwinkle', 'description': 'Perfect as a ground cover, the flowers resemble small, delicate stars and are often found in shades of blue, purple, and white. Needs droughty. Blooms in mid-spring to mid-fall.', 'sale_price': 7.0, 'quantity': 2, 'buy_price': 12.3, 'date': 'None', 'picture_path': '/Users/kacperjarzyna/systemy_rozproszone/test_notebooks/data/img_flowers/periwinkle.jpg'}\n",
      "{'id': 'RXqJydTV5C', 'name': 'Bellflower', 'description': 'Known for their resemblance to bells, these flowers come in shades of blue, purple, pink, and white and add a whimsical touch to any garden. Needs well-drained soil. Blooms in early summer to early fall.', 'sale_price': 4.3, 'quantity': 36, 'buy_price': 12.8, 'date': 'None', 'picture_path': '/Users/kacperjarzyna/systemy_rozproszone/test_notebooks/data/img_flowers/bellflower.jpg'}\n",
      "{'id': 'FiH8MNR-Eh', 'name': 'Lily', 'description': 'A highly recognized flower which has bright colors and a distinct fragrance, lilies are often associated with purity and refined beauty. Needs well-drained soil. Blooms in spring to early fall.', 'sale_price': 9.3, 'quantity': 77, 'buy_price': 13.2, 'date': 'None', 'picture_path': '/Users/kacperjarzyna/systemy_rozproszone/test_notebooks/data/img_flowers/lily.jpg'}\n",
      "{'id': 'SKk9s4ByfZ', 'name': 'Tulip', 'description': 'Great as a cut flower, they come in every color of the rainbow and are symbolic of spring and renewal. Needs well-drained soil. Blooms in spring.', 'sale_price': 8.4, 'quantity': 93, 'buy_price': 17.4, 'date': 'None', 'picture_path': '/Users/kacperjarzyna/systemy_rozproszone/test_notebooks/data/img_flowers/tulip.jpg'}\n",
      "{'id': 'iPKqz6Tz4Q', 'name': 'Rose', 'description': 'Over 100 species of rose exist along with almost countless cultivars, known for their beauty and fragrance, often symbols of love and admiration. Needs well-drained soil. Blooms in late spring to early fall.', 'sale_price': 8.1, 'quantity': 83, 'buy_price': 14.0, 'date': 'None', 'picture_path': '/Users/kacperjarzyna/systemy_rozproszone/test_notebooks/data/img_flowers/rose.jpg'}\n",
      "{'id': 'M-f297vqV9', 'name': 'Zinnia', 'description': 'Large blooms in vibrant colors that attract butterflies, zinnias are popular for their long-lasting flowers and ease of growth. Needs well-drained soil. Blooms in mid-summer to mid-fall.', 'sale_price': 11.2, 'quantity': 29, 'buy_price': 13.5, 'date': 'None', 'picture_path': '/Users/kacperjarzyna/systemy_rozproszone/test_notebooks/data/img_flowers/zinnia.jpg'}\n",
      "{'id': 'kNMSFMES1p', 'name': 'Bloodroot', 'description': 'Named for its red colored sap that flows from cut stems, bloodroot flowers are white with a bright yellow center. Needs well-drained soil. Blooms in early spring.', 'sale_price': 10.4, 'quantity': 14, 'buy_price': 13.5, 'date': 'None', 'picture_path': '/Users/kacperjarzyna/systemy_rozproszone/test_notebooks/data/img_flowers/bloodroot.jpg'}\n",
      "{'id': 'r7oBmmITja', 'name': 'Violet', 'description': 'A common house plant, they come in many colors and are known for their delicate, heart-shaped leaves and small blooms. Needs well-drained soil. Blooms in early spring to early fall.', 'sale_price': 10.5, 'quantity': 63, 'buy_price': 10.7, 'date': 'None', 'picture_path': '/Users/kacperjarzyna/systemy_rozproszone/test_notebooks/data/img_flowers/violet.jpg'}\n",
      "{'id': 'xpCmuEWSgy', 'name': 'Daffodil', 'description': 'Known for their trumpet-like flowers and bright yellow petals, daffodils are a harbinger of spring. Needs well-drained soil. Blooms in early spring.', 'sale_price': 9.6, 'quantity': 10, 'buy_price': 16.8, 'date': 'None', 'picture_path': '/Users/kacperjarzyna/systemy_rozproszone/test_notebooks/data/img_flowers/daffodil.jpg'}\n",
      "{'id': 'vhKSTKKHfD', 'name': 'Marigold', 'description': 'Popular for their vibrant orange and yellow blooms, marigolds are easy to grow and can help repel garden pests. Needs full sun. Blooms in summer to fall.', 'sale_price': 8.7, 'quantity': 11, 'buy_price': 17.0, 'date': 'None', 'picture_path': '/Users/kacperjarzyna/systemy_rozproszone/test_notebooks/data/img_flowers/marigold.jpg'}\n",
      "{'id': 'qd2NFErH9O', 'name': 'Hydrangea', 'description': 'Large flower heads and a variety of colors, usually blue, pink, or white, hydrangeas are beloved in garden landscapes. Needs moist soil. Blooms in late spring to summer.', 'sale_price': 17.1, 'quantity': 47, 'buy_price': 19.8, 'date': 'None', 'picture_path': '/Users/kacperjarzyna/systemy_rozproszone/test_notebooks/data/img_flowers/hydrangea.jpg'}\n",
      "{'id': '04eXv00yf8', 'name': 'Lavender', 'description': 'Famous for its fragrance, often used in oils and sachets, lavender is also known for its beautiful purple flowers. Needs well-drained soil. Blooms in late spring to early summer.', 'sale_price': 3.3, 'quantity': 68, 'buy_price': 11.3, 'date': 'None', 'picture_path': '/Users/kacperjarzyna/systemy_rozproszone/test_notebooks/data/img_flowers/lavender.jpg'}\n",
      "{'id': 'LOx67LYPJ5', 'name': 'Peony', 'description': 'Known for their large, often fragrant blooms, peonies are a garden favorite and come in a variety of colors. Needs rich, well-drained soil. Blooms in late spring to early summer.', 'sale_price': 14.6, 'quantity': 53, 'buy_price': 18.6, 'date': 'None', 'picture_path': '/Users/kacperjarzyna/systemy_rozproszone/test_notebooks/data/img_flowers/peony.jpg'}\n",
      "{'id': 'j5PbaKtjpY', 'name': 'Daisy', 'description': 'Simple and charming, daisies are a symbol of innocence and purity, recognized by their white petals and yellow centers. Needs well-drained soil. Blooms in spring to autumn.', 'sale_price': 11.0, 'quantity': 25, 'buy_price': 17.5, 'date': 'None', 'picture_path': '/Users/kacperjarzyna/systemy_rozproszone/test_notebooks/data/img_flowers/daisy.jpg'}\n",
      "{'id': 'PPLdIPkydr', 'name': 'Chrysanthemum', 'description': 'Known as mums, these flowers come in a variety of colors and are popular in fall gardens for their vibrant blooms. Needs well-drained soil. Blooms in late summer to fall.', 'sale_price': 15.1, 'quantity': 98, 'buy_price': 18.9, 'date': 'None', 'picture_path': '/Users/kacperjarzyna/systemy_rozproszone/test_notebooks/data/img_flowers/chrysanthemum.jpg'}\n",
      "{'id': 'L1vMazA1cD', 'name': 'Aster', 'description': 'Star-shaped flowers that come in many colors, asters are a great addition to any garden and attract pollinators. Needs well-drained soil. Blooms in late summer to fall.', 'sale_price': 3.6, 'quantity': 55, 'buy_price': 12.5, 'date': 'None', 'picture_path': '/Users/kacperjarzyna/systemy_rozproszone/test_notebooks/data/img_flowers/aster.jpg'}\n",
      "{'id': 'X-Okz2rZKj', 'name': 'Iris', 'description': 'Distinctive flowers with unique petal arrangements and a wide range of colors, irises are named after the Greek goddess of the rainbow. Needs well-drained soil. Blooms in late spring to early summer.', 'sale_price': 9.7, 'quantity': 17, 'buy_price': 16.8, 'date': 'None', 'picture_path': '/Users/kacperjarzyna/systemy_rozproszone/test_notebooks/data/img_flowers/iris.jpg'}\n",
      "{'id': 'I695swb-AK', 'name': 'Sunflower', 'description': 'Tall and bright, they follow the sun across the sky and are known for their large, cheerful blooms. Needs full sun. Blooms in summer.', 'sale_price': 6.9, 'quantity': 76, 'buy_price': 12.7, 'date': 'None', 'picture_path': '/Users/kacperjarzyna/systemy_rozproszone/test_notebooks/data/img_flowers/sunflower.jpg'}\n",
      "{'id': 'FoC_sLW6C6', 'name': 'Orchid', 'description': 'Exotic flowers with intricate patterns, often grown as houseplants, orchids come in many varieties and colors. Needs well-drained, humid soil. Blooms throughout the year.', 'sale_price': 20.0, 'quantity': 74, 'buy_price': 19.8, 'date': 'None', 'picture_path': '/Users/kacperjarzyna/systemy_rozproszone/test_notebooks/data/img_flowers/orchid.jpg'}\n",
      "{'id': 'IJYjl9Z9EN', 'name': 'Begonia', 'description': 'Popular in gardens and as houseplants, they come in a variety of colors and forms, known for their vibrant blooms and foliage. Needs moist, well-drained soil. Blooms in summer.', 'sale_price': 11.6, 'quantity': 49, 'buy_price': 18.2, 'date': 'None', 'picture_path': '/Users/kacperjarzyna/systemy_rozproszone/test_notebooks/data/img_flowers/begonia.jpg'}\n",
      "{'id': 'JWo2m9HXEB', 'name': 'Forsythia', 'description': 'Early blooming shrub with bright yellow flowers that herald the arrival of spring. Needs well-drained soil. Blooms in early spring.', 'sale_price': 9.4, 'quantity': 33, 'buy_price': 14.4, 'date': 'None', 'picture_path': '/Users/kacperjarzyna/systemy_rozproszone/test_notebooks/data/img_flowers/forsythia.jpg'}\n",
      "{'id': 'LojTN31_Jk', 'name': 'Heather', 'description': 'Small, bell-shaped flowers, often used as ground cover and in rock gardens, known for their resilience and beauty. Needs acidic soil. Blooms in late summer to fall.', 'sale_price': 7.0, 'quantity': 66, 'buy_price': 14.4, 'date': 'None', 'picture_path': '/Users/kacperjarzyna/systemy_rozproszone/test_notebooks/data/img_flowers/heather.jpg'}\n",
      "{'id': 'zGvYrebhBG', 'name': 'Jasmine', 'description': 'Known for their sweet fragrance, often used in perfumes and teas, jasmine flowers are small and usually white or yellow. Needs well-drained soil. Blooms in summer.', 'sale_price': 10.3, 'quantity': 76, 'buy_price': 16.3, 'date': 'None', 'picture_path': '/Users/kacperjarzyna/systemy_rozproszone/test_notebooks/data/img_flowers/jasmine.jpg'}\n",
      "{'id': 'uKlJmUhXrU', 'name': 'Azalea', 'description': 'Known for their vibrant blooms and use in bonsai, azaleas are a type of rhododendron with a wide range of colors. Needs acidic, well-drained soil. Blooms in spring.', 'sale_price': 18.4, 'quantity': 79, 'buy_price': 18.5, 'date': 'None', 'picture_path': '/Users/kacperjarzyna/systemy_rozproszone/test_notebooks/data/img_flowers/azalea.jpg'}\n",
      "{'id': 'RgpHxQ5fCP', 'name': 'Rhododendron', 'description': 'Large clusters of blooms, often used in landscaping for their showy flowers and evergreen foliage. Needs acidic soil. Blooms in spring.', 'sale_price': 9.9, 'quantity': 7, 'buy_price': 15.2, 'date': 'None', 'picture_path': '/Users/kacperjarzyna/systemy_rozproszone/test_notebooks/data/img_flowers/rhododendron.jpg'}\n",
      "{'id': '-qCvZQTgUx', 'name': 'Geranium', 'description': 'Popular in window boxes and gardens, they come in many colors and are known for their long blooming season and easy care. Needs well-drained soil. Blooms in spring to fall.', 'sale_price': 14.2, 'quantity': 24, 'buy_price': 14.9, 'date': 'None', 'picture_path': '/Users/kacperjarzyna/systemy_rozproszone/test_notebooks/data/img_flowers/geranium.jpg'}\n",
      "{'id': 'euuroxR35_', 'name': 'Lobelia', 'description': 'Small, vibrant blue flowers often used in borders and containers, known for their intense color. Needs well-drained soil. Blooms in summer.', 'sale_price': 5.4, 'quantity': 21, 'buy_price': 11.4, 'date': 'None', 'picture_path': '/Users/kacperjarzyna/systemy_rozproszone/test_notebooks/data/img_flowers/lobelia.jpg'}\n",
      "{'id': '7TP4OM640z', 'name': 'Snapdragon', 'description': 'Tall spikes of flowers that resemble a dragon’s mouth when squeezed, available in a wide range of colors. Needs well-drained soil. Blooms in spring to fall.', 'sale_price': 2.7, 'quantity': 9, 'buy_price': 10.5, 'date': 'None', 'picture_path': '/Users/kacperjarzyna/systemy_rozproszone/test_notebooks/data/img_flowers/snapdragon.jpg'}\n",
      "{'id': '-6CkE6IY3y', 'name': 'Anemone', 'description': 'Known for their delicate, wind-blown appearance, anemones come in various colors and are often used in floral arrangements. Needs well-drained soil. Blooms in spring or fall.', 'sale_price': 8.5, 'quantity': 15, 'buy_price': 11.7, 'date': 'None', 'picture_path': '/Users/kacperjarzyna/systemy_rozproszone/test_notebooks/data/img_flowers/anemone.jpg'}\n",
      "{'id': 'OTqZBUdjOh', 'name': 'Fuchsia', 'description': 'Recognizable by their pendulous flowers, often in shades of pink, purple, and red, fuchsias are popular in hanging baskets. Needs well-drained soil. Blooms in summer to fall.', 'sale_price': 15.4, 'quantity': 38, 'buy_price': 15.5, 'date': 'None', 'picture_path': '/Users/kacperjarzyna/systemy_rozproszone/test_notebooks/data/img_flowers/fuchsia.jpg'}\n",
      "{'id': '_KK4mSfV2X', 'name': 'Primrose', 'description': 'Early blooming flowers that come in many colors and are often found in woodlands and shady areas. Needs well-drained soil. Blooms in spring.', 'sale_price': 16.1, 'quantity': 39, 'buy_price': 15.3, 'date': 'None', 'picture_path': '/Users/kacperjarzyna/systemy_rozproszone/test_notebooks/data/img_flowers/primrose.jpg'}\n",
      "{'id': 'oSEtXsssCp', 'name': 'Crocus', 'description': 'One of the first flowers to bloom in spring, they come in a variety of colors and signal the end of winter. Needs well-drained soil. Blooms in early spring.', 'sale_price': 14.0, 'quantity': 59, 'buy_price': 15.9, 'date': 'None', 'picture_path': '/Users/kacperjarzyna/systemy_rozproszone/test_notebooks/data/img_flowers/crocus.jpg'}\n",
      "{'id': 'vBxPOPCPSP', 'name': 'Bluebell', 'description': 'Known for their beautiful blue, bell-shaped flowers, often carpeting woodland floors in spring. Needs moist, well-drained soil. Blooms in spring.', 'sale_price': 4.3, 'quantity': 47, 'buy_price': 11.6, 'date': 'None', 'picture_path': '/Users/kacperjarzyna/systemy_rozproszone/test_notebooks/data/img_flowers/bluebell.jpg'}\n",
      "{'id': '5UYCOrhuM1', 'name': 'Gladiolus', 'description': 'Tall spikes of flowers that are often used in floral arrangements, gladiolus come in many colors and are known for their striking appearance. Needs well-drained soil. Blooms in summer.', 'sale_price': 9.3, 'quantity': 55, 'buy_price': 12.8, 'date': 'None', 'picture_path': '/Users/kacperjarzyna/systemy_rozproszone/test_notebooks/data/img_flowers/gladiolus.jpg'}\n",
      "{'id': 'BSlFaqDg10', 'name': 'Freesia', 'description': 'Highly fragrant flowers that are often used in bouquets, freesias come in a range of colors and are prized for their scent. Needs well-drained soil. Blooms in spring to summer.', 'sale_price': 7.6, 'quantity': 74, 'buy_price': 13.4, 'date': 'None', 'picture_path': '/Users/kacperjarzyna/systemy_rozproszone/test_notebooks/data/img_flowers/freesia.jpg'}\n",
      "{'id': 'GzuAaKeFU4', 'name': 'Camellia', 'description': 'Glossy green leaves and beautiful, rose-like flowers make camellias a favorite in southern gardens. Needs well-drained, acidic soil. Blooms in winter to spring.', 'sale_price': 13.2, 'quantity': 91, 'buy_price': 13.0, 'date': 'None', 'picture_path': '/Users/kacperjarzyna/systemy_rozproszone/test_notebooks/data/img_flowers/camellia.jpg'}\n",
      "{'id': 'NLm0TwZrHd', 'name': 'Allium', 'description': 'Known for their spherical flower heads, often purple, alliums are related to onions and garlic and add a unique touch to gardens. Needs well-drained soil. Blooms in late spring to early summer.', 'sale_price': 14.8, 'quantity': 96, 'buy_price': 15.4, 'date': 'None', 'picture_path': '/Users/kacperjarzyna/systemy_rozproszone/test_notebooks/data/img_flowers/allium.jpg'}\n",
      "{'id': '_tFqxS34AX', 'name': 'Amaryllis', 'description': 'Large, trumpet-shaped flowers that are often grown indoors during winter, amaryllis come in various colors. Needs well-drained soil. Blooms in winter to spring.', 'sale_price': 12.5, 'quantity': 5, 'buy_price': 14.6, 'date': 'None', 'picture_path': '/Users/kacperjarzyna/systemy_rozproszone/test_notebooks/data/img_flowers/amaryllis.jpg'}\n",
      "{'id': 'vx9puXy1DT', 'name': 'Delphinium', 'description': 'Tall spikes of flowers that come in various shades of blue, purple, pink, and white, known for their striking height and beauty. Needs well-drained soil. Blooms in early to mid-summer.', 'sale_price': 12.1, 'quantity': 70, 'buy_price': 18.9, 'date': 'None', 'picture_path': '/Users/kacperjarzyna/systemy_rozproszone/test_notebooks/data/img_flowers/delphinium.jpg'}\n",
      "{'id': 'sTTRftE-HD', 'name': 'Columbine', 'description': 'Distinctive flowers with spurred petals, popular in cottage gardens and attracting hummingbirds. Needs well-drained soil. Blooms in spring to early summer.', 'sale_price': 8.7, 'quantity': 16, 'buy_price': 16.1, 'date': 'None', 'picture_path': '/Users/kacperjarzyna/systemy_rozproszone/test_notebooks/data/img_flowers/columbine.jpg'}\n",
      "{'id': 'iDNca4HOac', 'name': 'Cornflower', 'description': 'Blue, star-like flowers that are often used in wildflower gardens and are known for their bright color. Needs well-drained soil. Blooms in summer.', 'sale_price': 9.5, 'quantity': 5, 'buy_price': 14.5, 'date': 'None', 'picture_path': '/Users/kacperjarzyna/systemy_rozproszone/test_notebooks/data/img_flowers/cornflower.jpg'}\n",
      "{'id': '8hZS9SzsxK', 'name': 'Gazania', 'description': 'Sun-loving flowers with daisy-like blooms that close at night and in cloudy weather, available in a variety of bright colors. Needs well-drained soil. Blooms in summer.', 'sale_price': 6.6, 'quantity': 51, 'buy_price': 11.4, 'date': 'None', 'picture_path': '/Users/kacperjarzyna/systemy_rozproszone/test_notebooks/data/img_flowers/gazania.jpg'}\n",
      "{'id': '1QtxVpyEQq', 'name': 'Heliotrope', 'description': 'Known for their sweet vanilla-like fragrance, heliotrope flowers are clusters of small, usually purple or white blooms. Needs well-drained soil. Blooms in summer to fall.', 'sale_price': 10.8, 'quantity': 9, 'buy_price': 10.4, 'date': 'None', 'picture_path': '/Users/kacperjarzyna/systemy_rozproszone/test_notebooks/data/img_flowers/heliotrope.jpg'}\n",
      "{'id': 'eaz4sMCKA8', 'name': 'Impatiens', 'description': 'Popular shade-loving flowers that come in a wide range of colors, often used in hanging baskets and as bedding plants. Needs moist, well-drained soil. Blooms in spring to fall.', 'sale_price': 9.3, 'quantity': 40, 'buy_price': 15.1, 'date': 'None', 'picture_path': '/Users/kacperjarzyna/systemy_rozproszone/test_notebooks/data/img_flowers/impatiens.jpg'}\n",
      "{'id': '1l1fFvvrTo', 'name': 'Canna', 'description': 'Large, tropical-looking flowers that add a touch of the exotic to gardens, cannas come in vibrant colors and have bold foliage. Needs well-drained soil. Blooms in summer to fall.', 'sale_price': 14.8, 'quantity': 44, 'buy_price': 18.5, 'date': 'None', 'picture_path': '/Users/kacperjarzyna/systemy_rozproszone/test_notebooks/data/img_flowers/canna.jpg'}\n",
      "{'id': '1Z-m7mzf7_', 'name': 'Coreopsis', 'description': 'Daisy-like flowers that are known for their long blooming period and bright yellow or orange colors. Needs well-drained soil. Blooms in summer to fall.', 'sale_price': 11.8, 'quantity': 61, 'buy_price': 16.9, 'date': 'None', 'picture_path': '/Users/kacperjarzyna/systemy_rozproszone/test_notebooks/data/img_flowers/coreopsis.jpg'}\n",
      "{'id': 'R2kCQWDW4f', 'name': 'Verbena', 'description': 'Clusters of small, colorful flowers that are perfect for hanging baskets and borders, known for their long bloom period. Needs well-drained soil. Blooms in summer to fall.', 'sale_price': 4.6, 'quantity': 99, 'buy_price': 12.3, 'date': 'None', 'picture_path': '/Users/kacperjarzyna/systemy_rozproszone/test_notebooks/data/img_flowers/verbena.jpg'}\n",
      "{'id': 'yquBdGKBuB', 'name': 'Cosmos', 'description': 'Dainty, daisy-like flowers that are easy to grow and come in shades of pink, white, and orange. Needs well-drained Blooms in summer to fall.', 'sale_price': 12.9, 'quantity': 11, 'buy_price': 16.2, 'date': 'None', 'picture_path': '/Users/kacperjarzyna/systemy_rozproszone/test_notebooks/data/img_flowers/cosmos.jpg'}\n"
     ]
    }
   ],
   "source": [
    "for index,item in data.iterrows():\n",
    "    product_id = nanoid.generate(size=10)\n",
    "    product_data = {\n",
    "    \"id\": product_id,\n",
    "    \"name\": item['Name'][0] + item['Name'][1:].lower(),\n",
    "    \"description\": item['Description'],\n",
    "    \"sale_price\": item['Sale_price'],\n",
    "    \"quantity\": item['Quantities'],\n",
    "    \"buy_price\": item['Buy_price'],\n",
    "    \"date\": 'None',\n",
    "    \"picture_path\": item['pic_path']\n",
    "    }\n",
    "    create_product(product_data)\n"
   ]
  },
  {
   "cell_type": "code",
   "execution_count": 85,
   "metadata": {},
   "outputs": [
    {
     "ename": "TypeError",
     "evalue": "'generator' object is not subscriptable",
     "output_type": "error",
     "traceback": [
      "\u001b[0;31m---------------------------------------------------------------------------\u001b[0m",
      "\u001b[0;31mTypeError\u001b[0m                                 Traceback (most recent call last)",
      "Cell \u001b[0;32mIn[85], line 1\u001b[0m\n\u001b[0;32m----> 1\u001b[0m \u001b[43mdata\u001b[49m\u001b[38;5;241;43m.\u001b[39;49m\u001b[43mitems\u001b[49m\u001b[43m(\u001b[49m\u001b[43m)\u001b[49m\u001b[43m[\u001b[49m\u001b[38;5;241;43m0\u001b[39;49m\u001b[43m]\u001b[49m\n",
      "\u001b[0;31mTypeError\u001b[0m: 'generator' object is not subscriptable"
     ]
    }
   ],
   "source": [
    "data.items()"
   ]
  },
  {
   "cell_type": "code",
   "execution_count": 108,
   "metadata": {},
   "outputs": [
    {
     "name": "stdout",
     "output_type": "stream",
     "text": [
      "{'_id': ObjectId('66588990e11c5520466d10ee'), 'id': 'oMRvye87EN', 'name': 'dwa', 'description': 'dwa', 'sale_price': 0.01, 'quantity': 1, 'buy_price': 0.01, 'date': '2024-05-30', 'picture_path': '66588990e11c5520466d10ec'}\n"
     ]
    }
   ],
   "source": [
    "import pymongo\n",
    "\n",
    "# Connect to the MongoDB server\n",
    "client = pymongo.MongoClient(\"mongodb://localhost:27017/\")\n",
    "\n",
    "# Select your database\n",
    "db = client[\"ecommerce-app\"]\n",
    "\n",
    "# List all collection names in the database\n",
    "collection_names = db.list_collection_names()\n",
    "\n",
    "\n",
    "collection = db['products']\n",
    "# Find all documents in the collection\n",
    "documents = collection.find()\n",
    "for x in documents:\n",
    "    print(x)\n",
    "\n"
   ]
  },
  {
   "cell_type": "code",
   "execution_count": 107,
   "metadata": {},
   "outputs": [],
   "source": [
    "db.drop_collection('products')\n",
    "for document in documents:\n",
    "    print(document)"
   ]
  }
 ],
 "metadata": {
  "kernelspec": {
   "display_name": "Chatbot",
   "language": "python",
   "name": "python3"
  },
  "language_info": {
   "codemirror_mode": {
    "name": "ipython",
    "version": 3
   },
   "file_extension": ".py",
   "mimetype": "text/x-python",
   "name": "python",
   "nbconvert_exporter": "python",
   "pygments_lexer": "ipython3",
   "version": "3.11.3"
  }
 },
 "nbformat": 4,
 "nbformat_minor": 2
}
