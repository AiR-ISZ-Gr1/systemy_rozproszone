{
 "cells": [
  {
   "cell_type": "code",
   "execution_count": 11,
   "metadata": {},
   "outputs": [],
   "source": [
    "import pandas as pd\n",
    "import numpy as np\n",
    "import nanoid\n",
    "import pymongo\n",
    "from openai import OpenAI\n",
    "import requests\n",
    "from datetime import datetime\n",
    "\n"
   ]
  },
  {
   "cell_type": "code",
   "execution_count": 15,
   "metadata": {},
   "outputs": [],
   "source": [
    "quantites = np.random.randint(1,100,size=48)\n",
    "prices_buy = np.random.randint(1,2,size=48)*10 + np.random.randint(0,10,size=48) + np.random.randint(0,10,size=48)*0.1\n",
    "prices_sale = prices_buy - np.random.randint(0,10,size=48) + np.random.randint(0,10,size=48)*0.1\n"
   ]
  },
  {
   "cell_type": "code",
   "execution_count": 18,
   "metadata": {},
   "outputs": [],
   "source": [
    "data = pd.read_csv('data/flowershopdata.csv')\n",
    "data['Description'] = data[['Description', 'Needs','Season']].apply(lambda x: ' '.join(x.dropna().astype(str)), axis=1)\n",
    "data['Buy_price'] = prices_buy\n",
    "data['Sale_price'] = np.round(prices_sale,2)\n",
    "data['Quantities'] = quantites\n",
    "jpg_paths = [f\"init_data/products/img_flowers/{flower.lower()}.jpg\" for flower in data['Name']]\n",
    "data['pic_path'] = jpg_paths\n",
    "data['id'] = [nanoid.generate(size=10) for x in range(48)]\n",
    "data['date'] =[datetime.now().strftime(\"%d-%m-%Y %H:%M:%S\") for x in range(48)]\n",
    "data['tags'] = ['flower' for x in range(48)]\n",
    "data.drop(columns=['Needs','Season'],inplace=True)"
   ]
  },
  {
   "cell_type": "code",
   "execution_count": 19,
   "metadata": {},
   "outputs": [],
   "source": [
    "data.to_csv('data/flowershopdata_clean.csv')"
   ]
  },
  {
   "cell_type": "code",
   "execution_count": 46,
   "metadata": {},
   "outputs": [],
   "source": [
    "import os\n",
    "import requests\n",
    "from bs4 import BeautifulSoup\n",
    "from PIL import Image\n",
    "from io import BytesIO\n",
    "from selenium import webdriver\n",
    "from selenium.webdriver.common.by import By\n",
    "import time\n",
    "\n",
    "def fetch_first_image_url(query):\n",
    "    options = webdriver.SafariOptions()\n",
    "    driver = webdriver.Safari(options=options)\n",
    "\n",
    "    search_url = f\"https://pl.pinterest.com/search/pins/?q={query}%20flower&rs=typed\"\n",
    "    driver.get(search_url)\n",
    "\n",
    "    time.sleep(2)\n",
    "    image_elements = driver.find_elements(By.CSS_SELECTOR, 'img')\n",
    "\n",
    "    if len(image_elements) >= 10:\n",
    "        # Get the URL of the 10th image\n",
    "        image_element = image_elements[9]  # Index 9 corresponds to the 10th image (0-based index)\n",
    "        image_url = image_element.get_attribute('src')\n",
    "    else:\n",
    "        print(\"Not enough images found on the page\")\n",
    "        image_url = None\n",
    "\n",
    "    driver.quit()\n",
    "    return image_url\n",
    "\n",
    "def save_image_from_url(url, directory, filename):\n",
    "    response = requests.get(url)\n",
    "    image = Image.open(BytesIO(response.content))\n",
    "    image_path = os.path.join(directory, filename)\n",
    "    image.save(image_path)\n",
    "    print(f\"Image saved to {image_path}\")\n",
    "\n"
   ]
  },
  {
   "cell_type": "code",
   "execution_count": 6,
   "metadata": {},
   "outputs": [],
   "source": [
    "import nanoid\n",
    "def create_product(product_data):\n",
    "    base_url = \"http://127.0.0.1:8000\"\n",
    "    response = requests.post(f\"{base_url}/products/\", json=product_data)\n",
    "    print(response.json())"
   ]
  },
  {
   "cell_type": "code",
   "execution_count": 7,
   "metadata": {},
   "outputs": [],
   "source": [
    "data = pd.read_csv('data/flowershopdata_clean.csv').drop(columns=['Unnamed: 0'])\n",
    "\n"
   ]
  },
  {
   "cell_type": "code",
   "execution_count": 56,
   "metadata": {},
   "outputs": [
    {
     "name": "stdout",
     "output_type": "stream",
     "text": [
      "Collection exits\n"
     ]
    }
   ],
   "source": [
    "from sentence_transformers import SentenceTransformer, util\n",
    "from qdrant_client import QdrantClient, AsyncQdrantClient\n",
    "from qdrant_client.models import Distance, VectorParams\n",
    "from qdrant_client.models import PointStruct\n",
    "\n",
    "model = SentenceTransformer('intfloat/e5-small-v2')\n",
    "vec_len = model[1].word_embedding_dimension\n",
    "client = QdrantClient(url=\"http://127.0.0.1:6333\")\n",
    "names = [item.name for item in client.get_collections().collections]\n",
    "if 'products_description' not in names:\n",
    "    client.create_collection(\n",
    "        collection_name=\"products_description\",\n",
    "        vectors_config=VectorParams(size=vec_len, distance=Distance.COSINE),)\n",
    "else:\n",
    "    print('Collection exits')\n"
   ]
  },
  {
   "cell_type": "code",
   "execution_count": 47,
   "metadata": {},
   "outputs": [
    {
     "data": {
      "text/plain": [
       "True"
      ]
     },
     "execution_count": 47,
     "metadata": {},
     "output_type": "execute_result"
    }
   ],
   "source": [
    "client.delete_collection(\"products_description\")"
   ]
  },
  {
   "cell_type": "code",
   "execution_count": 8,
   "metadata": {},
   "outputs": [],
   "source": [
    "points = [PointStruct(id=index, \n",
    "                      vector=model.encode(item['Description'], normalize_embeddings=True), \n",
    "                      payload={\"Id\": item['id'],\n",
    "                               \"Name\": item['Name'],\n",
    "                               \"Description\":item['Description']}) for index,item in data.iterrows()]\n"
   ]
  },
  {
   "cell_type": "code",
   "execution_count": 215,
   "metadata": {},
   "outputs": [
    {
     "name": "stdout",
     "output_type": "stream",
     "text": [
      "operation_id=0 status=<UpdateStatus.COMPLETED: 'completed'>\n"
     ]
    }
   ],
   "source": [
    "operation_info = client.upsert(\n",
    "    collection_name=\"products_description\",\n",
    "    wait=True,\n",
    "    points=points,\n",
    ")\n",
    "\n",
    "print(operation_info)"
   ]
  },
  {
   "cell_type": "code",
   "execution_count": 35,
   "metadata": {},
   "outputs": [],
   "source": [
    "from pymongo import MongoClient\n",
    "from openai import OpenAI\n",
    "from typing import List\n",
    "from sentence_transformers import SentenceTransformer\n",
    "from qdrant_client import QdrantClient\n"
   ]
  },
  {
   "cell_type": "code",
   "execution_count": 88,
   "metadata": {},
   "outputs": [],
   "source": [
    "question = \"I would like white flower that needs acidic soil\"\n",
    "model = SentenceTransformer(\"intfloat/e5-small-v2\")\n",
    "bot = {\n",
    "    \"mongo_client\": MongoClient(\"mongodb://localhost:27017/\"),\n",
    "    \"qdrant_client\": QdrantClient(\"http://localhost:6333\"),\n",
    "    \"openai_client\":  OpenAI(api_key=\"sk-proj-8j1NyU5gvA4njucbGG3uT3BlbkFJxBLHcRn4z7futfYb4sgb\")\n",
    "},"
   ]
  },
  {
   "cell_type": "code",
   "execution_count": 61,
   "metadata": {},
   "outputs": [],
   "source": [
    "client = AsyncQdrantClient(\"http://localhost:6333\")"
   ]
  },
  {
   "cell_type": "code",
   "execution_count": 119,
   "metadata": {},
   "outputs": [
    {
     "data": {
      "text/plain": [
       "[{'id': 6,\n",
       "  'version': 6,\n",
       "  'score': 0.81549656,\n",
       "  'payload': {'Description': 'Named for its red colored sap that flows from cut stems, bloodroot flowers are white with a bright yellow center. Needs well-drained soil. Blooms in early spring.',\n",
       "   'Id': 'AtfxNCsTNK',\n",
       "   'Name': 'Bloodroot'},\n",
       "  'vector': None,\n",
       "  'shard_key': None},\n",
       " {'id': 21,\n",
       "  'version': 21,\n",
       "  'score': 0.8153006,\n",
       "  'payload': {'Description': 'Small, bell-shaped flowers, often used as ground cover and in rock gardens, known for their resilience and beauty. Needs acidic soil. Blooms in late summer to fall.',\n",
       "   'Id': 'CS9fWn1prj',\n",
       "   'Name': 'Heather'},\n",
       "  'vector': None,\n",
       "  'shard_key': None},\n",
       " {'id': 27,\n",
       "  'version': 27,\n",
       "  'score': 0.8136447,\n",
       "  'payload': {'Description': 'Tall spikes of flowers that resemble a dragon’s mouth when squeezed, available in a wide range of colors. Needs well-drained soil. Blooms in spring to fall.',\n",
       "   'Id': 'A7y3--teGu',\n",
       "   'Name': 'Snapdragon'},\n",
       "  'vector': None,\n",
       "  'shard_key': None}]"
      ]
     },
     "execution_count": 119,
     "metadata": {},
     "output_type": "execute_result"
    }
   ],
   "source": [
    "requests.post(\"http://127.0.0.1:8000/products/vec_search/\", json={'question': 'Red flower'}).json()\n"
   ]
  },
  {
   "cell_type": "code",
   "execution_count": 101,
   "metadata": {},
   "outputs": [
    {
     "data": {
      "text/plain": [
       "48"
      ]
     },
     "execution_count": 101,
     "metadata": {},
     "output_type": "execute_result"
    }
   ],
   "source": [
    "count = await client.count(collection_name=\"products_description\")\n",
    "count.count"
   ]
  },
  {
   "cell_type": "code",
   "execution_count": 78,
   "metadata": {},
   "outputs": [
    {
     "name": "stdout",
     "output_type": "stream",
     "text": [
      "{'_id': ObjectId('665b1044ca78a2d0500ed49f'), 'id': '_ihvY2cxEF', 'name': 'Periwinkle', 'description': 'Perfect as a ground cover, the flowers resemble small, delicate stars and are often found in shades of blue, purple, and white. Needs droughty. Blooms in mid-spring to mid-fall.', 'sell_price': 8.1, 'quantity': 40, 'buy_price': 12.2, 'date': 'None', 'image_id': '665b1044ca78a2d0500ed49d', 'tags': ['flower']}\n",
      "{'_id': ObjectId('665b1044ca78a2d0500ed4a2'), 'id': 'X8tcuAiPKf', 'name': 'Bellflower', 'description': 'Known for their resemblance to bells, these flowers come in shades of blue, purple, pink, and white and add a whimsical touch to any garden. Needs well-drained soil. Blooms in early summer to early fall.', 'sell_price': 13.1, 'quantity': 67, 'buy_price': 13.7, 'date': 'None', 'image_id': '665b1044ca78a2d0500ed4a0', 'tags': ['flower']}\n",
      "{'_id': ObjectId('665b1044ca78a2d0500ed4a5'), 'id': 'J7hVRECgEm', 'name': 'Lily', 'description': 'A highly recognized flower which has bright colors and a distinct fragrance, lilies are often associated with purity and refined beauty. Needs well-drained soil. Blooms in spring to early fall.', 'sell_price': 10.5, 'quantity': 41, 'buy_price': 15.3, 'date': 'None', 'image_id': '665b1044ca78a2d0500ed4a3', 'tags': ['flower']}\n",
      "{'_id': ObjectId('665b1044ca78a2d0500ed4a8'), 'id': '0GUxcnNKTr', 'name': 'Tulip', 'description': 'Great as a cut flower, they come in every color of the rainbow and are symbolic of spring and renewal. Needs well-drained soil. Blooms in spring.', 'sell_price': 5.7, 'quantity': 67, 'buy_price': 14.0, 'date': 'None', 'image_id': '665b1044ca78a2d0500ed4a6', 'tags': ['flower']}\n",
      "{'_id': ObjectId('665b1044ca78a2d0500ed4ab'), 'id': 'WOuYvLGP7w', 'name': 'Rose', 'description': 'Over 100 species of rose exist along with almost countless cultivars, known for their beauty and fragrance, often symbols of love and admiration. Needs well-drained soil. Blooms in late spring to early fall.', 'sell_price': 10.3, 'quantity': 36, 'buy_price': 18.5, 'date': 'None', 'image_id': '665b1044ca78a2d0500ed4a9', 'tags': ['flower']}\n",
      "{'_id': ObjectId('665b1044ca78a2d0500ed4ae'), 'id': 'IA35bodmUU', 'name': 'Zinnia', 'description': 'Large blooms in vibrant colors that attract butterflies, zinnias are popular for their long-lasting flowers and ease of growth. Needs well-drained soil. Blooms in mid-summer to mid-fall.', 'sell_price': 12.9, 'quantity': 2, 'buy_price': 17.4, 'date': 'None', 'image_id': '665b1044ca78a2d0500ed4ac', 'tags': ['flower']}\n",
      "{'_id': ObjectId('665b1044ca78a2d0500ed4b1'), 'id': 'AtfxNCsTNK', 'name': 'Bloodroot', 'description': 'Named for its red colored sap that flows from cut stems, bloodroot flowers are white with a bright yellow center. Needs well-drained soil. Blooms in early spring.', 'sell_price': 11.9, 'quantity': 70, 'buy_price': 19.1, 'date': 'None', 'image_id': '665b1044ca78a2d0500ed4af', 'tags': ['flower']}\n",
      "{'_id': ObjectId('665b1044ca78a2d0500ed4b4'), 'id': '00Z8IjaDD3', 'name': 'Violet', 'description': 'A common house plant, they come in many colors and are known for their delicate, heart-shaped leaves and small blooms. Needs well-drained soil. Blooms in early spring to early fall.', 'sell_price': 4.3, 'quantity': 11, 'buy_price': 12.8, 'date': 'None', 'image_id': '665b1044ca78a2d0500ed4b2', 'tags': ['flower']}\n",
      "{'_id': ObjectId('665b1044ca78a2d0500ed4b7'), 'id': 'WHJg9afebE', 'name': 'Daffodil', 'description': 'Known for their trumpet-like flowers and bright yellow petals, daffodils are a harbinger of spring. Needs well-drained soil. Blooms in early spring.', 'sell_price': 3.7, 'quantity': 49, 'buy_price': 12.4, 'date': 'None', 'image_id': '665b1044ca78a2d0500ed4b5', 'tags': ['flower']}\n",
      "{'_id': ObjectId('665b1044ca78a2d0500ed4ba'), 'id': 'CgsU6O-TeU', 'name': 'Marigold', 'description': 'Popular for their vibrant orange and yellow blooms, marigolds are easy to grow and can help repel garden pests. Needs full sun. Blooms in summer to fall.', 'sell_price': 14.9, 'quantity': 48, 'buy_price': 15.1, 'date': 'None', 'image_id': '665b1044ca78a2d0500ed4b8', 'tags': ['flower']}\n",
      "{'_id': ObjectId('665b1044ca78a2d0500ed4bd'), 'id': 'zVFa1VsDLp', 'name': 'Hydrangea', 'description': 'Large flower heads and a variety of colors, usually blue, pink, or white, hydrangeas are beloved in garden landscapes. Needs moist soil. Blooms in late spring to summer.', 'sell_price': 9.2, 'quantity': 5, 'buy_price': 17.3, 'date': 'None', 'image_id': '665b1044ca78a2d0500ed4bb', 'tags': ['flower']}\n",
      "{'_id': ObjectId('665b1044ca78a2d0500ed4c0'), 'id': 'UKoQtfX4un', 'name': 'Lavender', 'description': 'Famous for its fragrance, often used in oils and sachets, lavender is also known for its beautiful purple flowers. Needs well-drained soil. Blooms in late spring to early summer.', 'sell_price': 9.5, 'quantity': 27, 'buy_price': 13.2, 'date': 'None', 'image_id': '665b1044ca78a2d0500ed4be', 'tags': ['flower']}\n",
      "{'_id': ObjectId('665b1044ca78a2d0500ed4c3'), 'id': 'o_gtwodUHF', 'name': 'Peony', 'description': 'Known for their large, often fragrant blooms, peonies are a garden favorite and come in a variety of colors. Needs rich, well-drained soil. Blooms in late spring to early summer.', 'sell_price': 11.2, 'quantity': 94, 'buy_price': 12.9, 'date': 'None', 'image_id': '665b1044ca78a2d0500ed4c1', 'tags': ['flower']}\n",
      "{'_id': ObjectId('665b1044ca78a2d0500ed4c6'), 'id': '9cQPkJ5fnG', 'name': 'Daisy', 'description': 'Simple and charming, daisies are a symbol of innocence and purity, recognized by their white petals and yellow centers. Needs well-drained soil. Blooms in spring to autumn.', 'sell_price': 8.6, 'quantity': 93, 'buy_price': 16.0, 'date': 'None', 'image_id': '665b1044ca78a2d0500ed4c4', 'tags': ['flower']}\n",
      "{'_id': ObjectId('665b1045ca78a2d0500ed4c9'), 'id': '3jMpIejkr7', 'name': 'Chrysanthemum', 'description': 'Known as mums, these flowers come in a variety of colors and are popular in fall gardens for their vibrant blooms. Needs well-drained soil. Blooms in late summer to fall.', 'sell_price': 14.4, 'quantity': 77, 'buy_price': 15.7, 'date': 'None', 'image_id': '665b1045ca78a2d0500ed4c7', 'tags': ['flower']}\n",
      "{'_id': ObjectId('665b1045ca78a2d0500ed4cc'), 'id': '-lhzFPNmw3', 'name': 'Aster', 'description': 'Star-shaped flowers that come in many colors, asters are a great addition to any garden and attract pollinators. Needs well-drained soil. Blooms in late summer to fall.', 'sell_price': 5.9, 'quantity': 85, 'buy_price': 13.0, 'date': 'None', 'image_id': '665b1045ca78a2d0500ed4ca', 'tags': ['flower']}\n",
      "{'_id': ObjectId('665b1045ca78a2d0500ed4cf'), 'id': 'fnT6pXzKP0', 'name': 'Iris', 'description': 'Distinctive flowers with unique petal arrangements and a wide range of colors, irises are named after the Greek goddess of the rainbow. Needs well-drained soil. Blooms in late spring to early summer.', 'sell_price': 9.8, 'quantity': 24, 'buy_price': 12.9, 'date': 'None', 'image_id': '665b1045ca78a2d0500ed4cd', 'tags': ['flower']}\n",
      "{'_id': ObjectId('665b1045ca78a2d0500ed4d2'), 'id': 'R746hjRC8R', 'name': 'Sunflower', 'description': 'Tall and bright, they follow the sun across the sky and are known for their large, cheerful blooms. Needs full sun. Blooms in summer.', 'sell_price': 9.4, 'quantity': 56, 'buy_price': 12.2, 'date': 'None', 'image_id': '665b1045ca78a2d0500ed4d0', 'tags': ['flower']}\n",
      "{'_id': ObjectId('665b1045ca78a2d0500ed4d5'), 'id': '_E-ZKGwRlt', 'name': 'Orchid', 'description': 'Exotic flowers with intricate patterns, often grown as houseplants, orchids come in many varieties and colors. Needs well-drained, humid soil. Blooms throughout the year.', 'sell_price': 14.1, 'quantity': 17, 'buy_price': 17.6, 'date': 'None', 'image_id': '665b1045ca78a2d0500ed4d3', 'tags': ['flower']}\n",
      "{'_id': ObjectId('665b1045ca78a2d0500ed4d8'), 'id': 'G_IiU9GZQc', 'name': 'Begonia', 'description': 'Popular in gardens and as houseplants, they come in a variety of colors and forms, known for their vibrant blooms and foliage. Needs moist, well-drained soil. Blooms in summer.', 'sell_price': 3.4, 'quantity': 41, 'buy_price': 10.1, 'date': 'None', 'image_id': '665b1045ca78a2d0500ed4d6', 'tags': ['flower']}\n",
      "{'_id': ObjectId('665b1045ca78a2d0500ed4db'), 'id': 'sF4-20cYQc', 'name': 'Forsythia', 'description': 'Early blooming shrub with bright yellow flowers that herald the arrival of spring. Needs well-drained soil. Blooms in early spring.', 'sell_price': 7.0, 'quantity': 80, 'buy_price': 15.1, 'date': 'None', 'image_id': '665b1045ca78a2d0500ed4d9', 'tags': ['flower']}\n",
      "{'_id': ObjectId('665b1045ca78a2d0500ed4de'), 'id': 'CS9fWn1prj', 'name': 'Heather', 'description': 'Small, bell-shaped flowers, often used as ground cover and in rock gardens, known for their resilience and beauty. Needs acidic soil. Blooms in late summer to fall.', 'sell_price': 7.7, 'quantity': 89, 'buy_price': 11.4, 'date': 'None', 'image_id': '665b1045ca78a2d0500ed4dc', 'tags': ['flower']}\n",
      "{'_id': ObjectId('665b1045ca78a2d0500ed4e1'), 'id': 'S-eaVUdShM', 'name': 'Jasmine', 'description': 'Known for their sweet fragrance, often used in perfumes and teas, jasmine flowers are small and usually white or yellow. Needs well-drained soil. Blooms in summer.', 'sell_price': 12.9, 'quantity': 17, 'buy_price': 16.7, 'date': 'None', 'image_id': '665b1045ca78a2d0500ed4df', 'tags': ['flower']}\n",
      "{'_id': ObjectId('665b1045ca78a2d0500ed4e4'), 'id': 'azMUK48QID', 'name': 'Azalea', 'description': 'Known for their vibrant blooms and use in bonsai, azaleas are a type of rhododendron with a wide range of colors. Needs acidic, well-drained soil. Blooms in spring.', 'sell_price': 14.4, 'quantity': 87, 'buy_price': 16.4, 'date': 'None', 'image_id': '665b1045ca78a2d0500ed4e2', 'tags': ['flower']}\n",
      "{'_id': ObjectId('665b1045ca78a2d0500ed4e7'), 'id': 'CiXDjEv0vN', 'name': 'Rhododendron', 'description': 'Large clusters of blooms, often used in landscaping for their showy flowers and evergreen foliage. Needs acidic soil. Blooms in spring.', 'sell_price': 10.8, 'quantity': 82, 'buy_price': 18.7, 'date': 'None', 'image_id': '665b1045ca78a2d0500ed4e5', 'tags': ['flower']}\n",
      "{'_id': ObjectId('665b1045ca78a2d0500ed4ea'), 'id': 'rV7Pw3purQ', 'name': 'Geranium', 'description': 'Popular in window boxes and gardens, they come in many colors and are known for their long blooming season and easy care. Needs well-drained soil. Blooms in spring to fall.', 'sell_price': 11.3, 'quantity': 70, 'buy_price': 11.7, 'date': 'None', 'image_id': '665b1045ca78a2d0500ed4e8', 'tags': ['flower']}\n",
      "{'_id': ObjectId('665b1045ca78a2d0500ed4ed'), 'id': 'P45PakP_Xs', 'name': 'Lobelia', 'description': 'Small, vibrant blue flowers often used in borders and containers, known for their intense color. Needs well-drained soil. Blooms in summer.', 'sell_price': 16.0, 'quantity': 6, 'buy_price': 17.5, 'date': 'None', 'image_id': '665b1045ca78a2d0500ed4eb', 'tags': ['flower']}\n",
      "{'_id': ObjectId('665b1045ca78a2d0500ed4f0'), 'id': 'A7y3--teGu', 'name': 'Snapdragon', 'description': 'Tall spikes of flowers that resemble a dragon’s mouth when squeezed, available in a wide range of colors. Needs well-drained soil. Blooms in spring to fall.', 'sell_price': 12.9, 'quantity': 22, 'buy_price': 17.6, 'date': 'None', 'image_id': '665b1045ca78a2d0500ed4ee', 'tags': ['flower']}\n",
      "{'_id': ObjectId('665b1045ca78a2d0500ed4f3'), 'id': 'kuN1yq6RR4', 'name': 'Anemone', 'description': 'Known for their delicate, wind-blown appearance, anemones come in various colors and are often used in floral arrangements. Needs well-drained soil. Blooms in spring or fall.', 'sell_price': 12.7, 'quantity': 2, 'buy_price': 17.3, 'date': 'None', 'image_id': '665b1045ca78a2d0500ed4f1', 'tags': ['flower']}\n",
      "{'_id': ObjectId('665b1045ca78a2d0500ed4f6'), 'id': 'tMe6_pOiUb', 'name': 'Fuchsia', 'description': 'Recognizable by their pendulous flowers, often in shades of pink, purple, and red, fuchsias are popular in hanging baskets. Needs well-drained soil. Blooms in summer to fall.', 'sell_price': 17.4, 'quantity': 71, 'buy_price': 19.4, 'date': 'None', 'image_id': '665b1045ca78a2d0500ed4f4', 'tags': ['flower']}\n",
      "{'_id': ObjectId('665b1045ca78a2d0500ed4f9'), 'id': '4YLG29WuoD', 'name': 'Primrose', 'description': 'Early blooming flowers that come in many colors and are often found in woodlands and shady areas. Needs well-drained soil. Blooms in spring.', 'sell_price': 8.7, 'quantity': 53, 'buy_price': 13.5, 'date': 'None', 'image_id': '665b1045ca78a2d0500ed4f7', 'tags': ['flower']}\n",
      "{'_id': ObjectId('665b1045ca78a2d0500ed4fc'), 'id': 'xIsL3vy9jX', 'name': 'Crocus', 'description': 'One of the first flowers to bloom in spring, they come in a variety of colors and signal the end of winter. Needs well-drained soil. Blooms in early spring.', 'sell_price': 10.0, 'quantity': 79, 'buy_price': 17.8, 'date': 'None', 'image_id': '665b1045ca78a2d0500ed4fa', 'tags': ['flower']}\n",
      "{'_id': ObjectId('665b1045ca78a2d0500ed4ff'), 'id': 'QZHcgsdTrp', 'name': 'Bluebell', 'description': 'Known for their beautiful blue, bell-shaped flowers, often carpeting woodland floors in spring. Needs moist, well-drained soil. Blooms in spring.', 'sell_price': 12.4, 'quantity': 5, 'buy_price': 13.1, 'date': 'None', 'image_id': '665b1045ca78a2d0500ed4fd', 'tags': ['flower']}\n",
      "{'_id': ObjectId('665b1045ca78a2d0500ed502'), 'id': 'Drdwc2G0QW', 'name': 'Gladiolus', 'description': 'Tall spikes of flowers that are often used in floral arrangements, gladiolus come in many colors and are known for their striking appearance. Needs well-drained soil. Blooms in summer.', 'sell_price': 13.0, 'quantity': 33, 'buy_price': 16.3, 'date': 'None', 'image_id': '665b1045ca78a2d0500ed500', 'tags': ['flower']}\n",
      "{'_id': ObjectId('665b1045ca78a2d0500ed505'), 'id': 'zYq3AMWqa3', 'name': 'Freesia', 'description': 'Highly fragrant flowers that are often used in bouquets, freesias come in a range of colors and are prized for their scent. Needs well-drained soil. Blooms in spring to summer.', 'sell_price': 13.3, 'quantity': 87, 'buy_price': 14.5, 'date': 'None', 'image_id': '665b1045ca78a2d0500ed503', 'tags': ['flower']}\n",
      "{'_id': ObjectId('665b1045ca78a2d0500ed508'), 'id': 'Wl9jQDY1wS', 'name': 'Camellia', 'description': 'Glossy green leaves and beautiful, rose-like flowers make camellias a favorite in southern gardens. Needs well-drained, acidic soil. Blooms in winter to spring.', 'sell_price': 11.9, 'quantity': 72, 'buy_price': 18.9, 'date': 'None', 'image_id': '665b1045ca78a2d0500ed506', 'tags': ['flower']}\n",
      "{'_id': ObjectId('665b1046ca78a2d0500ed50b'), 'id': 'fBMVMwy2D-', 'name': 'Allium', 'description': 'Known for their spherical flower heads, often purple, alliums are related to onions and garlic and add a unique touch to gardens. Needs well-drained soil. Blooms in late spring to early summer.', 'sell_price': 16.6, 'quantity': 68, 'buy_price': 17.1, 'date': 'None', 'image_id': '665b1045ca78a2d0500ed509', 'tags': ['flower']}\n",
      "{'_id': ObjectId('665b1046ca78a2d0500ed50e'), 'id': 'J5k54tgIUo', 'name': 'Amaryllis', 'description': 'Large, trumpet-shaped flowers that are often grown indoors during winter, amaryllis come in various colors. Needs well-drained soil. Blooms in winter to spring.', 'sell_price': 15.7, 'quantity': 29, 'buy_price': 17.0, 'date': 'None', 'image_id': '665b1046ca78a2d0500ed50c', 'tags': ['flower']}\n",
      "{'_id': ObjectId('665b1046ca78a2d0500ed511'), 'id': '7ipw2-n6el', 'name': 'Delphinium', 'description': 'Tall spikes of flowers that come in various shades of blue, purple, pink, and white, known for their striking height and beauty. Needs well-drained soil. Blooms in early to mid-summer.', 'sell_price': 13.4, 'quantity': 30, 'buy_price': 19.7, 'date': 'None', 'image_id': '665b1046ca78a2d0500ed50f', 'tags': ['flower']}\n",
      "{'_id': ObjectId('665b1046ca78a2d0500ed514'), 'id': 'lrwvdH2JxR', 'name': 'Columbine', 'description': 'Distinctive flowers with spurred petals, popular in cottage gardens and attracting hummingbirds. Needs well-drained soil. Blooms in spring to early summer.', 'sell_price': 9.1, 'quantity': 44, 'buy_price': 14.7, 'date': 'None', 'image_id': '665b1046ca78a2d0500ed512', 'tags': ['flower']}\n",
      "{'_id': ObjectId('665b1046ca78a2d0500ed517'), 'id': 'iDgq32JgbD', 'name': 'Cornflower', 'description': 'Blue, star-like flowers that are often used in wildflower gardens and are known for their bright color. Needs well-drained soil. Blooms in summer.', 'sell_price': 14.2, 'quantity': 80, 'buy_price': 16.3, 'date': 'None', 'image_id': '665b1046ca78a2d0500ed515', 'tags': ['flower']}\n",
      "{'_id': ObjectId('665b1046ca78a2d0500ed51a'), 'id': 'JvHD1bTkT2', 'name': 'Gazania', 'description': 'Sun-loving flowers with daisy-like blooms that close at night and in cloudy weather, available in a variety of bright colors. Needs well-drained soil. Blooms in summer.', 'sell_price': 12.9, 'quantity': 59, 'buy_price': 13.6, 'date': 'None', 'image_id': '665b1046ca78a2d0500ed518', 'tags': ['flower']}\n",
      "{'_id': ObjectId('665b1046ca78a2d0500ed51d'), 'id': 'hafuP76NWY', 'name': 'Heliotrope', 'description': 'Known for their sweet vanilla-like fragrance, heliotrope flowers are clusters of small, usually purple or white blooms. Needs well-drained soil. Blooms in summer to fall.', 'sell_price': 9.8, 'quantity': 50, 'buy_price': 10.7, 'date': 'None', 'image_id': '665b1046ca78a2d0500ed51b', 'tags': ['flower']}\n",
      "{'_id': ObjectId('665b1046ca78a2d0500ed520'), 'id': 'OeDgiWB5d0', 'name': 'Impatiens', 'description': 'Popular shade-loving flowers that come in a wide range of colors, often used in hanging baskets and as bedding plants. Needs moist, well-drained soil. Blooms in spring to fall.', 'sell_price': 13.6, 'quantity': 82, 'buy_price': 17.0, 'date': 'None', 'image_id': '665b1046ca78a2d0500ed51e', 'tags': ['flower']}\n",
      "{'_id': ObjectId('665b1046ca78a2d0500ed523'), 'id': 'rMgYwgmWs9', 'name': 'Canna', 'description': 'Large, tropical-looking flowers that add a touch of the exotic to gardens, cannas come in vibrant colors and have bold foliage. Needs well-drained soil. Blooms in summer to fall.', 'sell_price': 13.9, 'quantity': 5, 'buy_price': 19.5, 'date': 'None', 'image_id': '665b1046ca78a2d0500ed521', 'tags': ['flower']}\n",
      "{'_id': ObjectId('665b1046ca78a2d0500ed526'), 'id': 'JH2cy8MSbn', 'name': 'Coreopsis', 'description': 'Daisy-like flowers that are known for their long blooming period and bright yellow or orange colors. Needs well-drained soil. Blooms in summer to fall.', 'sell_price': 10.7, 'quantity': 1, 'buy_price': 16.6, 'date': 'None', 'image_id': '665b1046ca78a2d0500ed524', 'tags': ['flower']}\n",
      "{'_id': ObjectId('665b1046ca78a2d0500ed529'), 'id': 'yUyax0IZdV', 'name': 'Verbena', 'description': 'Clusters of small, colorful flowers that are perfect for hanging baskets and borders, known for their long bloom period. Needs well-drained soil. Blooms in summer to fall.', 'sell_price': 12.6, 'quantity': 26, 'buy_price': 18.8, 'date': 'None', 'image_id': '665b1046ca78a2d0500ed527', 'tags': ['flower']}\n",
      "{'_id': ObjectId('665b1046ca78a2d0500ed52c'), 'id': 'a-IMJ6FywW', 'name': 'Cosmos', 'description': 'Dainty, daisy-like flowers that are easy to grow and come in shades of pink, white, and orange. Needs well-drained Blooms in summer to fall.', 'sell_price': 16.8, 'quantity': 80, 'buy_price': 19.5, 'date': 'None', 'image_id': '665b1046ca78a2d0500ed52a', 'tags': ['flower']}\n"
     ]
    }
   ],
   "source": [
    "# Connect to the MongoDB server\n",
    "client_mongo = pymongo.MongoClient(\"mongodb://localhost:27017/\")\n",
    "\n",
    "# Select your database\n",
    "db = client_mongo[\"ecommerce-app\"]\n",
    "\n",
    "# List all collection names in the database\n",
    "collection_names = db.list_collection_names()\n",
    "\n",
    "\n",
    "collection = db['products']\n",
    "# Find all documents in the collection\n",
    "documents = collection.find()\n",
    "for x in documents:\n",
    "    print(x)\n",
    "\n"
   ]
  },
  {
   "cell_type": "code",
   "execution_count": 77,
   "metadata": {},
   "outputs": [],
   "source": [
    "db.drop_collection('products')\n",
    "for document in documents:\n",
    "    print(document)"
   ]
  },
  {
   "cell_type": "code",
   "execution_count": 135,
   "metadata": {},
   "outputs": [
    {
     "data": {
      "text/plain": [
       "qdrant_client.http.models.models.ScoredPoint"
      ]
     },
     "execution_count": 135,
     "metadata": {},
     "output_type": "execute_result"
    }
   ],
   "source": [
    "qdrant_client = QdrantClient('localhost:6333')\n",
    "results = qdrant_client.search(\n",
    "    collection_name=\"products_description\",\n",
    "    query_vector=list(model.encode('dwa', normalize_embeddings=True)),\n",
    "    limit=3,\n",
    ")\n",
    "type(results[0])"
   ]
  },
  {
   "cell_type": "code",
   "execution_count": 52,
   "metadata": {},
   "outputs": [
    {
     "data": {
      "text/plain": [
       "384"
      ]
     },
     "execution_count": 52,
     "metadata": {},
     "output_type": "execute_result"
    }
   ],
   "source": [
    "model[1].word_embedding_dimension"
   ]
  },
  {
   "cell_type": "code",
   "execution_count": 23,
   "metadata": {},
   "outputs": [
    {
     "data": {
      "text/plain": [
       "['/dwa/trzy', 'jpg']"
      ]
     },
     "execution_count": 23,
     "metadata": {},
     "output_type": "execute_result"
    }
   ],
   "source": [
    "'/dwa/trzy.jpg'.split('.')"
   ]
  }
 ],
 "metadata": {
  "kernelspec": {
   "display_name": "Chatbot",
   "language": "python",
   "name": "python3"
  },
  "language_info": {
   "codemirror_mode": {
    "name": "ipython",
    "version": 3
   },
   "file_extension": ".py",
   "mimetype": "text/x-python",
   "name": "python",
   "nbconvert_exporter": "python",
   "pygments_lexer": "ipython3",
   "version": "3.11.3"
  }
 },
 "nbformat": 4,
 "nbformat_minor": 2
}
