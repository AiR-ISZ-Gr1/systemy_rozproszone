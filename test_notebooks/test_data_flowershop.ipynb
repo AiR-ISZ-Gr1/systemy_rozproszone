{
 "cells": [
  {
   "cell_type": "code",
   "execution_count": 16,
   "metadata": {},
   "outputs": [
    {
     "ename": "ModuleNotFoundError",
     "evalue": "No module named 'pymongo'",
     "output_type": "error",
     "traceback": [
      "\u001b[0;31m---------------------------------------------------------------------------\u001b[0m",
      "\u001b[0;31mModuleNotFoundError\u001b[0m                       Traceback (most recent call last)",
      "\u001b[0;32m/var/folders/69/dws6xwp11mgdnm5sb8sr1kph0000gn/T/ipykernel_5431/3400144403.py\u001b[0m in \u001b[0;36m<module>\u001b[0;34m\u001b[0m\n\u001b[1;32m      2\u001b[0m \u001b[0;32mimport\u001b[0m \u001b[0mnumpy\u001b[0m \u001b[0;32mas\u001b[0m \u001b[0mnp\u001b[0m\u001b[0;34m\u001b[0m\u001b[0;34m\u001b[0m\u001b[0m\n\u001b[1;32m      3\u001b[0m \u001b[0;32mimport\u001b[0m \u001b[0mnanoid\u001b[0m\u001b[0;34m\u001b[0m\u001b[0;34m\u001b[0m\u001b[0m\n\u001b[0;32m----> 4\u001b[0;31m \u001b[0;32mimport\u001b[0m \u001b[0mpymongo\u001b[0m\u001b[0;34m\u001b[0m\u001b[0;34m\u001b[0m\u001b[0m\n\u001b[0m\u001b[1;32m      5\u001b[0m \u001b[0;32mfrom\u001b[0m \u001b[0mopenai\u001b[0m \u001b[0;32mimport\u001b[0m \u001b[0mOpenAI\u001b[0m\u001b[0;34m\u001b[0m\u001b[0;34m\u001b[0m\u001b[0m\n\u001b[1;32m      6\u001b[0m \u001b[0;32mimport\u001b[0m \u001b[0mrequests\u001b[0m\u001b[0;34m\u001b[0m\u001b[0;34m\u001b[0m\u001b[0m\n",
      "\u001b[0;31mModuleNotFoundError\u001b[0m: No module named 'pymongo'"
     ]
    }
   ],
   "source": [
    "import pandas as pd\n",
    "import numpy as np\n",
    "import nanoid\n",
    "import pymongo\n",
    "from openai import OpenAI\n",
    "import requests\n",
    "from datetime import datetime\n",
    "\n"
   ]
  },
  {
   "cell_type": "code",
   "execution_count": 15,
   "metadata": {},
   "outputs": [],
   "source": [
    "quantites = np.random.randint(1,100,size=48)\n",
    "prices_buy = np.random.randint(1,2,size=48)*10 + np.random.randint(0,10,size=48) + np.random.randint(0,10,size=48)*0.1\n",
    "prices_sale = prices_buy - np.random.randint(0,10,size=48) + np.random.randint(0,10,size=48)*0.1\n"
   ]
  },
  {
   "cell_type": "code",
   "execution_count": 18,
   "metadata": {},
   "outputs": [],
   "source": [
    "data = pd.read_csv('data/flowershopdata.csv')\n",
    "data['Description'] = data[['Description', 'Needs','Season']].apply(lambda x: ' '.join(x.dropna().astype(str)), axis=1)\n",
    "data['Sale_price'] = prices_buy\n",
    "data['Buy_price'] = np.round(prices_sale,2)\n",
    "data['Quantities'] = quantites\n",
    "jpg_paths = [f\"init_data/products/img_flowers/{flower.lower()}.jpg\" for flower in data['Name']]\n",
    "data['pic_path'] = jpg_paths\n",
    "data['id'] = [nanoid.generate(size=10) for x in range(48)]\n",
    "data['date'] =[datetime.now().strftime(\"%d-%m-%Y %H:%M:%S\") for x in range(48)]\n",
    "data['tags'] = ['flower' for x in range(48)]\n",
    "data.drop(columns=['Needs','Season'],inplace=True)"
   ]
  },
  {
   "cell_type": "code",
   "execution_count": 19,
   "metadata": {},
   "outputs": [],
   "source": [
    "data.to_csv('data/flowershopdata_clean.csv')"
   ]
  },
  {
   "cell_type": "code",
   "execution_count": 46,
   "metadata": {},
   "outputs": [],
   "source": [
    "import os\n",
    "import requests\n",
    "from bs4 import BeautifulSoup\n",
    "from PIL import Image\n",
    "from io import BytesIO\n",
    "from selenium import webdriver\n",
    "from selenium.webdriver.common.by import By\n",
    "import time\n",
    "\n",
    "def fetch_first_image_url(query):\n",
    "    options = webdriver.SafariOptions()\n",
    "    driver = webdriver.Safari(options=options)\n",
    "\n",
    "    search_url = f\"https://pl.pinterest.com/search/pins/?q={query}%20flower&rs=typed\"\n",
    "    driver.get(search_url)\n",
    "\n",
    "    time.sleep(2)\n",
    "    image_elements = driver.find_elements(By.CSS_SELECTOR, 'img')\n",
    "\n",
    "    if len(image_elements) >= 10:\n",
    "        # Get the URL of the 10th image\n",
    "        image_element = image_elements[9]  # Index 9 corresponds to the 10th image (0-based index)\n",
    "        image_url = image_element.get_attribute('src')\n",
    "    else:\n",
    "        print(\"Not enough images found on the page\")\n",
    "        image_url = None\n",
    "\n",
    "    driver.quit()\n",
    "    return image_url\n",
    "\n",
    "def save_image_from_url(url, directory, filename):\n",
    "    response = requests.get(url)\n",
    "    image = Image.open(BytesIO(response.content))\n",
    "    image_path = os.path.join(directory, filename)\n",
    "    image.save(image_path)\n",
    "    print(f\"Image saved to {image_path}\")\n",
    "\n"
   ]
  },
  {
   "cell_type": "code",
   "execution_count": 6,
   "metadata": {},
   "outputs": [],
   "source": [
    "import nanoid\n",
    "def create_product(product_data):\n",
    "    base_url = \"http://127.0.0.1:8000\"\n",
    "    response = requests.post(f\"{base_url}/products/\", json=product_data)\n",
    "    print(response.json())"
   ]
  },
  {
   "cell_type": "code",
   "execution_count": 7,
   "metadata": {},
   "outputs": [],
   "source": [
    "data = pd.read_csv('data/flowershopdata_clean.csv').drop(columns=['Unnamed: 0'])\n",
    "\n"
   ]
  },
  {
   "cell_type": "code",
   "execution_count": 40,
   "metadata": {},
   "outputs": [
    {
     "name": "stdout",
     "output_type": "stream",
     "text": [
      "[]\n"
     ]
    }
   ],
   "source": [
    "client = QdrantClient(url=\"http://127.0.0.1:6333\")\n",
    "names = [item.name for item in client.get_collections().collections]\n",
    "print(names)"
   ]
  },
  {
   "cell_type": "code",
   "execution_count": 32,
   "metadata": {},
   "outputs": [],
   "source": [
    "# from sentence_transformers import SentenceTransformer, util\n",
    "from qdrant_client import QdrantClient, AsyncQdrantClient\n",
    "from qdrant_client.models import Distance, VectorParams\n",
    "from qdrant_client.models import PointStruct\n",
    "\n",
    "# model = SentenceTransformer('intfloat/e5-small-v2')\n",
    "vec_len = 384\n",
    "client = QdrantClient(url=\"http://127.0.0.1:6333\")\n",
    "names = [item.name for item in client.get_collections().collections]\n",
    "if 'products_description' not in names:\n",
    "    client.create_collection(\n",
    "        collection_name=\"products_description\",\n",
    "        vectors_config=VectorParams(size=vec_len, distance=Distance.COSINE),)\n",
    "else:\n",
    "    print('Collection exits')\n"
   ]
  },
  {
   "cell_type": "code",
   "execution_count": 39,
   "metadata": {},
   "outputs": [
    {
     "data": {
      "text/plain": [
       "False"
      ]
     },
     "execution_count": 39,
     "metadata": {},
     "output_type": "execute_result"
    }
   ],
   "source": [
    "client.delete_collection(\"products_description\")"
   ]
  },
  {
   "cell_type": "code",
   "execution_count": 8,
   "metadata": {},
   "outputs": [],
   "source": [
    "points = [PointStruct(id=index, \n",
    "                      vector=model.encode(item['Description'], normalize_embeddings=True), \n",
    "                      payload={\"Id\": item['id'],\n",
    "                               \"Name\": item['Name'],\n",
    "                               \"Description\":item['Description']}) for index,item in data.iterrows()]\n"
   ]
  },
  {
   "cell_type": "code",
   "execution_count": 215,
   "metadata": {},
   "outputs": [
    {
     "name": "stdout",
     "output_type": "stream",
     "text": [
      "operation_id=0 status=<UpdateStatus.COMPLETED: 'completed'>\n"
     ]
    }
   ],
   "source": [
    "operation_info = client.upsert(\n",
    "    collection_name=\"products_description\",\n",
    "    wait=True,\n",
    "    points=points,\n",
    ")\n",
    "\n",
    "print(operation_info)"
   ]
  },
  {
   "cell_type": "code",
   "execution_count": 11,
   "metadata": {},
   "outputs": [],
   "source": [
    "from pymongo import MongoClient\n",
    "from openai import OpenAI\n",
    "from typing import List\n",
    "import pymongo\n",
    "# from sentence_transformers import SentenceTransformer\n",
    "from qdrant_client import AsyncQdrantClient, models\n"
   ]
  },
  {
   "cell_type": "code",
   "execution_count": 3,
   "metadata": {},
   "outputs": [],
   "source": [
    "question = \"I would like white flower that needs acidic soil\"\n",
    "# model = SentenceTransformer(\"intfloat/e5-small-v2\")\n",
    "bot = {\n",
    "    \"mongo_client\": MongoClient(\"mongodb://localhost:27017/\"),\n",
    "    \"openai_client\":  OpenAI(api_key=\"sk-proj-8j1NyU5gvA4njucbGG3uT3BlbkFJxBLHcRn4z7futfYb4sgb\")\n",
    "},"
   ]
  },
  {
   "cell_type": "code",
   "execution_count": 5,
   "metadata": {},
   "outputs": [],
   "source": [
    "client = AsyncQdrantClient(\"http://localhost:6333\")"
   ]
  },
  {
   "cell_type": "code",
   "execution_count": 7,
   "metadata": {},
   "outputs": [],
   "source": [
    "sad = await client.scroll(\n",
    "    collection_name =\"products_description\",\n",
    "    scroll_filter = models.Filter(\n",
    "        must = [models.FieldCondition(\n",
    "            key='name',\n",
    "            match =models.MatchValue(\n",
    "                value= 'Bloodroot'))\n",
    "                ]\n",
    "    ),\n",
    "    with_vectors = True\n",
    ")\n"
   ]
  },
  {
   "cell_type": "code",
   "execution_count": 8,
   "metadata": {},
   "outputs": [
    {
     "data": {
      "text/plain": [
       "Record(id=6, payload={'description': 'Named for its green colored sap that flows from cut stems, bloodroot flowers are white with a bright yellow center. Needs well-drained soil. Blooms in early spring.', 'id': 'AtfxNCsTNK', 'is_enabled': False, 'name': 'Bloodroot'}, vector=[-0.06801903, 0.023938809, 0.019408107, 0.02205197, 0.007889741, -0.013003591, 0.09313711, -0.031289045, -0.004206649, 0.053018305, 0.040470704, -0.037663784, -0.06471311, 0.0623793, 0.037090648, -0.011865469, -0.03745662, 0.044330344, -0.08975763, 0.073678724, 0.09839359, -0.029636282, -0.0021210266, -0.058417518, -0.048956174, 0.001813808, 0.064931795, 0.060150165, -0.058084752, -0.12609239, -0.04863415, 0.042198583, -0.013742634, -0.026881536, 0.05558968, -0.046346456, -0.0060306466, 0.06291792, 0.008927591, 0.043545894, -0.056614053, -0.084036484, 0.024140395, -0.020228786, -0.0062697656, -9.016218e-05, -0.035800233, -0.0274234, 0.05434272, 0.011605927, -0.04954425, -0.008654845, 0.046543993, 0.07357088, 0.04649048, 0.0308718, 0.065091655, 0.034015544, 0.06175271, 0.053065095, 0.00698363, 0.05597581, -0.113842495, 0.110701084, 0.06559378, 0.0017267502, -0.039863396, 0.03142904, -0.044651624, -0.036599804, -0.028298365, 0.04399388, -0.034355074, 0.0050116936, -0.078832544, 0.056369584, 0.0061576855, 0.03761229, -0.05436325, -0.027614817, -0.044295277, -0.026050026, -0.0373495, 0.08771214, 0.006756637, -0.006603019, 0.035087112, -0.016323773, -0.06129448, -0.07102541, -0.03553424, -0.06616348, -0.00580523, -0.007252459, -0.07431459, 0.007886574, 0.09002552, -0.0029740992, -0.03936492, 0.096714616, 0.03291882, -0.00899311, -0.014123044, -0.04352063, -0.04776331, -0.039552186, 0.0039679813, -0.00011423382, 0.049157865, -0.017363025, -0.016052067, -0.041047942, -0.010477131, -0.022371659, 0.05649433, 0.038660824, -0.041252594, -0.057347164, -0.02462479, 0.07213472, 0.02877927, 0.06514805, -0.028267393, -0.05988422, 0.09992233, -0.051860865, 0.03594496, 0.08410553, 0.08605886, -0.007576092, 0.061908428, 0.013585043, 0.027791683, -0.004520176, -0.066127576, -0.00387972, -0.034996573, 0.011786851, 0.018937722, -0.02455095, -0.025969308, -0.07208203, -0.07667018, -0.10004282, -0.008988568, 0.054792266, -0.11165483, 0.072919615, -0.04348317, -0.06292755, -0.08894293, -0.0351895, 0.05481583, -0.035294883, -0.061362185, 0.013296284, -0.0054196194, 0.05774269, -0.0048718243, -0.024115272, -0.02778537, 0.017408514, 0.02204856, 0.073367596, 0.0017367101, -0.11961232, 0.029758325, -0.016520223, 0.06227121, 0.010691092, -0.008408953, 0.021142708, 0.08001004, -0.01680969, 0.06631073, -0.0072298446, -0.03500343, -0.032365967, 0.060933717, -0.03172031, 0.056319762, -0.03615794, -0.012857241, 0.08310906, 0.08322502, -0.085330606, -0.06403087, -0.08173922, -0.011140388, 0.023136923, -0.055613715, -0.022043375, -0.02711027, 0.0508728, 0.031938717, 0.028384915, -0.048405506, -0.021572994, 4.847495e-05, -0.03272347, 0.04898832, 0.07787923, 0.00081628887, 0.046913076, -0.0018426236, 0.068456575, 0.006255791, 0.0010289894, -0.074393995, -0.054467216, -0.065352805, 0.008022536, -0.04777375, -0.02982322, -0.012003201, -0.012779706, 0.03488789, 0.012589557, 0.04153629, 0.036197513, 0.042122338, -0.11595168, -0.087302655, -0.14320427, -0.0064004287, -0.049072396, -0.017150592, 0.09694873, -0.018469404, -0.097697034, 0.029484976, -0.004602807, 0.022618128, 0.06695384, 0.0012810436, 0.0034109966, -0.002102626, 0.0054555456, 0.06716513, 0.005328113, -0.019853005, 0.063650094, -0.031729884, 0.011977132, -0.09565933, -0.024638936, -0.056602407, 0.009907806, 0.007505398, 0.108828045, 0.05420473, 0.017409839, -0.026660353, -0.009977022, 0.032169383, -0.020698527, -0.08976326, 0.034627225, -0.04111311, -0.0006310042, 0.011778276, -0.042234614, -0.054665897, 0.1147548, 0.002721581, -0.020772474, -0.0050492953, 0.097381495, -0.047571603, -0.01126411, 0.025573714, 0.032497913, -0.023730436, 0.028241199, -0.06724118, 0.12720852, -0.012603862, 0.0010128553, -0.041955873, -0.07350946, 0.07251839, -0.065572806, -0.022837479, -0.024853107, -0.034175567, 0.09719181, 0.005728752, 0.012400281, -0.0071069775, 0.0062481947, -0.04805823, -0.020186083, -0.080559485, -0.012117392, 0.060995147, -0.0130587155, 0.04067119, 0.09288891, 0.021335756, 0.0545825, -0.036453042, -0.04351338, -0.022098249, -0.015164286, -0.09415705, 0.08375861, 0.029433805, 0.07163888, 0.024245007, -0.08114773, -0.049870484, 0.037016306, -0.021454139, 0.034418315, -0.010903316, 0.06964492, 0.039000645, 0.002270568, -0.040896777, -0.13639803, -0.04254516, 0.039537914, 0.010518148, -0.008814855, 0.014260963, 0.020811614, -0.007261555, 0.003938159, -0.04907693, 0.03502499, 0.014430422, 0.09228515, -0.03727154, -0.029413057, 0.024996167, 0.08210124, -0.0155604165, -0.011370753, -0.08298421, -0.0006735467, -0.036641397, 0.09333474, 0.035245612, -0.028053913, 0.040811315, 0.031823356, 0.023296963, -0.056534674, 0.058425274, -0.0122188665, -0.029890575, 0.15202746, -0.016059853, 0.08847567, 0.06713928, 0.016632972, 0.01505403, 0.051083896, -0.030694466, 0.024362158, 0.067065604, -0.020255867, 0.0062446906, 0.12399232, -0.04645376, -0.07169409, -0.004406486, 0.024964904, -0.048723694, -0.051853213, -0.041124623, 0.072256, 0.0038383724, 0.025759801, -0.029099736, -0.0812744, 0.01688122, -0.021641323, -0.09706203, 0.0037389344, -0.09194315, 0.024199331, 0.0021345986, -0.001276024], shard_key=None)"
      ]
     },
     "execution_count": 8,
     "metadata": {},
     "output_type": "execute_result"
    }
   ],
   "source": [
    "sad[0][0]"
   ]
  },
  {
   "cell_type": "code",
   "execution_count": 71,
   "metadata": {},
   "outputs": [],
   "source": [
    "sad = await client.delete_collection(\n",
    "    collection_name =\"products_description\"\n",
    ")"
   ]
  },
  {
   "cell_type": "code",
   "execution_count": null,
   "metadata": {},
   "outputs": [],
   "source": []
  },
  {
   "cell_type": "code",
   "execution_count": 78,
   "metadata": {},
   "outputs": [
    {
     "data": {
      "text/plain": [
       "{'detail': 'Vector DB error'}"
      ]
     },
     "execution_count": 78,
     "metadata": {},
     "output_type": "execute_result"
    }
   ],
   "source": [
    "requests.post(\"http://127.0.0.1:8000/products/vec_search/\", json={'question': 'Red flower'}).json()\n"
   ]
  },
  {
   "cell_type": "code",
   "execution_count": 77,
   "metadata": {},
   "outputs": [
    {
     "data": {
      "text/plain": [
       "0"
      ]
     },
     "execution_count": 77,
     "metadata": {},
     "output_type": "execute_result"
    }
   ],
   "source": [
    "count = await client.count(collection_name=\"products_description\")\n",
    "count.count"
   ]
  },
  {
   "cell_type": "code",
   "execution_count": 18,
   "metadata": {},
   "outputs": [],
   "source": [
    "# Connect to the MongoDB server\n",
    "client_mongo = pymongo.MongoClient(\"mongodb://localhost:27017/\")\n",
    "\n",
    "# Select your database\n",
    "db = client_mongo[\"ecommerce-app\"]\n",
    "\n",
    "# List all collection names in the database\n",
    "collection_names = db.list_collection_names()\n",
    "\n",
    "\n",
    "collection = db['products']\n",
    "# Find all documents in the collection\n",
    "documents = collection.find()\n",
    "for x in documents:\n",
    "    print(x)\n",
    "\n",
    "\n",
    "# print(len(documents))\n",
    "\n",
    "\n"
   ]
  },
  {
   "cell_type": "code",
   "execution_count": 55,
   "metadata": {},
   "outputs": [],
   "source": [
    "import requests\n",
    "import numpy as np\n",
    "url = 'http://127.0.0.1:8000/products'\n",
    "def get_reccomendations(number):\n",
    "    documents = requests.get(url).json()\n",
    "    profit = [item.get('sell_price') - item.get('buy_price') for item in documents]\n",
    "    profit = np.array(profit)/max(profit)*2/3\n",
    "    quantites = [item.get('quantity') for item in documents]\n",
    "    quantites = np.array(quantites)/max(quantites)*1/3\n",
    "    score = profit+quantites\n",
    "    names = [{\"id\":item.get('id'), \"score\":sc} for item,sc in zip(documents,score)]\n",
    "    sorted_data = sorted(names, key=lambda x: x['score'], reverse=True)\n",
    "    products = [requests.get(f'{url}/{item[\"id\"]}').json() for item in sorted_data[:number]]\n",
    "    return products"
   ]
  },
  {
   "cell_type": "code",
   "execution_count": 56,
   "metadata": {},
   "outputs": [],
   "source": [
    "a = get_reccomendations(5)"
   ]
  },
  {
   "cell_type": "code",
   "execution_count": 57,
   "metadata": {},
   "outputs": [
    {
     "data": {
      "text/plain": [
       "[{'id': 'sF4-20cYQc',\n",
       "  'name': 'Forsythia',\n",
       "  'description': 'Early blooming shrub with bright yellow flowers that herald the arrival of spring. Needs well-drained soil. Blooms in early spring.',\n",
       "  'sell_price': 15.1,\n",
       "  'quantity': 80,\n",
       "  'buy_price': 7.0,\n",
       "  'date': 'None',\n",
       "  'image_id': '666107be7c8302008d46923b',\n",
       "  'tags': ['flower'],\n",
       "  'is_enabled': True},\n",
       " {'id': '9cQPkJ5fnG',\n",
       "  'name': 'Daisy',\n",
       "  'description': 'Simple and charming, daisies are a symbol of innocence and purity, recognized by their white petals and yellow centers. Needs well-drained soil. Blooms in spring to autumn.',\n",
       "  'sell_price': 16.0,\n",
       "  'quantity': 93,\n",
       "  'buy_price': 8.6,\n",
       "  'date': 'None',\n",
       "  'image_id': '666107bd7c8302008d469226',\n",
       "  'tags': ['flower'],\n",
       "  'is_enabled': True},\n",
       " {'id': 'CiXDjEv0vN',\n",
       "  'name': 'Rhododendron',\n",
       "  'description': 'Large clusters of blooms, often used in landscaping for their showy flowers and evergreen foliage. Needs acidic soil. Blooms in spring.',\n",
       "  'sell_price': 18.7,\n",
       "  'quantity': 82,\n",
       "  'buy_price': 10.8,\n",
       "  'date': 'None',\n",
       "  'image_id': '666107be7c8302008d469247',\n",
       "  'tags': ['flower'],\n",
       "  'is_enabled': True},\n",
       " {'id': 'xIsL3vy9jX',\n",
       "  'name': 'Crocus',\n",
       "  'description': 'One of the first flowers to bloom in spring, they come in a variety of colors and signal the end of winter. Needs well-drained soil. Blooms in early spring.',\n",
       "  'sell_price': 17.8,\n",
       "  'quantity': 79,\n",
       "  'buy_price': 10.0,\n",
       "  'date': 'None',\n",
       "  'image_id': '666107be7c8302008d46925c',\n",
       "  'tags': ['flower'],\n",
       "  'is_enabled': True},\n",
       " {'id': '0GUxcnNKTr',\n",
       "  'name': 'Tulip',\n",
       "  'description': 'Great as a cut flower, they come in every color of the rainbow and are symbolic of spring and renewal. Needs well-drained soil. Blooms in spring.',\n",
       "  'sell_price': 14.0,\n",
       "  'quantity': 67,\n",
       "  'buy_price': 5.7,\n",
       "  'date': 'None',\n",
       "  'image_id': '666107bd7c8302008d469208',\n",
       "  'tags': ['flower'],\n",
       "  'is_enabled': True}]"
      ]
     },
     "execution_count": 57,
     "metadata": {},
     "output_type": "execute_result"
    }
   ],
   "source": [
    "a"
   ]
  },
  {
   "cell_type": "code",
   "execution_count": 47,
   "metadata": {},
   "outputs": [
    {
     "data": {
      "text/plain": [
       "[{'id': 'sF4-20cYQc',\n",
       "  'name': 'Forsythia',\n",
       "  'description': 'Early blooming shrub with bright yellow flowers that herald the arrival of spring. Needs well-drained soil. Blooms in early spring.',\n",
       "  'sell_price': 15.1,\n",
       "  'quantity': 80,\n",
       "  'buy_price': 7.0,\n",
       "  'date': 'None',\n",
       "  'image_id': '666107be7c8302008d46923b',\n",
       "  'tags': ['flower'],\n",
       "  'is_enabled': True},\n",
       " {'id': '9cQPkJ5fnG',\n",
       "  'name': 'Daisy',\n",
       "  'description': 'Simple and charming, daisies are a symbol of innocence and purity, recognized by their white petals and yellow centers. Needs well-drained soil. Blooms in spring to autumn.',\n",
       "  'sell_price': 16.0,\n",
       "  'quantity': 93,\n",
       "  'buy_price': 8.6,\n",
       "  'date': 'None',\n",
       "  'image_id': '666107bd7c8302008d469226',\n",
       "  'tags': ['flower'],\n",
       "  'is_enabled': True},\n",
       " {'id': 'CiXDjEv0vN',\n",
       "  'name': 'Rhododendron',\n",
       "  'description': 'Large clusters of blooms, often used in landscaping for their showy flowers and evergreen foliage. Needs acidic soil. Blooms in spring.',\n",
       "  'sell_price': 18.7,\n",
       "  'quantity': 82,\n",
       "  'buy_price': 10.8,\n",
       "  'date': 'None',\n",
       "  'image_id': '666107be7c8302008d469247',\n",
       "  'tags': ['flower'],\n",
       "  'is_enabled': True}]"
      ]
     },
     "execution_count": 47,
     "metadata": {},
     "output_type": "execute_result"
    }
   ],
   "source": [
    "products"
   ]
  },
  {
   "cell_type": "code",
   "execution_count": 13,
   "metadata": {},
   "outputs": [],
   "source": [
    "db.drop_collection('products')\n",
    "for document in documents:\n",
    "    print(document)"
   ]
  },
  {
   "cell_type": "code",
   "execution_count": 6,
   "metadata": {},
   "outputs": [],
   "source": [
    "from pydantic import BaseModel,Field\n",
    "class Product(BaseModel):\n",
    "    id: str = Field(default_factory=lambda: nanoid.generate(size=10))\n",
    "    name: str = ''\n",
    "    description: str = ''\n",
    "    sell_price: float = 0\n",
    "    quantity: int = 0\n",
    "    buy_price: float = 0\n",
    "    date: str = Field(default_factory=lambda: datetime.now().strftime(\"%d-%m-%Y %H:%M:%S\"))\n",
    "    image_id: str | None = None\n",
    "    tags: List[str] = Field(default_factory=list)\n",
    "    is_enabled: bool = True\n",
    "\n",
    "class VecProduct(BaseModel):\n",
    "    id: str = ''\n",
    "    name: str = ''\n",
    "    description: str = ''\n",
    "    is_enabled: bool = True"
   ]
  },
  {
   "cell_type": "code",
   "execution_count": 34,
   "metadata": {},
   "outputs": [],
   "source": [
    "from sentence_transformers import SentenceTransformer\n",
    "from qdrant_client import AsyncQdrantClient\n",
    "from qdrant_client.models import Filter, FieldCondition, PointStruct, MatchValue, PointVectors\n",
    "\n",
    "class QdrantManager:\n",
    "    qdrant_client: AsyncQdrantClient\n",
    "    modelEmbed: SentenceTransformer\n",
    "\n",
    "    def __init__(self) -> None:\n",
    "        self.qdrant_client = AsyncQdrantClient('http://127.0.0.1:6333')\n",
    "        self.modelEmbed = SentenceTransformer('intfloat/e5-small-v2', cache_folder='src/model_st')\n",
    "        pass\n",
    "\n",
    "    async def search(self, query:str):\n",
    "        vector = self.modelEmbed.encode(query, normalize_embeddings=True)\n",
    "        response = await self.qdrant_client.search(collection_name=\"products_description\",\n",
    "                                          query_vector=vector,\n",
    "                                          limit=3,\n",
    "                                          query_filter= Filter(\n",
    "                                              must=[\n",
    "                                                  FieldCondition(\n",
    "                                                      key='is_enabled',\n",
    "                                                      match = MatchValue(value=True)\n",
    "                                                  )\n",
    "                                              ]\n",
    "                                          ))\n",
    "        return response\n",
    "\n",
    "    async def add_product_vec(self,product: Product):\n",
    "        if not await self.__check_db__(product.name):\n",
    "            vector = self.modelEmbed.encode(product.description,normalize_embeddings=True)\n",
    "            num = await self.qdrant_client.count(collection_name=\"products_description\")\n",
    "            point = PointStruct(\n",
    "                        id=int(num.count),\n",
    "                        vector=vector,\n",
    "                        payload={\"id\": product.id, \"name\": product.name, \n",
    "                                 \"description\": product.description, \n",
    "                                 \"is_enabled\": product.is_enabled}\n",
    "                    )\n",
    "\n",
    "            await self.qdrant_client.upsert(\n",
    "                collection_name=\"products_description\",\n",
    "                wait=True,\n",
    "                points=[point])\n",
    "        else:\n",
    "            print('Product already exists')\n",
    "\n",
    "    async def update_product(self,product: Product):\n",
    "        product_in_base = await self.__check_db__(product.name)\n",
    "        if product.is_enabled:\n",
    "            updated_product = VecProduct(**product_in_base.payload)\n",
    "            updated_product.description = product.description\n",
    "            vector = self.modelEmbed.encode(product.description,normalize_embeddings=True)\n",
    "            # point = PointVectors(\n",
    "            #         id=int(product_in_base.id),\n",
    "            #         vector=vector,\n",
    "            #         payload=dict(updated_product)\n",
    "            #     )\n",
    "            payload=dict(updated_product)\n",
    "            await self.qdrant_client.update_vectors(\n",
    "                collection_name='products_description',\n",
    "                points = [\n",
    "                    PointVectors(\n",
    "                    id=int(product_in_base.id),\n",
    "                    vector=vector,\n",
    "                )\n",
    "                ]\n",
    "            )\n",
    "        else:\n",
    "            updated_product = VecProduct(**product_in_base.payload)\n",
    "            updated_product.is_enabled = product.is_enabled\n",
    "            # point = PointVectors(\n",
    "            #         id=int(product_in_base.id),\n",
    "            #         vector=product_in_base.vector,\n",
    "            #         payload=dict(updated_product)\n",
    "            # )\n",
    "            payload=dict(updated_product)\n",
    "        await self.qdrant_client.overwrite_payload(\n",
    "            collection_name=\"products_description\",\n",
    "            wait = True,\n",
    "            points=Filter(must=[FieldCondition(\n",
    "                            key='name',\n",
    "                            match = MatchValue(value=updated_product.name)\n",
    "            )]),\n",
    "            payload=payload\n",
    "        )\n",
    "\n",
    "    async def __check_db__(self,name):\n",
    "        record = await self.qdrant_client.scroll(\n",
    "        collection_name =\"products_description\",\n",
    "        scroll_filter = Filter(\n",
    "            must = [FieldCondition(\n",
    "                key='name',\n",
    "                match =MatchValue(\n",
    "                    value= name))\n",
    "                    ]\n",
    "                ),\n",
    "                with_vectors = True\n",
    "            )\n",
    "        if record[0]:\n",
    "            return record[0][0]\n",
    "        else:\n",
    "            return False\n",
    "\n"
   ]
  },
  {
   "cell_type": "code",
   "execution_count": 35,
   "metadata": {},
   "outputs": [],
   "source": [
    "dwa = QdrantManager()"
   ]
  },
  {
   "cell_type": "code",
   "execution_count": 36,
   "metadata": {},
   "outputs": [],
   "source": [
    "example = Product()\n",
    "example.buy_price = 1\n",
    "example.name = 'Kwiat'\n",
    "example.description = 'szesc dwa'\n",
    "example.sell_price = 1\n",
    "example.buy_price = 1\n",
    "example.quantity = 5\n",
    "example.tags = ['dwa']\n"
   ]
  },
  {
   "cell_type": "code",
   "execution_count": 40,
   "metadata": {},
   "outputs": [
    {
     "data": {
      "text/plain": [
       "[ScoredPoint(id=0, version=5, score=0.9322207, payload={'description': 'szesc dwa', 'id': 'ghzCyW6g4q', 'is_enabled': True, 'name': 'Kwiat'}, vector=None, shard_key=None)]"
      ]
     },
     "execution_count": 40,
     "metadata": {},
     "output_type": "execute_result"
    }
   ],
   "source": [
    "await dwa.search('szesc')"
   ]
  },
  {
   "cell_type": "code",
   "execution_count": 38,
   "metadata": {},
   "outputs": [
    {
     "name": "stdout",
     "output_type": "stream",
     "text": [
      "Product already exists\n"
     ]
    }
   ],
   "source": [
    "await dwa.add_product_vec(example)"
   ]
  },
  {
   "cell_type": "code",
   "execution_count": 39,
   "metadata": {},
   "outputs": [],
   "source": [
    "await dwa.update_product(example)"
   ]
  },
  {
   "cell_type": "code",
   "execution_count": 135,
   "metadata": {},
   "outputs": [
    {
     "data": {
      "text/plain": [
       "qdrant_client.http.models.models.ScoredPoint"
      ]
     },
     "execution_count": 135,
     "metadata": {},
     "output_type": "execute_result"
    }
   ],
   "source": [
    "qdrant_client = QdrantClient('localhost:6333')\n",
    "results = qdrant_client.search(\n",
    "    collection_name=\"products_description\",\n",
    "    query_vector=list(model.encode('dwa', normalize_embeddings=True)),\n",
    "    limit=3,\n",
    ")\n",
    "type(results[0])"
   ]
  },
  {
   "cell_type": "code",
   "execution_count": 52,
   "metadata": {},
   "outputs": [
    {
     "data": {
      "text/plain": [
       "384"
      ]
     },
     "execution_count": 52,
     "metadata": {},
     "output_type": "execute_result"
    }
   ],
   "source": [
    "model[1].word_embedding_dimension"
   ]
  },
  {
   "cell_type": "code",
   "execution_count": 16,
   "metadata": {},
   "outputs": [
    {
     "ename": "UnexpectedResponse",
     "evalue": "Unexpected Response: 404 (Not Found)\nRaw response content:\nb'{\"status\":{\"error\":\"Not found: Collection `products_description` doesn\\'t exist!\"},\"time\":0.000034792}'",
     "output_type": "error",
     "traceback": [
      "\u001b[0;31m---------------------------------------------------------------------------\u001b[0m",
      "\u001b[0;31mUnexpectedResponse\u001b[0m                        Traceback (most recent call last)",
      "Cell \u001b[0;32mIn[16], line 1\u001b[0m\n\u001b[0;32m----> 1\u001b[0m count \u001b[38;5;241m=\u001b[39m \u001b[38;5;28;01mawait\u001b[39;00m client\u001b[38;5;241m.\u001b[39mcount(collection_name\u001b[38;5;241m=\u001b[39m\u001b[38;5;124m'\u001b[39m\u001b[38;5;124mproducts_description\u001b[39m\u001b[38;5;124m'\u001b[39m)\n\u001b[1;32m      3\u001b[0m \u001b[38;5;28mprint\u001b[39m(count)\n",
      "File \u001b[0;32m~/opt/anaconda3/envs/Chatbot/lib/python3.11/site-packages/qdrant_client/async_qdrant_client.py:908\u001b[0m, in \u001b[0;36mAsyncQdrantClient.count\u001b[0;34m(self, collection_name, count_filter, exact, shard_key_selector, **kwargs)\u001b[0m\n\u001b[1;32m    889\u001b[0m \u001b[38;5;250m\u001b[39m\u001b[38;5;124;03m\"\"\"Count points in the collection.\u001b[39;00m\n\u001b[1;32m    890\u001b[0m \n\u001b[1;32m    891\u001b[0m \u001b[38;5;124;03mCount points in the collection matching the given filter.\u001b[39;00m\n\u001b[0;32m   (...)\u001b[0m\n\u001b[1;32m    905\u001b[0m \u001b[38;5;124;03m    Amount of points in the collection matching the filter.\u001b[39;00m\n\u001b[1;32m    906\u001b[0m \u001b[38;5;124;03m\"\"\"\u001b[39;00m\n\u001b[1;32m    907\u001b[0m \u001b[38;5;28;01massert\u001b[39;00m \u001b[38;5;28mlen\u001b[39m(kwargs) \u001b[38;5;241m==\u001b[39m \u001b[38;5;241m0\u001b[39m, \u001b[38;5;124mf\u001b[39m\u001b[38;5;124m\"\u001b[39m\u001b[38;5;124mUnknown arguments: \u001b[39m\u001b[38;5;132;01m{\u001b[39;00m\u001b[38;5;28mlist\u001b[39m(kwargs\u001b[38;5;241m.\u001b[39mkeys())\u001b[38;5;132;01m}\u001b[39;00m\u001b[38;5;124m\"\u001b[39m\n\u001b[0;32m--> 908\u001b[0m \u001b[38;5;28;01mreturn\u001b[39;00m \u001b[38;5;28;01mawait\u001b[39;00m \u001b[38;5;28mself\u001b[39m\u001b[38;5;241m.\u001b[39m_client\u001b[38;5;241m.\u001b[39mcount(\n\u001b[1;32m    909\u001b[0m     collection_name\u001b[38;5;241m=\u001b[39mcollection_name,\n\u001b[1;32m    910\u001b[0m     count_filter\u001b[38;5;241m=\u001b[39mcount_filter,\n\u001b[1;32m    911\u001b[0m     exact\u001b[38;5;241m=\u001b[39mexact,\n\u001b[1;32m    912\u001b[0m     shard_key_selector\u001b[38;5;241m=\u001b[39mshard_key_selector,\n\u001b[1;32m    913\u001b[0m     \u001b[38;5;241m*\u001b[39m\u001b[38;5;241m*\u001b[39mkwargs,\n\u001b[1;32m    914\u001b[0m )\n",
      "File \u001b[0;32m~/opt/anaconda3/envs/Chatbot/lib/python3.11/site-packages/qdrant_client/async_qdrant_remote.py:1042\u001b[0m, in \u001b[0;36mAsyncQdrantRemote.count\u001b[0;34m(self, collection_name, count_filter, exact, shard_key_selector, **kwargs)\u001b[0m\n\u001b[1;32m   1039\u001b[0m \u001b[38;5;28;01mif\u001b[39;00m \u001b[38;5;28misinstance\u001b[39m(count_filter, grpc\u001b[38;5;241m.\u001b[39mFilter):\n\u001b[1;32m   1040\u001b[0m     count_filter \u001b[38;5;241m=\u001b[39m GrpcToRest\u001b[38;5;241m.\u001b[39mconvert_filter(model\u001b[38;5;241m=\u001b[39mcount_filter)\n\u001b[1;32m   1041\u001b[0m count_result \u001b[38;5;241m=\u001b[39m (\n\u001b[0;32m-> 1042\u001b[0m     \u001b[38;5;28;01mawait\u001b[39;00m \u001b[38;5;28mself\u001b[39m\u001b[38;5;241m.\u001b[39mopenapi_client\u001b[38;5;241m.\u001b[39mpoints_api\u001b[38;5;241m.\u001b[39mcount_points(\n\u001b[1;32m   1043\u001b[0m         collection_name\u001b[38;5;241m=\u001b[39mcollection_name,\n\u001b[1;32m   1044\u001b[0m         count_request\u001b[38;5;241m=\u001b[39mmodels\u001b[38;5;241m.\u001b[39mCountRequest(\n\u001b[1;32m   1045\u001b[0m             \u001b[38;5;28mfilter\u001b[39m\u001b[38;5;241m=\u001b[39mcount_filter, exact\u001b[38;5;241m=\u001b[39mexact, shard_key\u001b[38;5;241m=\u001b[39mshard_key_selector\n\u001b[1;32m   1046\u001b[0m         ),\n\u001b[1;32m   1047\u001b[0m     )\n\u001b[1;32m   1048\u001b[0m )\u001b[38;5;241m.\u001b[39mresult\n\u001b[1;32m   1049\u001b[0m \u001b[38;5;28;01massert\u001b[39;00m count_result \u001b[38;5;129;01mis\u001b[39;00m \u001b[38;5;129;01mnot\u001b[39;00m \u001b[38;5;28;01mNone\u001b[39;00m, \u001b[38;5;124m\"\u001b[39m\u001b[38;5;124mCount points returned None result\u001b[39m\u001b[38;5;124m\"\u001b[39m\n\u001b[1;32m   1050\u001b[0m \u001b[38;5;28;01mreturn\u001b[39;00m count_result\n",
      "File \u001b[0;32m~/opt/anaconda3/envs/Chatbot/lib/python3.11/site-packages/qdrant_client/http/api/points_api.py:792\u001b[0m, in \u001b[0;36mAsyncPointsApi.count_points\u001b[0;34m(self, collection_name, count_request)\u001b[0m\n\u001b[1;32m    784\u001b[0m \u001b[38;5;28;01masync\u001b[39;00m \u001b[38;5;28;01mdef\u001b[39;00m \u001b[38;5;21mcount_points\u001b[39m(\n\u001b[1;32m    785\u001b[0m     \u001b[38;5;28mself\u001b[39m,\n\u001b[1;32m    786\u001b[0m     collection_name: \u001b[38;5;28mstr\u001b[39m,\n\u001b[1;32m    787\u001b[0m     count_request: m\u001b[38;5;241m.\u001b[39mCountRequest \u001b[38;5;241m=\u001b[39m \u001b[38;5;28;01mNone\u001b[39;00m,\n\u001b[1;32m    788\u001b[0m ) \u001b[38;5;241m-\u001b[39m\u001b[38;5;241m>\u001b[39m m\u001b[38;5;241m.\u001b[39mInlineResponse20018:\n\u001b[1;32m    789\u001b[0m \u001b[38;5;250m    \u001b[39m\u001b[38;5;124;03m\"\"\"\u001b[39;00m\n\u001b[1;32m    790\u001b[0m \u001b[38;5;124;03m    Count points which matches given filtering condition\u001b[39;00m\n\u001b[1;32m    791\u001b[0m \u001b[38;5;124;03m    \"\"\"\u001b[39;00m\n\u001b[0;32m--> 792\u001b[0m     \u001b[38;5;28;01mreturn\u001b[39;00m \u001b[38;5;28;01mawait\u001b[39;00m \u001b[38;5;28mself\u001b[39m\u001b[38;5;241m.\u001b[39m_build_for_count_points(\n\u001b[1;32m    793\u001b[0m         collection_name\u001b[38;5;241m=\u001b[39mcollection_name,\n\u001b[1;32m    794\u001b[0m         count_request\u001b[38;5;241m=\u001b[39mcount_request,\n\u001b[1;32m    795\u001b[0m     )\n",
      "File \u001b[0;32m~/opt/anaconda3/envs/Chatbot/lib/python3.11/site-packages/qdrant_client/http/api_client.py:146\u001b[0m, in \u001b[0;36mAsyncApiClient.request\u001b[0;34m(self, type_, method, url, path_params, **kwargs)\u001b[0m\n\u001b[1;32m    144\u001b[0m url \u001b[38;5;241m=\u001b[39m (\u001b[38;5;28mself\u001b[39m\u001b[38;5;241m.\u001b[39mhost \u001b[38;5;129;01mor\u001b[39;00m \u001b[38;5;124m\"\u001b[39m\u001b[38;5;124m\"\u001b[39m) \u001b[38;5;241m+\u001b[39m url\u001b[38;5;241m.\u001b[39mformat(\u001b[38;5;241m*\u001b[39m\u001b[38;5;241m*\u001b[39mpath_params)\n\u001b[1;32m    145\u001b[0m request \u001b[38;5;241m=\u001b[39m \u001b[38;5;28mself\u001b[39m\u001b[38;5;241m.\u001b[39m_async_client\u001b[38;5;241m.\u001b[39mbuild_request(method, url, \u001b[38;5;241m*\u001b[39m\u001b[38;5;241m*\u001b[39mkwargs)\n\u001b[0;32m--> 146\u001b[0m \u001b[38;5;28;01mreturn\u001b[39;00m \u001b[38;5;28;01mawait\u001b[39;00m \u001b[38;5;28mself\u001b[39m\u001b[38;5;241m.\u001b[39msend(request, type_)\n",
      "File \u001b[0;32m~/opt/anaconda3/envs/Chatbot/lib/python3.11/site-packages/qdrant_client/http/api_client.py:169\u001b[0m, in \u001b[0;36mAsyncApiClient.send\u001b[0;34m(self, request, type_)\u001b[0m\n\u001b[1;32m    167\u001b[0m     \u001b[38;5;28;01mexcept\u001b[39;00m ValidationError \u001b[38;5;28;01mas\u001b[39;00m e:\n\u001b[1;32m    168\u001b[0m         \u001b[38;5;28;01mraise\u001b[39;00m ResponseHandlingException(e)\n\u001b[0;32m--> 169\u001b[0m \u001b[38;5;28;01mraise\u001b[39;00m UnexpectedResponse\u001b[38;5;241m.\u001b[39mfor_response(response)\n",
      "\u001b[0;31mUnexpectedResponse\u001b[0m: Unexpected Response: 404 (Not Found)\nRaw response content:\nb'{\"status\":{\"error\":\"Not found: Collection `products_description` doesn\\'t exist!\"},\"time\":0.000034792}'"
     ]
    }
   ],
   "source": [
    "count = await client.count(collection_name='products_description')\n",
    "\n",
    "print(count)"
   ]
  },
  {
   "cell_type": "code",
   "execution_count": 15,
   "metadata": {},
   "outputs": [
    {
     "data": {
      "text/plain": [
       "True"
      ]
     },
     "execution_count": 15,
     "metadata": {},
     "output_type": "execute_result"
    }
   ],
   "source": [
    "await client.delete_collection(collection_name='products_description')"
   ]
  },
  {
   "cell_type": "code",
   "execution_count": 55,
   "metadata": {},
   "outputs": [
    {
     "data": {
      "text/plain": [
       "[[4.1, 40],\n",
       " [0.5999999999999996, 67],\n",
       " [4.800000000000001, 41],\n",
       " [8.3, 67],\n",
       " [8.2, 36],\n",
       " [4.499999999999998, 2],\n",
       " [7.200000000000001, 70],\n",
       " [8.5, 11],\n",
       " [8.7, 49],\n",
       " [0.1999999999999993, 48],\n",
       " [8.100000000000001, 5],\n",
       " [3.6999999999999993, 27],\n",
       " [1.700000000000001, 94],\n",
       " [7.4, 93],\n",
       " [1.299999999999999, 77],\n",
       " [7.1, 85],\n",
       " [3.0999999999999996, 24],\n",
       " [2.799999999999999, 56],\n",
       " [3.5000000000000018, 17],\n",
       " [6.699999999999999, 41],\n",
       " [8.1, 80],\n",
       " [3.7, 89],\n",
       " [3.799999999999999, 17],\n",
       " [1.9999999999999982, 87],\n",
       " [7.899999999999999, 82],\n",
       " [0.3999999999999986, 70],\n",
       " [1.5, 6],\n",
       " [4.700000000000001, 22],\n",
       " [4.600000000000001, 2],\n",
       " [2.0, 71],\n",
       " [4.800000000000001, 53],\n",
       " [7.800000000000001, 79],\n",
       " [0.6999999999999993, 5],\n",
       " [3.3000000000000007, 33],\n",
       " [1.1999999999999993, 87],\n",
       " [6.999999999999998, 72],\n",
       " [0.5, 68],\n",
       " [1.3000000000000007, 29],\n",
       " [6.299999999999999, 30],\n",
       " [5.6, 44],\n",
       " [2.1000000000000014, 80],\n",
       " [0.6999999999999993, 59],\n",
       " [0.8999999999999986, 50],\n",
       " [3.4000000000000004, 82],\n",
       " [5.6, 5],\n",
       " [5.900000000000002, 1],\n",
       " [6.200000000000001, 26],\n",
       " [2.6999999999999993, 80]]"
      ]
     },
     "execution_count": 55,
     "metadata": {},
     "output_type": "execute_result"
    }
   ],
   "source": [
    "import requests\n",
    "\n",
    "\n",
    "url = 'http://127.0.0.1:8000/products'\n",
    "response = requests.get(f'{url}/').json()\n",
    "[[item.get('buy_price')-item.get('sell_price'),item.get('quantity')] for item in response]"
   ]
  }
 ],
 "metadata": {
  "kernelspec": {
   "display_name": "Chatbot",
   "language": "python",
   "name": "python3"
  },
  "language_info": {
   "codemirror_mode": {
    "name": "ipython",
    "version": 3
   },
   "file_extension": ".py",
   "mimetype": "text/x-python",
   "name": "python",
   "nbconvert_exporter": "python",
   "pygments_lexer": "ipython3",
   "version": "3.11.3"
  }
 },
 "nbformat": 4,
 "nbformat_minor": 2
}
