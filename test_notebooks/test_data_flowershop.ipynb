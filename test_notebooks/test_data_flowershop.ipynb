{
 "cells": [
  {
   "cell_type": "code",
   "execution_count": 1,
   "metadata": {},
   "outputs": [],
   "source": [
    "import pandas as pd\n",
    "import numpy as np\n",
    "import nanoid\n",
    "import pymongo\n",
    "from openai import OpenAI\n",
    "import requests\n",
    "from datetime import datetime\n",
    "\n"
   ]
  },
  {
   "cell_type": "code",
   "execution_count": 15,
   "metadata": {},
   "outputs": [],
   "source": [
    "quantites = np.random.randint(1,100,size=48)\n",
    "prices_buy = np.random.randint(1,2,size=48)*10 + np.random.randint(0,10,size=48) + np.random.randint(0,10,size=48)*0.1\n",
    "prices_sale = prices_buy - np.random.randint(0,10,size=48) + np.random.randint(0,10,size=48)*0.1\n"
   ]
  },
  {
   "cell_type": "code",
   "execution_count": 18,
   "metadata": {},
   "outputs": [],
   "source": [
    "data = pd.read_csv('data/flowershopdata.csv')\n",
    "data['Description'] = data[['Description', 'Needs','Season']].apply(lambda x: ' '.join(x.dropna().astype(str)), axis=1)\n",
    "data['Buy_price'] = prices_buy\n",
    "data['Sale_price'] = np.round(prices_sale,2)\n",
    "data['Quantities'] = quantites\n",
    "jpg_paths = [f\"init_data/products/img_flowers/{flower.lower()}.jpg\" for flower in data['Name']]\n",
    "data['pic_path'] = jpg_paths\n",
    "data['id'] = [nanoid.generate(size=10) for x in range(48)]\n",
    "data['date'] =[datetime.now().strftime(\"%d-%m-%Y %H:%M:%S\") for x in range(48)]\n",
    "data['tags'] = ['flower' for x in range(48)]\n",
    "data.drop(columns=['Needs','Season'],inplace=True)"
   ]
  },
  {
   "cell_type": "code",
   "execution_count": 19,
   "metadata": {},
   "outputs": [],
   "source": [
    "data.to_csv('data/flowershopdata_clean.csv')"
   ]
  },
  {
   "cell_type": "code",
   "execution_count": 46,
   "metadata": {},
   "outputs": [],
   "source": [
    "import os\n",
    "import requests\n",
    "from bs4 import BeautifulSoup\n",
    "from PIL import Image\n",
    "from io import BytesIO\n",
    "from selenium import webdriver\n",
    "from selenium.webdriver.common.by import By\n",
    "import time\n",
    "\n",
    "def fetch_first_image_url(query):\n",
    "    options = webdriver.SafariOptions()\n",
    "    driver = webdriver.Safari(options=options)\n",
    "\n",
    "    search_url = f\"https://pl.pinterest.com/search/pins/?q={query}%20flower&rs=typed\"\n",
    "    driver.get(search_url)\n",
    "\n",
    "    time.sleep(2)\n",
    "    image_elements = driver.find_elements(By.CSS_SELECTOR, 'img')\n",
    "\n",
    "    if len(image_elements) >= 10:\n",
    "        # Get the URL of the 10th image\n",
    "        image_element = image_elements[9]  # Index 9 corresponds to the 10th image (0-based index)\n",
    "        image_url = image_element.get_attribute('src')\n",
    "    else:\n",
    "        print(\"Not enough images found on the page\")\n",
    "        image_url = None\n",
    "\n",
    "    driver.quit()\n",
    "    return image_url\n",
    "\n",
    "def save_image_from_url(url, directory, filename):\n",
    "    response = requests.get(url)\n",
    "    image = Image.open(BytesIO(response.content))\n",
    "    image_path = os.path.join(directory, filename)\n",
    "    image.save(image_path)\n",
    "    print(f\"Image saved to {image_path}\")\n",
    "\n"
   ]
  },
  {
   "cell_type": "code",
   "execution_count": 6,
   "metadata": {},
   "outputs": [],
   "source": [
    "import nanoid\n",
    "def create_product(product_data):\n",
    "    base_url = \"http://127.0.0.1:8000\"\n",
    "    response = requests.post(f\"{base_url}/products/\", json=product_data)\n",
    "    print(response.json())"
   ]
  },
  {
   "cell_type": "code",
   "execution_count": 7,
   "metadata": {},
   "outputs": [],
   "source": [
    "data = pd.read_csv('data/flowershopdata_clean.csv').drop(columns=['Unnamed: 0'])\n",
    "\n"
   ]
  },
  {
   "cell_type": "code",
   "execution_count": 40,
   "metadata": {},
   "outputs": [
    {
     "name": "stdout",
     "output_type": "stream",
     "text": [
      "[]\n"
     ]
    }
   ],
   "source": [
    "client = QdrantClient(url=\"http://127.0.0.1:6333\")\n",
    "names = [item.name for item in client.get_collections().collections]\n",
    "print(names)"
   ]
  },
  {
   "cell_type": "code",
   "execution_count": 32,
   "metadata": {},
   "outputs": [],
   "source": [
    "# from sentence_transformers import SentenceTransformer, util\n",
    "from qdrant_client import QdrantClient, AsyncQdrantClient\n",
    "from qdrant_client.models import Distance, VectorParams\n",
    "from qdrant_client.models import PointStruct\n",
    "\n",
    "# model = SentenceTransformer('intfloat/e5-small-v2')\n",
    "vec_len = 384\n",
    "client = QdrantClient(url=\"http://127.0.0.1:6333\")\n",
    "names = [item.name for item in client.get_collections().collections]\n",
    "if 'products_description' not in names:\n",
    "    client.create_collection(\n",
    "        collection_name=\"products_description\",\n",
    "        vectors_config=VectorParams(size=vec_len, distance=Distance.COSINE),)\n",
    "else:\n",
    "    print('Collection exits')\n"
   ]
  },
  {
   "cell_type": "code",
   "execution_count": 39,
   "metadata": {},
   "outputs": [
    {
     "data": {
      "text/plain": [
       "False"
      ]
     },
     "execution_count": 39,
     "metadata": {},
     "output_type": "execute_result"
    }
   ],
   "source": [
    "client.delete_collection(\"products_description\")"
   ]
  },
  {
   "cell_type": "code",
   "execution_count": 8,
   "metadata": {},
   "outputs": [],
   "source": [
    "points = [PointStruct(id=index, \n",
    "                      vector=model.encode(item['Description'], normalize_embeddings=True), \n",
    "                      payload={\"Id\": item['id'],\n",
    "                               \"Name\": item['Name'],\n",
    "                               \"Description\":item['Description']}) for index,item in data.iterrows()]\n"
   ]
  },
  {
   "cell_type": "code",
   "execution_count": 215,
   "metadata": {},
   "outputs": [
    {
     "name": "stdout",
     "output_type": "stream",
     "text": [
      "operation_id=0 status=<UpdateStatus.COMPLETED: 'completed'>\n"
     ]
    }
   ],
   "source": [
    "operation_info = client.upsert(\n",
    "    collection_name=\"products_description\",\n",
    "    wait=True,\n",
    "    points=points,\n",
    ")\n",
    "\n",
    "print(operation_info)"
   ]
  },
  {
   "cell_type": "code",
   "execution_count": 4,
   "metadata": {},
   "outputs": [],
   "source": [
    "from pymongo import MongoClient\n",
    "from openai import OpenAI\n",
    "from typing import List\n",
    "# from sentence_transformers import SentenceTransformer\n",
    "from qdrant_client import QdrantClient\n"
   ]
  },
  {
   "cell_type": "code",
   "execution_count": 88,
   "metadata": {},
   "outputs": [],
   "source": [
    "question = \"I would like white flower that needs acidic soil\"\n",
    "# model = SentenceTransformer(\"intfloat/e5-small-v2\")\n",
    "bot = {\n",
    "    \"mongo_client\": MongoClient(\"mongodb://localhost:27017/\"),\n",
    "    \"qdrant_client\": QdrantClient(\"http://localhost:6333\"),\n",
    "    \"openai_client\":  OpenAI(api_key=\"sk-proj-8j1NyU5gvA4njucbGG3uT3BlbkFJxBLHcRn4z7futfYb4sgb\")\n",
    "},"
   ]
  },
  {
   "cell_type": "code",
   "execution_count": 5,
   "metadata": {},
   "outputs": [
    {
     "ename": "NameError",
     "evalue": "name 'AsyncQdrantClient' is not defined",
     "output_type": "error",
     "traceback": [
      "\u001b[0;31m---------------------------------------------------------------------------\u001b[0m",
      "\u001b[0;31mNameError\u001b[0m                                 Traceback (most recent call last)",
      "Cell \u001b[0;32mIn[5], line 1\u001b[0m\n\u001b[0;32m----> 1\u001b[0m client \u001b[38;5;241m=\u001b[39m \u001b[43mAsyncQdrantClient\u001b[49m(\u001b[38;5;124m\"\u001b[39m\u001b[38;5;124mhttp://localhost:6333\u001b[39m\u001b[38;5;124m\"\u001b[39m)\n",
      "\u001b[0;31mNameError\u001b[0m: name 'AsyncQdrantClient' is not defined"
     ]
    }
   ],
   "source": [
    "client = AsyncQdrantClient(\"http://localhost:6333\")"
   ]
  },
  {
   "cell_type": "code",
   "execution_count": 119,
   "metadata": {},
   "outputs": [
    {
     "data": {
      "text/plain": [
       "[{'id': 6,\n",
       "  'version': 6,\n",
       "  'score': 0.81549656,\n",
       "  'payload': {'Description': 'Named for its red colored sap that flows from cut stems, bloodroot flowers are white with a bright yellow center. Needs well-drained soil. Blooms in early spring.',\n",
       "   'Id': 'AtfxNCsTNK',\n",
       "   'Name': 'Bloodroot'},\n",
       "  'vector': None,\n",
       "  'shard_key': None},\n",
       " {'id': 21,\n",
       "  'version': 21,\n",
       "  'score': 0.8153006,\n",
       "  'payload': {'Description': 'Small, bell-shaped flowers, often used as ground cover and in rock gardens, known for their resilience and beauty. Needs acidic soil. Blooms in late summer to fall.',\n",
       "   'Id': 'CS9fWn1prj',\n",
       "   'Name': 'Heather'},\n",
       "  'vector': None,\n",
       "  'shard_key': None},\n",
       " {'id': 27,\n",
       "  'version': 27,\n",
       "  'score': 0.8136447,\n",
       "  'payload': {'Description': 'Tall spikes of flowers that resemble a dragon’s mouth when squeezed, available in a wide range of colors. Needs well-drained soil. Blooms in spring to fall.',\n",
       "   'Id': 'A7y3--teGu',\n",
       "   'Name': 'Snapdragon'},\n",
       "  'vector': None,\n",
       "  'shard_key': None}]"
      ]
     },
     "execution_count": 119,
     "metadata": {},
     "output_type": "execute_result"
    }
   ],
   "source": [
    "requests.post(\"http://127.0.0.1:8000/products/vec_search/\", json={'question': 'Red flower'}).json()\n"
   ]
  },
  {
   "cell_type": "code",
   "execution_count": 38,
   "metadata": {},
   "outputs": [
    {
     "ename": "UnexpectedResponse",
     "evalue": "Unexpected Response: 404 (Not Found)\nRaw response content:\nb'{\"status\":{\"error\":\"Not found: Collection `products_description` doesn\\'t exist!\"},\"time\":0.000152104}'",
     "output_type": "error",
     "traceback": [
      "\u001b[0;31m---------------------------------------------------------------------------\u001b[0m",
      "\u001b[0;31mUnexpectedResponse\u001b[0m                        Traceback (most recent call last)",
      "Cell \u001b[0;32mIn[38], line 1\u001b[0m\n\u001b[0;32m----> 1\u001b[0m count \u001b[38;5;241m=\u001b[39m \u001b[43mclient\u001b[49m\u001b[38;5;241;43m.\u001b[39;49m\u001b[43mcount\u001b[49m\u001b[43m(\u001b[49m\u001b[43mcollection_name\u001b[49m\u001b[38;5;241;43m=\u001b[39;49m\u001b[38;5;124;43m\"\u001b[39;49m\u001b[38;5;124;43mproducts_description\u001b[39;49m\u001b[38;5;124;43m\"\u001b[39;49m\u001b[43m)\u001b[49m\n\u001b[1;32m      2\u001b[0m count\u001b[38;5;241m.\u001b[39mcount\n",
      "File \u001b[0;32m~/systemy_rozproszone/.venv/lib/python3.11/site-packages/qdrant_client/qdrant_client.py:958\u001b[0m, in \u001b[0;36mQdrantClient.count\u001b[0;34m(self, collection_name, count_filter, exact, shard_key_selector, **kwargs)\u001b[0m\n\u001b[1;32m    938\u001b[0m \u001b[38;5;250m\u001b[39m\u001b[38;5;124;03m\"\"\"Count points in the collection.\u001b[39;00m\n\u001b[1;32m    939\u001b[0m \n\u001b[1;32m    940\u001b[0m \u001b[38;5;124;03mCount points in the collection matching the given filter.\u001b[39;00m\n\u001b[0;32m   (...)\u001b[0m\n\u001b[1;32m    954\u001b[0m \u001b[38;5;124;03m    Amount of points in the collection matching the filter.\u001b[39;00m\n\u001b[1;32m    955\u001b[0m \u001b[38;5;124;03m\"\"\"\u001b[39;00m\n\u001b[1;32m    956\u001b[0m \u001b[38;5;28;01massert\u001b[39;00m \u001b[38;5;28mlen\u001b[39m(kwargs) \u001b[38;5;241m==\u001b[39m \u001b[38;5;241m0\u001b[39m, \u001b[38;5;124mf\u001b[39m\u001b[38;5;124m\"\u001b[39m\u001b[38;5;124mUnknown arguments: \u001b[39m\u001b[38;5;132;01m{\u001b[39;00m\u001b[38;5;28mlist\u001b[39m(kwargs\u001b[38;5;241m.\u001b[39mkeys())\u001b[38;5;132;01m}\u001b[39;00m\u001b[38;5;124m\"\u001b[39m\n\u001b[0;32m--> 958\u001b[0m \u001b[38;5;28;01mreturn\u001b[39;00m \u001b[38;5;28;43mself\u001b[39;49m\u001b[38;5;241;43m.\u001b[39;49m\u001b[43m_client\u001b[49m\u001b[38;5;241;43m.\u001b[39;49m\u001b[43mcount\u001b[49m\u001b[43m(\u001b[49m\n\u001b[1;32m    959\u001b[0m \u001b[43m    \u001b[49m\u001b[43mcollection_name\u001b[49m\u001b[38;5;241;43m=\u001b[39;49m\u001b[43mcollection_name\u001b[49m\u001b[43m,\u001b[49m\n\u001b[1;32m    960\u001b[0m \u001b[43m    \u001b[49m\u001b[43mcount_filter\u001b[49m\u001b[38;5;241;43m=\u001b[39;49m\u001b[43mcount_filter\u001b[49m\u001b[43m,\u001b[49m\n\u001b[1;32m    961\u001b[0m \u001b[43m    \u001b[49m\u001b[43mexact\u001b[49m\u001b[38;5;241;43m=\u001b[39;49m\u001b[43mexact\u001b[49m\u001b[43m,\u001b[49m\n\u001b[1;32m    962\u001b[0m \u001b[43m    \u001b[49m\u001b[43mshard_key_selector\u001b[49m\u001b[38;5;241;43m=\u001b[39;49m\u001b[43mshard_key_selector\u001b[49m\u001b[43m,\u001b[49m\n\u001b[1;32m    963\u001b[0m \u001b[43m    \u001b[49m\u001b[38;5;241;43m*\u001b[39;49m\u001b[38;5;241;43m*\u001b[39;49m\u001b[43mkwargs\u001b[49m\u001b[43m,\u001b[49m\n\u001b[1;32m    964\u001b[0m \u001b[43m\u001b[49m\u001b[43m)\u001b[49m\n",
      "File \u001b[0;32m~/systemy_rozproszone/.venv/lib/python3.11/site-packages/qdrant_client/qdrant_remote.py:1301\u001b[0m, in \u001b[0;36mQdrantRemote.count\u001b[0;34m(self, collection_name, count_filter, exact, shard_key_selector, **kwargs)\u001b[0m\n\u001b[1;32m   1298\u001b[0m \u001b[38;5;28;01mif\u001b[39;00m \u001b[38;5;28misinstance\u001b[39m(count_filter, grpc\u001b[38;5;241m.\u001b[39mFilter):\n\u001b[1;32m   1299\u001b[0m     count_filter \u001b[38;5;241m=\u001b[39m GrpcToRest\u001b[38;5;241m.\u001b[39mconvert_filter(model\u001b[38;5;241m=\u001b[39mcount_filter)\n\u001b[0;32m-> 1301\u001b[0m count_result \u001b[38;5;241m=\u001b[39m \u001b[38;5;28;43mself\u001b[39;49m\u001b[38;5;241;43m.\u001b[39;49m\u001b[43mopenapi_client\u001b[49m\u001b[38;5;241;43m.\u001b[39;49m\u001b[43mpoints_api\u001b[49m\u001b[38;5;241;43m.\u001b[39;49m\u001b[43mcount_points\u001b[49m\u001b[43m(\u001b[49m\n\u001b[1;32m   1302\u001b[0m \u001b[43m    \u001b[49m\u001b[43mcollection_name\u001b[49m\u001b[38;5;241;43m=\u001b[39;49m\u001b[43mcollection_name\u001b[49m\u001b[43m,\u001b[49m\n\u001b[1;32m   1303\u001b[0m \u001b[43m    \u001b[49m\u001b[43mcount_request\u001b[49m\u001b[38;5;241;43m=\u001b[39;49m\u001b[43mmodels\u001b[49m\u001b[38;5;241;43m.\u001b[39;49m\u001b[43mCountRequest\u001b[49m\u001b[43m(\u001b[49m\n\u001b[1;32m   1304\u001b[0m \u001b[43m        \u001b[49m\u001b[38;5;28;43mfilter\u001b[39;49m\u001b[38;5;241;43m=\u001b[39;49m\u001b[43mcount_filter\u001b[49m\u001b[43m,\u001b[49m\n\u001b[1;32m   1305\u001b[0m \u001b[43m        \u001b[49m\u001b[43mexact\u001b[49m\u001b[38;5;241;43m=\u001b[39;49m\u001b[43mexact\u001b[49m\u001b[43m,\u001b[49m\n\u001b[1;32m   1306\u001b[0m \u001b[43m        \u001b[49m\u001b[43mshard_key\u001b[49m\u001b[38;5;241;43m=\u001b[39;49m\u001b[43mshard_key_selector\u001b[49m\u001b[43m,\u001b[49m\n\u001b[1;32m   1307\u001b[0m \u001b[43m    \u001b[49m\u001b[43m)\u001b[49m\u001b[43m,\u001b[49m\n\u001b[1;32m   1308\u001b[0m \u001b[43m\u001b[49m\u001b[43m)\u001b[49m\u001b[38;5;241m.\u001b[39mresult\n\u001b[1;32m   1309\u001b[0m \u001b[38;5;28;01massert\u001b[39;00m count_result \u001b[38;5;129;01mis\u001b[39;00m \u001b[38;5;129;01mnot\u001b[39;00m \u001b[38;5;28;01mNone\u001b[39;00m, \u001b[38;5;124m\"\u001b[39m\u001b[38;5;124mCount points returned None result\u001b[39m\u001b[38;5;124m\"\u001b[39m\n\u001b[1;32m   1310\u001b[0m \u001b[38;5;28;01mreturn\u001b[39;00m count_result\n",
      "File \u001b[0;32m~/systemy_rozproszone/.venv/lib/python3.11/site-packages/qdrant_client/http/api/points_api.py:1141\u001b[0m, in \u001b[0;36mSyncPointsApi.count_points\u001b[0;34m(self, collection_name, count_request)\u001b[0m\n\u001b[1;32m   1133\u001b[0m \u001b[38;5;28;01mdef\u001b[39;00m \u001b[38;5;21mcount_points\u001b[39m(\n\u001b[1;32m   1134\u001b[0m     \u001b[38;5;28mself\u001b[39m,\n\u001b[1;32m   1135\u001b[0m     collection_name: \u001b[38;5;28mstr\u001b[39m,\n\u001b[1;32m   1136\u001b[0m     count_request: m\u001b[38;5;241m.\u001b[39mCountRequest \u001b[38;5;241m=\u001b[39m \u001b[38;5;28;01mNone\u001b[39;00m,\n\u001b[1;32m   1137\u001b[0m ) \u001b[38;5;241m-\u001b[39m\u001b[38;5;241m>\u001b[39m m\u001b[38;5;241m.\u001b[39mInlineResponse20020:\n\u001b[1;32m   1138\u001b[0m \u001b[38;5;250m    \u001b[39m\u001b[38;5;124;03m\"\"\"\u001b[39;00m\n\u001b[1;32m   1139\u001b[0m \u001b[38;5;124;03m    Count points which matches given filtering condition\u001b[39;00m\n\u001b[1;32m   1140\u001b[0m \u001b[38;5;124;03m    \"\"\"\u001b[39;00m\n\u001b[0;32m-> 1141\u001b[0m     \u001b[38;5;28;01mreturn\u001b[39;00m \u001b[38;5;28;43mself\u001b[39;49m\u001b[38;5;241;43m.\u001b[39;49m\u001b[43m_build_for_count_points\u001b[49m\u001b[43m(\u001b[49m\n\u001b[1;32m   1142\u001b[0m \u001b[43m        \u001b[49m\u001b[43mcollection_name\u001b[49m\u001b[38;5;241;43m=\u001b[39;49m\u001b[43mcollection_name\u001b[49m\u001b[43m,\u001b[49m\n\u001b[1;32m   1143\u001b[0m \u001b[43m        \u001b[49m\u001b[43mcount_request\u001b[49m\u001b[38;5;241;43m=\u001b[39;49m\u001b[43mcount_request\u001b[49m\u001b[43m,\u001b[49m\n\u001b[1;32m   1144\u001b[0m \u001b[43m    \u001b[49m\u001b[43m)\u001b[49m\n",
      "File \u001b[0;32m~/systemy_rozproszone/.venv/lib/python3.11/site-packages/qdrant_client/http/api/points_api.py:139\u001b[0m, in \u001b[0;36m_PointsApi._build_for_count_points\u001b[0;34m(self, collection_name, count_request)\u001b[0m\n\u001b[1;32m    137\u001b[0m \u001b[38;5;28;01mif\u001b[39;00m \u001b[38;5;124m\"\u001b[39m\u001b[38;5;124mContent-Type\u001b[39m\u001b[38;5;124m\"\u001b[39m \u001b[38;5;129;01mnot\u001b[39;00m \u001b[38;5;129;01min\u001b[39;00m headers:\n\u001b[1;32m    138\u001b[0m     headers[\u001b[38;5;124m\"\u001b[39m\u001b[38;5;124mContent-Type\u001b[39m\u001b[38;5;124m\"\u001b[39m] \u001b[38;5;241m=\u001b[39m \u001b[38;5;124m\"\u001b[39m\u001b[38;5;124mapplication/json\u001b[39m\u001b[38;5;124m\"\u001b[39m\n\u001b[0;32m--> 139\u001b[0m \u001b[38;5;28;01mreturn\u001b[39;00m \u001b[38;5;28;43mself\u001b[39;49m\u001b[38;5;241;43m.\u001b[39;49m\u001b[43mapi_client\u001b[49m\u001b[38;5;241;43m.\u001b[39;49m\u001b[43mrequest\u001b[49m\u001b[43m(\u001b[49m\n\u001b[1;32m    140\u001b[0m \u001b[43m    \u001b[49m\u001b[43mtype_\u001b[49m\u001b[38;5;241;43m=\u001b[39;49m\u001b[43mm\u001b[49m\u001b[38;5;241;43m.\u001b[39;49m\u001b[43mInlineResponse20020\u001b[49m\u001b[43m,\u001b[49m\n\u001b[1;32m    141\u001b[0m \u001b[43m    \u001b[49m\u001b[43mmethod\u001b[49m\u001b[38;5;241;43m=\u001b[39;49m\u001b[38;5;124;43m\"\u001b[39;49m\u001b[38;5;124;43mPOST\u001b[39;49m\u001b[38;5;124;43m\"\u001b[39;49m\u001b[43m,\u001b[49m\n\u001b[1;32m    142\u001b[0m \u001b[43m    \u001b[49m\u001b[43murl\u001b[49m\u001b[38;5;241;43m=\u001b[39;49m\u001b[38;5;124;43m\"\u001b[39;49m\u001b[38;5;124;43m/collections/\u001b[39;49m\u001b[38;5;132;43;01m{collection_name}\u001b[39;49;00m\u001b[38;5;124;43m/points/count\u001b[39;49m\u001b[38;5;124;43m\"\u001b[39;49m\u001b[43m,\u001b[49m\n\u001b[1;32m    143\u001b[0m \u001b[43m    \u001b[49m\u001b[43mheaders\u001b[49m\u001b[38;5;241;43m=\u001b[39;49m\u001b[43mheaders\u001b[49m\u001b[43m \u001b[49m\u001b[38;5;28;43;01mif\u001b[39;49;00m\u001b[43m \u001b[49m\u001b[43mheaders\u001b[49m\u001b[43m \u001b[49m\u001b[38;5;28;43;01melse\u001b[39;49;00m\u001b[43m \u001b[49m\u001b[38;5;28;43;01mNone\u001b[39;49;00m\u001b[43m,\u001b[49m\n\u001b[1;32m    144\u001b[0m \u001b[43m    \u001b[49m\u001b[43mpath_params\u001b[49m\u001b[38;5;241;43m=\u001b[39;49m\u001b[43mpath_params\u001b[49m\u001b[43m,\u001b[49m\n\u001b[1;32m    145\u001b[0m \u001b[43m    \u001b[49m\u001b[43mcontent\u001b[49m\u001b[38;5;241;43m=\u001b[39;49m\u001b[43mbody\u001b[49m\u001b[43m,\u001b[49m\n\u001b[1;32m    146\u001b[0m \u001b[43m\u001b[49m\u001b[43m)\u001b[49m\n",
      "File \u001b[0;32m~/systemy_rozproszone/.venv/lib/python3.11/site-packages/qdrant_client/http/api_client.py:76\u001b[0m, in \u001b[0;36mApiClient.request\u001b[0;34m(self, type_, method, url, path_params, **kwargs)\u001b[0m\n\u001b[1;32m     74\u001b[0m     kwargs[\u001b[38;5;124m\"\u001b[39m\u001b[38;5;124mtimeout\u001b[39m\u001b[38;5;124m\"\u001b[39m] \u001b[38;5;241m=\u001b[39m \u001b[38;5;28mint\u001b[39m(kwargs[\u001b[38;5;124m\"\u001b[39m\u001b[38;5;124mparams\u001b[39m\u001b[38;5;124m\"\u001b[39m][\u001b[38;5;124m\"\u001b[39m\u001b[38;5;124mtimeout\u001b[39m\u001b[38;5;124m\"\u001b[39m])\n\u001b[1;32m     75\u001b[0m request \u001b[38;5;241m=\u001b[39m \u001b[38;5;28mself\u001b[39m\u001b[38;5;241m.\u001b[39m_client\u001b[38;5;241m.\u001b[39mbuild_request(method, url, \u001b[38;5;241m*\u001b[39m\u001b[38;5;241m*\u001b[39mkwargs)\n\u001b[0;32m---> 76\u001b[0m \u001b[38;5;28;01mreturn\u001b[39;00m \u001b[38;5;28;43mself\u001b[39;49m\u001b[38;5;241;43m.\u001b[39;49m\u001b[43msend\u001b[49m\u001b[43m(\u001b[49m\u001b[43mrequest\u001b[49m\u001b[43m,\u001b[49m\u001b[43m \u001b[49m\u001b[43mtype_\u001b[49m\u001b[43m)\u001b[49m\n",
      "File \u001b[0;32m~/systemy_rozproszone/.venv/lib/python3.11/site-packages/qdrant_client/http/api_client.py:99\u001b[0m, in \u001b[0;36mApiClient.send\u001b[0;34m(self, request, type_)\u001b[0m\n\u001b[1;32m     97\u001b[0m     \u001b[38;5;28;01mexcept\u001b[39;00m ValidationError \u001b[38;5;28;01mas\u001b[39;00m e:\n\u001b[1;32m     98\u001b[0m         \u001b[38;5;28;01mraise\u001b[39;00m ResponseHandlingException(e)\n\u001b[0;32m---> 99\u001b[0m \u001b[38;5;28;01mraise\u001b[39;00m UnexpectedResponse\u001b[38;5;241m.\u001b[39mfor_response(response)\n",
      "\u001b[0;31mUnexpectedResponse\u001b[0m: Unexpected Response: 404 (Not Found)\nRaw response content:\nb'{\"status\":{\"error\":\"Not found: Collection `products_description` doesn\\'t exist!\"},\"time\":0.000152104}'"
     ]
    }
   ],
   "source": [
    "count = client.count(collection_name=\"products_description\")\n",
    "count.count"
   ]
  },
  {
   "cell_type": "code",
   "execution_count": 7,
   "metadata": {},
   "outputs": [
    {
     "name": "stdout",
     "output_type": "stream",
     "text": [
      "{'_id': ObjectId('666075cc5b1f07de122480db'), 'id': '_ihvY2cxEF', 'name': 'Periwinkle', 'description': 'Perfect as a ground cover, the flowers resemble small, delicate stars and are often found in shades of blue, purple, and white. Needs droughty. Blooms in mid-spring to mid-fall.', 'sell_price': 8.1, 'quantity': 40, 'buy_price': 12.2, 'date': 'None', 'image_id': '666075cc5b1f07de122480d9', 'tags': ['flower'], 'is_enabled': True}\n",
      "{'_id': ObjectId('666075cd5b1f07de122480de'), 'id': 'X8tcuAiPKf', 'name': 'Bellflower', 'description': 'Known for their resemblance to bells, these flowers come in shades of blue, purple, pink, and white and add a whimsical touch to any garden. Needs well-drained soil. Blooms in early summer to early fall.', 'sell_price': 13.1, 'quantity': 67, 'buy_price': 13.7, 'date': 'None', 'image_id': '666075cd5b1f07de122480dc', 'tags': ['flower'], 'is_enabled': True}\n",
      "{'_id': ObjectId('666075cd5b1f07de122480e1'), 'id': 'J7hVRECgEm', 'name': 'Lily', 'description': 'A highly recognized flower which has bright colors and a distinct fragrance, lilies are often associated with purity and refined beauty. Needs well-drained soil. Blooms in spring to early fall.', 'sell_price': 10.5, 'quantity': 41, 'buy_price': 15.3, 'date': 'None', 'image_id': '666075cd5b1f07de122480df', 'tags': ['flower'], 'is_enabled': True}\n",
      "{'_id': ObjectId('666075cd5b1f07de122480e4'), 'id': '0GUxcnNKTr', 'name': 'Tulip', 'description': 'Great as a cut flower, they come in every color of the rainbow and are symbolic of spring and renewal. Needs well-drained soil. Blooms in spring.', 'sell_price': 5.7, 'quantity': 67, 'buy_price': 14.0, 'date': 'None', 'image_id': '666075cd5b1f07de122480e2', 'tags': ['flower'], 'is_enabled': True}\n",
      "{'_id': ObjectId('666075cd5b1f07de122480e7'), 'id': 'WOuYvLGP7w', 'name': 'Rose', 'description': 'Over 100 species of rose exist along with almost countless cultivars, known for their beauty and fragrance, often symbols of love and admiration. Needs well-drained soil. Blooms in late spring to early fall.', 'sell_price': 10.3, 'quantity': 36, 'buy_price': 18.5, 'date': 'None', 'image_id': '666075cd5b1f07de122480e5', 'tags': ['flower'], 'is_enabled': True}\n",
      "{'_id': ObjectId('666075ce5b1f07de122480ea'), 'id': 'IA35bodmUU', 'name': 'Zinnia', 'description': 'Large blooms in vibrant colors that attract butterflies, zinnias are popular for their long-lasting flowers and ease of growth. Needs well-drained soil. Blooms in mid-summer to mid-fall.', 'sell_price': 12.9, 'quantity': 2, 'buy_price': 17.4, 'date': 'None', 'image_id': '666075ce5b1f07de122480e8', 'tags': ['flower'], 'is_enabled': True}\n",
      "{'_id': ObjectId('666075ce5b1f07de122480ed'), 'id': 'AtfxNCsTNK', 'name': 'Bloodroot', 'description': 'Named for its red colored sap that flows from cut stems, bloodroot flowers are white with a bright yellow center. Needs well-drained soil. Blooms in early spring.', 'sell_price': 11.9, 'quantity': 70, 'buy_price': 19.1, 'date': 'None', 'image_id': '666075ce5b1f07de122480eb', 'tags': ['flower'], 'is_enabled': True}\n",
      "{'_id': ObjectId('666075ce5b1f07de122480f0'), 'id': '00Z8IjaDD3', 'name': 'Violet', 'description': 'A common house plant, they come in many colors and are known for their delicate, heart-shaped leaves and small blooms. Needs well-drained soil. Blooms in early spring to early fall.', 'sell_price': 4.3, 'quantity': 11, 'buy_price': 12.8, 'date': 'None', 'image_id': '666075ce5b1f07de122480ee', 'tags': ['flower'], 'is_enabled': True}\n",
      "{'_id': ObjectId('666075ce5b1f07de122480f3'), 'id': 'WHJg9afebE', 'name': 'Daffodil', 'description': 'Known for their trumpet-like flowers and bright yellow petals, daffodils are a harbinger of spring. Needs well-drained soil. Blooms in early spring.', 'sell_price': 3.7, 'quantity': 49, 'buy_price': 12.4, 'date': 'None', 'image_id': '666075ce5b1f07de122480f1', 'tags': ['flower'], 'is_enabled': True}\n",
      "{'_id': ObjectId('666075ce5b1f07de122480f6'), 'id': 'CgsU6O-TeU', 'name': 'Marigold', 'description': 'Popular for their vibrant orange and yellow blooms, marigolds are easy to grow and can help repel garden pests. Needs full sun. Blooms in summer to fall.', 'sell_price': 14.9, 'quantity': 48, 'buy_price': 15.1, 'date': 'None', 'image_id': '666075ce5b1f07de122480f4', 'tags': ['flower'], 'is_enabled': True}\n",
      "{'_id': ObjectId('666075ce5b1f07de122480f9'), 'id': 'zVFa1VsDLp', 'name': 'Hydrangea', 'description': 'Large flower heads and a variety of colors, usually blue, pink, or white, hydrangeas are beloved in garden landscapes. Needs moist soil. Blooms in late spring to summer.', 'sell_price': 9.2, 'quantity': 5, 'buy_price': 17.3, 'date': 'None', 'image_id': '666075ce5b1f07de122480f7', 'tags': ['flower'], 'is_enabled': True}\n",
      "{'_id': ObjectId('666075ce5b1f07de122480fc'), 'id': 'UKoQtfX4un', 'name': 'Lavender', 'description': 'Famous for its fragrance, often used in oils and sachets, lavender is also known for its beautiful purple flowers. Needs well-drained soil. Blooms in late spring to early summer.', 'sell_price': 9.5, 'quantity': 27, 'buy_price': 13.2, 'date': 'None', 'image_id': '666075ce5b1f07de122480fa', 'tags': ['flower'], 'is_enabled': True}\n",
      "{'_id': ObjectId('666075ce5b1f07de122480ff'), 'id': 'o_gtwodUHF', 'name': 'Peony', 'description': 'Known for their large, often fragrant blooms, peonies are a garden favorite and come in a variety of colors. Needs rich, well-drained soil. Blooms in late spring to early summer.', 'sell_price': 11.2, 'quantity': 94, 'buy_price': 12.9, 'date': 'None', 'image_id': '666075ce5b1f07de122480fd', 'tags': ['flower'], 'is_enabled': True}\n",
      "{'_id': ObjectId('666075ce5b1f07de12248102'), 'id': '9cQPkJ5fnG', 'name': 'Daisy', 'description': 'Simple and charming, daisies are a symbol of innocence and purity, recognized by their white petals and yellow centers. Needs well-drained soil. Blooms in spring to autumn.', 'sell_price': 8.6, 'quantity': 93, 'buy_price': 16.0, 'date': 'None', 'image_id': '666075ce5b1f07de12248100', 'tags': ['flower'], 'is_enabled': True}\n",
      "{'_id': ObjectId('666075ce5b1f07de12248105'), 'id': '3jMpIejkr7', 'name': 'Chrysanthemum', 'description': 'Known as mums, these flowers come in a variety of colors and are popular in fall gardens for their vibrant blooms. Needs well-drained soil. Blooms in late summer to fall.', 'sell_price': 14.4, 'quantity': 77, 'buy_price': 15.7, 'date': 'None', 'image_id': '666075ce5b1f07de12248103', 'tags': ['flower'], 'is_enabled': True}\n",
      "{'_id': ObjectId('666075cf5b1f07de12248108'), 'id': '-lhzFPNmw3', 'name': 'Aster', 'description': 'Star-shaped flowers that come in many colors, asters are a great addition to any garden and attract pollinators. Needs well-drained soil. Blooms in late summer to fall.', 'sell_price': 5.9, 'quantity': 85, 'buy_price': 13.0, 'date': 'None', 'image_id': '666075cf5b1f07de12248106', 'tags': ['flower'], 'is_enabled': True}\n",
      "{'_id': ObjectId('666075cf5b1f07de1224810b'), 'id': 'fnT6pXzKP0', 'name': 'Iris', 'description': 'Distinctive flowers with unique petal arrangements and a wide range of colors, irises are named after the Greek goddess of the rainbow. Needs well-drained soil. Blooms in late spring to early summer.', 'sell_price': 9.8, 'quantity': 24, 'buy_price': 12.9, 'date': 'None', 'image_id': '666075cf5b1f07de12248109', 'tags': ['flower'], 'is_enabled': True}\n",
      "{'_id': ObjectId('666075cf5b1f07de1224810e'), 'id': 'R746hjRC8R', 'name': 'Sunflower', 'description': 'Tall and bright, they follow the sun across the sky and are known for their large, cheerful blooms. Needs full sun. Blooms in summer.', 'sell_price': 9.4, 'quantity': 56, 'buy_price': 12.2, 'date': 'None', 'image_id': '666075cf5b1f07de1224810c', 'tags': ['flower'], 'is_enabled': True}\n",
      "{'_id': ObjectId('666075cf5b1f07de12248111'), 'id': '_E-ZKGwRlt', 'name': 'Orchid', 'description': 'Exotic flowers with intricate patterns, often grown as houseplants, orchids come in many varieties and colors. Needs well-drained, humid soil. Blooms throughout the year.', 'sell_price': 14.1, 'quantity': 17, 'buy_price': 17.6, 'date': 'None', 'image_id': '666075cf5b1f07de1224810f', 'tags': ['flower'], 'is_enabled': True}\n",
      "{'_id': ObjectId('666075cf5b1f07de12248114'), 'id': 'G_IiU9GZQc', 'name': 'Begonia', 'description': 'Popular in gardens and as houseplants, they come in a variety of colors and forms, known for their vibrant blooms and foliage. Needs moist, well-drained soil. Blooms in summer.', 'sell_price': 3.4, 'quantity': 41, 'buy_price': 10.1, 'date': 'None', 'image_id': '666075cf5b1f07de12248112', 'tags': ['flower'], 'is_enabled': True}\n",
      "{'_id': ObjectId('666075cf5b1f07de12248117'), 'id': 'sF4-20cYQc', 'name': 'Forsythia', 'description': 'Early blooming shrub with bright yellow flowers that herald the arrival of spring. Needs well-drained soil. Blooms in early spring.', 'sell_price': 7.0, 'quantity': 80, 'buy_price': 15.1, 'date': 'None', 'image_id': '666075cf5b1f07de12248115', 'tags': ['flower'], 'is_enabled': True}\n",
      "{'_id': ObjectId('666075cf5b1f07de1224811a'), 'id': 'CS9fWn1prj', 'name': 'Heather', 'description': 'Small, bell-shaped flowers, often used as ground cover and in rock gardens, known for their resilience and beauty. Needs acidic soil. Blooms in late summer to fall.', 'sell_price': 7.7, 'quantity': 89, 'buy_price': 11.4, 'date': 'None', 'image_id': '666075cf5b1f07de12248118', 'tags': ['flower'], 'is_enabled': True}\n",
      "{'_id': ObjectId('666075cf5b1f07de1224811d'), 'id': 'S-eaVUdShM', 'name': 'Jasmine', 'description': 'Known for their sweet fragrance, often used in perfumes and teas, jasmine flowers are small and usually white or yellow. Needs well-drained soil. Blooms in summer.', 'sell_price': 12.9, 'quantity': 17, 'buy_price': 16.7, 'date': 'None', 'image_id': '666075cf5b1f07de1224811b', 'tags': ['flower'], 'is_enabled': True}\n",
      "{'_id': ObjectId('666075d05b1f07de12248120'), 'id': 'azMUK48QID', 'name': 'Azalea', 'description': 'Known for their vibrant blooms and use in bonsai, azaleas are a type of rhododendron with a wide range of colors. Needs acidic, well-drained soil. Blooms in spring.', 'sell_price': 14.4, 'quantity': 87, 'buy_price': 16.4, 'date': 'None', 'image_id': '666075d05b1f07de1224811e', 'tags': ['flower'], 'is_enabled': True}\n",
      "{'_id': ObjectId('666075d05b1f07de12248123'), 'id': 'CiXDjEv0vN', 'name': 'Rhododendron', 'description': 'Large clusters of blooms, often used in landscaping for their showy flowers and evergreen foliage. Needs acidic soil. Blooms in spring.', 'sell_price': 10.8, 'quantity': 82, 'buy_price': 18.7, 'date': 'None', 'image_id': '666075d05b1f07de12248121', 'tags': ['flower'], 'is_enabled': True}\n",
      "{'_id': ObjectId('666075d05b1f07de12248126'), 'id': 'rV7Pw3purQ', 'name': 'Geranium', 'description': 'Popular in window boxes and gardens, they come in many colors and are known for their long blooming season and easy care. Needs well-drained soil. Blooms in spring to fall.', 'sell_price': 11.3, 'quantity': 70, 'buy_price': 11.7, 'date': 'None', 'image_id': '666075d05b1f07de12248124', 'tags': ['flower'], 'is_enabled': True}\n",
      "{'_id': ObjectId('666075d05b1f07de12248129'), 'id': 'P45PakP_Xs', 'name': 'Lobelia', 'description': 'Small, vibrant blue flowers often used in borders and containers, known for their intense color. Needs well-drained soil. Blooms in summer.', 'sell_price': 16.0, 'quantity': 6, 'buy_price': 17.5, 'date': 'None', 'image_id': '666075d05b1f07de12248127', 'tags': ['flower'], 'is_enabled': True}\n",
      "{'_id': ObjectId('666075d05b1f07de1224812c'), 'id': 'A7y3--teGu', 'name': 'Snapdragon', 'description': 'Tall spikes of flowers that resemble a dragon’s mouth when squeezed, available in a wide range of colors. Needs well-drained soil. Blooms in spring to fall.', 'sell_price': 12.9, 'quantity': 22, 'buy_price': 17.6, 'date': 'None', 'image_id': '666075d05b1f07de1224812a', 'tags': ['flower'], 'is_enabled': True}\n",
      "{'_id': ObjectId('666075d05b1f07de1224812f'), 'id': 'kuN1yq6RR4', 'name': 'Anemone', 'description': 'Known for their delicate, wind-blown appearance, anemones come in various colors and are often used in floral arrangements. Needs well-drained soil. Blooms in spring or fall.', 'sell_price': 12.7, 'quantity': 2, 'buy_price': 17.3, 'date': 'None', 'image_id': '666075d05b1f07de1224812d', 'tags': ['flower'], 'is_enabled': True}\n",
      "{'_id': ObjectId('666075d05b1f07de12248132'), 'id': 'tMe6_pOiUb', 'name': 'Fuchsia', 'description': 'Recognizable by their pendulous flowers, often in shades of pink, purple, and red, fuchsias are popular in hanging baskets. Needs well-drained soil. Blooms in summer to fall.', 'sell_price': 17.4, 'quantity': 71, 'buy_price': 19.4, 'date': 'None', 'image_id': '666075d05b1f07de12248130', 'tags': ['flower'], 'is_enabled': True}\n",
      "{'_id': ObjectId('666075d05b1f07de12248135'), 'id': '4YLG29WuoD', 'name': 'Primrose', 'description': 'Early blooming flowers that come in many colors and are often found in woodlands and shady areas. Needs well-drained soil. Blooms in spring.', 'sell_price': 8.7, 'quantity': 53, 'buy_price': 13.5, 'date': 'None', 'image_id': '666075d05b1f07de12248133', 'tags': ['flower'], 'is_enabled': True}\n",
      "{'_id': ObjectId('666075d05b1f07de12248138'), 'id': 'xIsL3vy9jX', 'name': 'Crocus', 'description': 'One of the first flowers to bloom in spring, they come in a variety of colors and signal the end of winter. Needs well-drained soil. Blooms in early spring.', 'sell_price': 10.0, 'quantity': 79, 'buy_price': 17.8, 'date': 'None', 'image_id': '666075d05b1f07de12248136', 'tags': ['flower'], 'is_enabled': True}\n",
      "{'_id': ObjectId('666075d05b1f07de1224813b'), 'id': 'QZHcgsdTrp', 'name': 'Bluebell', 'description': 'Known for their beautiful blue, bell-shaped flowers, often carpeting woodland floors in spring. Needs moist, well-drained soil. Blooms in spring.', 'sell_price': 12.4, 'quantity': 5, 'buy_price': 13.1, 'date': 'None', 'image_id': '666075d05b1f07de12248139', 'tags': ['flower'], 'is_enabled': True}\n",
      "{'_id': ObjectId('666075d15b1f07de1224813e'), 'id': 'Drdwc2G0QW', 'name': 'Gladiolus', 'description': 'Tall spikes of flowers that are often used in floral arrangements, gladiolus come in many colors and are known for their striking appearance. Needs well-drained soil. Blooms in summer.', 'sell_price': 13.0, 'quantity': 33, 'buy_price': 16.3, 'date': 'None', 'image_id': '666075d15b1f07de1224813c', 'tags': ['flower'], 'is_enabled': True}\n",
      "{'_id': ObjectId('666075d15b1f07de12248141'), 'id': 'zYq3AMWqa3', 'name': 'Freesia', 'description': 'Highly fragrant flowers that are often used in bouquets, freesias come in a range of colors and are prized for their scent. Needs well-drained soil. Blooms in spring to summer.', 'sell_price': 13.3, 'quantity': 87, 'buy_price': 14.5, 'date': 'None', 'image_id': '666075d15b1f07de1224813f', 'tags': ['flower'], 'is_enabled': True}\n",
      "{'_id': ObjectId('666075d15b1f07de12248144'), 'id': 'Wl9jQDY1wS', 'name': 'Camellia', 'description': 'Glossy green leaves and beautiful, rose-like flowers make camellias a favorite in southern gardens. Needs well-drained, acidic soil. Blooms in winter to spring.', 'sell_price': 11.9, 'quantity': 72, 'buy_price': 18.9, 'date': 'None', 'image_id': '666075d15b1f07de12248142', 'tags': ['flower'], 'is_enabled': True}\n",
      "{'_id': ObjectId('666075d15b1f07de12248147'), 'id': 'fBMVMwy2D-', 'name': 'Allium', 'description': 'Known for their spherical flower heads, often purple, alliums are related to onions and garlic and add a unique touch to gardens. Needs well-drained soil. Blooms in late spring to early summer.', 'sell_price': 16.6, 'quantity': 68, 'buy_price': 17.1, 'date': 'None', 'image_id': '666075d15b1f07de12248145', 'tags': ['flower'], 'is_enabled': True}\n",
      "{'_id': ObjectId('666075d15b1f07de1224814a'), 'id': 'J5k54tgIUo', 'name': 'Amaryllis', 'description': 'Large, trumpet-shaped flowers that are often grown indoors during winter, amaryllis come in various colors. Needs well-drained soil. Blooms in winter to spring.', 'sell_price': 15.7, 'quantity': 29, 'buy_price': 17.0, 'date': 'None', 'image_id': '666075d15b1f07de12248148', 'tags': ['flower'], 'is_enabled': True}\n",
      "{'_id': ObjectId('666075d15b1f07de1224814d'), 'id': '7ipw2-n6el', 'name': 'Delphinium', 'description': 'Tall spikes of flowers that come in various shades of blue, purple, pink, and white, known for their striking height and beauty. Needs well-drained soil. Blooms in early to mid-summer.', 'sell_price': 13.4, 'quantity': 30, 'buy_price': 19.7, 'date': 'None', 'image_id': '666075d15b1f07de1224814b', 'tags': ['flower'], 'is_enabled': True}\n",
      "{'_id': ObjectId('666075d15b1f07de12248150'), 'id': 'lrwvdH2JxR', 'name': 'Columbine', 'description': 'Distinctive flowers with spurred petals, popular in cottage gardens and attracting hummingbirds. Needs well-drained soil. Blooms in spring to early summer.', 'sell_price': 9.1, 'quantity': 44, 'buy_price': 14.7, 'date': 'None', 'image_id': '666075d15b1f07de1224814e', 'tags': ['flower'], 'is_enabled': True}\n",
      "{'_id': ObjectId('666075d15b1f07de12248153'), 'id': 'iDgq32JgbD', 'name': 'Cornflower', 'description': 'Blue, star-like flowers that are often used in wildflower gardens and are known for their bright color. Needs well-drained soil. Blooms in summer.', 'sell_price': 14.2, 'quantity': 80, 'buy_price': 16.3, 'date': 'None', 'image_id': '666075d15b1f07de12248151', 'tags': ['flower'], 'is_enabled': True}\n",
      "{'_id': ObjectId('666075d15b1f07de12248156'), 'id': 'JvHD1bTkT2', 'name': 'Gazania', 'description': 'Sun-loving flowers with daisy-like blooms that close at night and in cloudy weather, available in a variety of bright colors. Needs well-drained soil. Blooms in summer.', 'sell_price': 12.9, 'quantity': 59, 'buy_price': 13.6, 'date': 'None', 'image_id': '666075d15b1f07de12248154', 'tags': ['flower'], 'is_enabled': True}\n",
      "{'_id': ObjectId('666075d15b1f07de12248159'), 'id': 'hafuP76NWY', 'name': 'Heliotrope', 'description': 'Known for their sweet vanilla-like fragrance, heliotrope flowers are clusters of small, usually purple or white blooms. Needs well-drained soil. Blooms in summer to fall.', 'sell_price': 9.8, 'quantity': 50, 'buy_price': 10.7, 'date': 'None', 'image_id': '666075d15b1f07de12248157', 'tags': ['flower'], 'is_enabled': True}\n",
      "{'_id': ObjectId('666075d15b1f07de1224815c'), 'id': 'OeDgiWB5d0', 'name': 'Impatiens', 'description': 'Popular shade-loving flowers that come in a wide range of colors, often used in hanging baskets and as bedding plants. Needs moist, well-drained soil. Blooms in spring to fall.', 'sell_price': 13.6, 'quantity': 82, 'buy_price': 17.0, 'date': 'None', 'image_id': '666075d15b1f07de1224815a', 'tags': ['flower'], 'is_enabled': True}\n",
      "{'_id': ObjectId('666075d15b1f07de1224815f'), 'id': 'rMgYwgmWs9', 'name': 'Canna', 'description': 'Large, tropical-looking flowers that add a touch of the exotic to gardens, cannas come in vibrant colors and have bold foliage. Needs well-drained soil. Blooms in summer to fall.', 'sell_price': 13.9, 'quantity': 5, 'buy_price': 19.5, 'date': 'None', 'image_id': '666075d15b1f07de1224815d', 'tags': ['flower'], 'is_enabled': True}\n",
      "{'_id': ObjectId('666075d15b1f07de12248162'), 'id': 'JH2cy8MSbn', 'name': 'Coreopsis', 'description': 'Daisy-like flowers that are known for their long blooming period and bright yellow or orange colors. Needs well-drained soil. Blooms in summer to fall.', 'sell_price': 10.7, 'quantity': 1, 'buy_price': 16.6, 'date': 'None', 'image_id': '666075d15b1f07de12248160', 'tags': ['flower'], 'is_enabled': True}\n",
      "{'_id': ObjectId('666075d15b1f07de12248165'), 'id': 'yUyax0IZdV', 'name': 'Verbena', 'description': 'Clusters of small, colorful flowers that are perfect for hanging baskets and borders, known for their long bloom period. Needs well-drained soil. Blooms in summer to fall.', 'sell_price': 12.6, 'quantity': 26, 'buy_price': 18.8, 'date': 'None', 'image_id': '666075d15b1f07de12248163', 'tags': ['flower'], 'is_enabled': True}\n",
      "{'_id': ObjectId('666075d15b1f07de12248168'), 'id': 'a-IMJ6FywW', 'name': 'Cosmos', 'description': 'Dainty, daisy-like flowers that are easy to grow and come in shades of pink, white, and orange. Needs well-drained Blooms in summer to fall.', 'sell_price': 16.8, 'quantity': 80, 'buy_price': 19.5, 'date': 'None', 'image_id': '666075d15b1f07de12248166', 'tags': ['flower'], 'is_enabled': True}\n"
     ]
    }
   ],
   "source": [
    "# Connect to the MongoDB server\n",
    "client_mongo = pymongo.MongoClient(\"mongodb://localhost:27017/\")\n",
    "\n",
    "# Select your database\n",
    "db = client_mongo[\"ecommerce-app\"]\n",
    "\n",
    "# List all collection names in the database\n",
    "collection_names = db.list_collection_names()\n",
    "\n",
    "\n",
    "collection = db['products']\n",
    "# Find all documents in the collection\n",
    "documents = collection.find()\n",
    "for x in documents:\n",
    "    print(x)\n",
    "\n",
    "\n",
    "# print(len(documents))\n",
    "\n",
    "\n"
   ]
  },
  {
   "cell_type": "code",
   "execution_count": 6,
   "metadata": {},
   "outputs": [],
   "source": [
    "db.drop_collection('products')\n",
    "for document in documents:\n",
    "    print(document)"
   ]
  },
  {
   "cell_type": "code",
   "execution_count": 135,
   "metadata": {},
   "outputs": [
    {
     "data": {
      "text/plain": [
       "qdrant_client.http.models.models.ScoredPoint"
      ]
     },
     "execution_count": 135,
     "metadata": {},
     "output_type": "execute_result"
    }
   ],
   "source": [
    "qdrant_client = QdrantClient('localhost:6333')\n",
    "results = qdrant_client.search(\n",
    "    collection_name=\"products_description\",\n",
    "    query_vector=list(model.encode('dwa', normalize_embeddings=True)),\n",
    "    limit=3,\n",
    ")\n",
    "type(results[0])"
   ]
  },
  {
   "cell_type": "code",
   "execution_count": 52,
   "metadata": {},
   "outputs": [
    {
     "data": {
      "text/plain": [
       "384"
      ]
     },
     "execution_count": 52,
     "metadata": {},
     "output_type": "execute_result"
    }
   ],
   "source": [
    "model[1].word_embedding_dimension"
   ]
  },
  {
   "cell_type": "code",
   "execution_count": 20,
   "metadata": {},
   "outputs": [
    {
     "name": "stdout",
     "output_type": "stream",
     "text": [
      "count=0\n"
     ]
    }
   ],
   "source": [
    "count = client.count(collection_name='products_description')\n",
    "\n",
    "print(count)"
   ]
  },
  {
   "cell_type": "code",
   "execution_count": 23,
   "metadata": {},
   "outputs": [
    {
     "data": {
      "text/plain": [
       "['/dwa/trzy', 'jpg']"
      ]
     },
     "execution_count": 23,
     "metadata": {},
     "output_type": "execute_result"
    }
   ],
   "source": [
    "'/dwa/trzy.jpg'.split('.')"
   ]
  }
 ],
 "metadata": {
  "kernelspec": {
   "display_name": "Chatbot",
   "language": "python",
   "name": "python3"
  },
  "language_info": {
   "codemirror_mode": {
    "name": "ipython",
    "version": 3
   },
   "file_extension": ".py",
   "mimetype": "text/x-python",
   "name": "python",
   "nbconvert_exporter": "python",
   "pygments_lexer": "ipython3",
   "version": "3.11.2"
  }
 },
 "nbformat": 4,
 "nbformat_minor": 2
}
