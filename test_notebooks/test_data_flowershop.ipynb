{
 "cells": [
  {
   "cell_type": "code",
   "execution_count": 5,
   "metadata": {},
   "outputs": [],
   "source": [
    "import pandas as pd\n",
    "import numpy as np\n",
    "import nanoid\n",
    "import pymongo\n",
    "from openai import OpenAI\n",
    "import requests\n",
    "from datetime import datetime\n",
    "\n"
   ]
  },
  {
   "cell_type": "code",
   "execution_count": 15,
   "metadata": {},
   "outputs": [],
   "source": [
    "quantites = np.random.randint(1,100,size=48)\n",
    "prices_buy = np.random.randint(1,2,size=48)*10 + np.random.randint(0,10,size=48) + np.random.randint(0,10,size=48)*0.1\n",
    "prices_sale = prices_buy - np.random.randint(0,10,size=48) + np.random.randint(0,10,size=48)*0.1\n"
   ]
  },
  {
   "cell_type": "code",
   "execution_count": 18,
   "metadata": {},
   "outputs": [],
   "source": [
    "data = pd.read_csv('data/flowershopdata.csv')\n",
    "data['Description'] = data[['Description', 'Needs','Season']].apply(lambda x: ' '.join(x.dropna().astype(str)), axis=1)\n",
    "data['Buy_price'] = prices_buy\n",
    "data['Sale_price'] = np.round(prices_sale,2)\n",
    "data['Quantities'] = quantites\n",
    "jpg_paths = [f\"init_data/products/img_flowers/{flower.lower()}.jpg\" for flower in data['Name']]\n",
    "data['pic_path'] = jpg_paths\n",
    "data['id'] = [nanoid.generate(size=10) for x in range(48)]\n",
    "data['date'] =[datetime.now().strftime(\"%d-%m-%Y %H:%M:%S\") for x in range(48)]\n",
    "data['tags'] = ['flower' for x in range(48)]\n",
    "data.drop(columns=['Needs','Season'],inplace=True)"
   ]
  },
  {
   "cell_type": "code",
   "execution_count": 19,
   "metadata": {},
   "outputs": [],
   "source": [
    "data.to_csv('data/flowershopdata_clean.csv')"
   ]
  },
  {
   "cell_type": "code",
   "execution_count": 46,
   "metadata": {},
   "outputs": [],
   "source": [
    "import os\n",
    "import requests\n",
    "from bs4 import BeautifulSoup\n",
    "from PIL import Image\n",
    "from io import BytesIO\n",
    "from selenium import webdriver\n",
    "from selenium.webdriver.common.by import By\n",
    "import time\n",
    "\n",
    "def fetch_first_image_url(query):\n",
    "    options = webdriver.SafariOptions()\n",
    "    driver = webdriver.Safari(options=options)\n",
    "\n",
    "    search_url = f\"https://pl.pinterest.com/search/pins/?q={query}%20flower&rs=typed\"\n",
    "    driver.get(search_url)\n",
    "\n",
    "    time.sleep(2)\n",
    "    image_elements = driver.find_elements(By.CSS_SELECTOR, 'img')\n",
    "\n",
    "    if len(image_elements) >= 10:\n",
    "        # Get the URL of the 10th image\n",
    "        image_element = image_elements[9]  # Index 9 corresponds to the 10th image (0-based index)\n",
    "        image_url = image_element.get_attribute('src')\n",
    "    else:\n",
    "        print(\"Not enough images found on the page\")\n",
    "        image_url = None\n",
    "\n",
    "    driver.quit()\n",
    "    return image_url\n",
    "\n",
    "def save_image_from_url(url, directory, filename):\n",
    "    response = requests.get(url)\n",
    "    image = Image.open(BytesIO(response.content))\n",
    "    image_path = os.path.join(directory, filename)\n",
    "    image.save(image_path)\n",
    "    print(f\"Image saved to {image_path}\")\n",
    "\n"
   ]
  },
  {
   "cell_type": "code",
   "execution_count": 6,
   "metadata": {},
   "outputs": [],
   "source": [
    "import nanoid\n",
    "def create_product(product_data):\n",
    "    base_url = \"http://127.0.0.1:8000\"\n",
    "    response = requests.post(f\"{base_url}/products/\", json=product_data)\n",
    "    print(response.json())"
   ]
  },
  {
   "cell_type": "code",
   "execution_count": 7,
   "metadata": {},
   "outputs": [],
   "source": [
    "data = pd.read_csv('data/flowershopdata_clean.csv').drop(columns=['Unnamed: 0'])\n",
    "\n"
   ]
  },
  {
   "cell_type": "code",
   "execution_count": 40,
   "metadata": {},
   "outputs": [
    {
     "name": "stdout",
     "output_type": "stream",
     "text": [
      "[]\n"
     ]
    }
   ],
   "source": [
    "client = QdrantClient(url=\"http://127.0.0.1:6333\")\n",
    "names = [item.name for item in client.get_collections().collections]\n",
    "print(names)"
   ]
  },
  {
   "cell_type": "code",
   "execution_count": 32,
   "metadata": {},
   "outputs": [],
   "source": [
    "# from sentence_transformers import SentenceTransformer, util\n",
    "from qdrant_client import QdrantClient, AsyncQdrantClient\n",
    "from qdrant_client.models import Distance, VectorParams\n",
    "from qdrant_client.models import PointStruct\n",
    "\n",
    "# model = SentenceTransformer('intfloat/e5-small-v2')\n",
    "vec_len = 384\n",
    "client = QdrantClient(url=\"http://127.0.0.1:6333\")\n",
    "names = [item.name for item in client.get_collections().collections]\n",
    "if 'products_description' not in names:\n",
    "    client.create_collection(\n",
    "        collection_name=\"products_description\",\n",
    "        vectors_config=VectorParams(size=vec_len, distance=Distance.COSINE),)\n",
    "else:\n",
    "    print('Collection exits')\n"
   ]
  },
  {
   "cell_type": "code",
   "execution_count": 39,
   "metadata": {},
   "outputs": [
    {
     "data": {
      "text/plain": [
       "False"
      ]
     },
     "execution_count": 39,
     "metadata": {},
     "output_type": "execute_result"
    }
   ],
   "source": [
    "client.delete_collection(\"products_description\")"
   ]
  },
  {
   "cell_type": "code",
   "execution_count": 8,
   "metadata": {},
   "outputs": [],
   "source": [
    "points = [PointStruct(id=index, \n",
    "                      vector=model.encode(item['Description'], normalize_embeddings=True), \n",
    "                      payload={\"Id\": item['id'],\n",
    "                               \"Name\": item['Name'],\n",
    "                               \"Description\":item['Description']}) for index,item in data.iterrows()]\n"
   ]
  },
  {
   "cell_type": "code",
   "execution_count": 215,
   "metadata": {},
   "outputs": [
    {
     "name": "stdout",
     "output_type": "stream",
     "text": [
      "operation_id=0 status=<UpdateStatus.COMPLETED: 'completed'>\n"
     ]
    }
   ],
   "source": [
    "operation_info = client.upsert(\n",
    "    collection_name=\"products_description\",\n",
    "    wait=True,\n",
    "    points=points,\n",
    ")\n",
    "\n",
    "print(operation_info)"
   ]
  },
  {
   "cell_type": "code",
   "execution_count": 3,
   "metadata": {},
   "outputs": [],
   "source": [
    "from pymongo import MongoClient\n",
    "from openai import OpenAI\n",
    "from typing import List\n",
    "# from sentence_transformers import SentenceTransformer\n",
    "from qdrant_client import AsyncQdrantClient, models\n"
   ]
  },
  {
   "cell_type": "code",
   "execution_count": 88,
   "metadata": {},
   "outputs": [],
   "source": [
    "question = \"I would like white flower that needs acidic soil\"\n",
    "# model = SentenceTransformer(\"intfloat/e5-small-v2\")\n",
    "bot = {\n",
    "    \"mongo_client\": MongoClient(\"mongodb://localhost:27017/\"),\n",
    "    \"qdrant_client\": QdrantClient(\"http://localhost:6333\"),\n",
    "    \"openai_client\":  OpenAI(api_key=\"sk-proj-8j1NyU5gvA4njucbGG3uT3BlbkFJxBLHcRn4z7futfYb4sgb\")\n",
    "},"
   ]
  },
  {
   "cell_type": "code",
   "execution_count": 42,
   "metadata": {},
   "outputs": [],
   "source": [
    "client = AsyncQdrantClient(\"http://localhost:6333\")"
   ]
  },
  {
   "cell_type": "code",
   "execution_count": 68,
   "metadata": {},
   "outputs": [
    {
     "data": {
      "text/plain": [
       "[-0.07306243,\n",
       " 0.026809188,\n",
       " 0.017532839,\n",
       " 0.027319789,\n",
       " 0.016868953,\n",
       " -0.014223786,\n",
       " 0.100838155,\n",
       " -0.040248465,\n",
       " -0.008592019,\n",
       " 0.050778165,\n",
       " 0.033833582,\n",
       " -0.035047084,\n",
       " -0.050870217,\n",
       " 0.058055907,\n",
       " 0.02894813,\n",
       " -0.0115545485,\n",
       " -0.034937903,\n",
       " 0.039293673,\n",
       " -0.09408304,\n",
       " 0.06397073,\n",
       " 0.106469914,\n",
       " -0.046439257,\n",
       " -0.00390669,\n",
       " -0.06518312,\n",
       " -0.04733827,\n",
       " -0.0125166215,\n",
       " 0.060824092,\n",
       " 0.05743405,\n",
       " -0.072144106,\n",
       " -0.1348871,\n",
       " -0.048684217,\n",
       " 0.04071604,\n",
       " -0.004059148,\n",
       " -0.03329434,\n",
       " 0.061386973,\n",
       " -0.0427294,\n",
       " -0.022997458,\n",
       " 0.053379614,\n",
       " 0.013719811,\n",
       " 0.057668895,\n",
       " -0.048779767,\n",
       " -0.07621413,\n",
       " 0.030835312,\n",
       " -0.0139691755,\n",
       " -0.009902468,\n",
       " 0.011785127,\n",
       " -0.04697574,\n",
       " -0.020275576,\n",
       " 0.06230306,\n",
       " 0.013810104,\n",
       " -0.041896723,\n",
       " -0.02136755,\n",
       " 0.035126023,\n",
       " 0.07269824,\n",
       " 0.049637813,\n",
       " 0.02645026,\n",
       " 0.07165351,\n",
       " 0.047983,\n",
       " 0.07585909,\n",
       " 0.068684965,\n",
       " 0.007475001,\n",
       " 0.046368644,\n",
       " -0.11471148,\n",
       " 0.102662764,\n",
       " 0.06443425,\n",
       " 0.010704596,\n",
       " -0.035223093,\n",
       " 0.031429857,\n",
       " -0.03455726,\n",
       " -0.03295307,\n",
       " -0.021002546,\n",
       " 0.052922316,\n",
       " -0.04281531,\n",
       " 0.013980735,\n",
       " -0.06656811,\n",
       " 0.055139486,\n",
       " -0.0047452743,\n",
       " 0.038408417,\n",
       " -0.049002968,\n",
       " -0.026218304,\n",
       " -0.040189866,\n",
       " -0.033998534,\n",
       " -0.028785858,\n",
       " 0.09073876,\n",
       " 0.0043963376,\n",
       " 0.0060159937,\n",
       " 0.023017535,\n",
       " -0.010654357,\n",
       " -0.054095052,\n",
       " -0.05688087,\n",
       " -0.028145755,\n",
       " -0.05662724,\n",
       " -0.0019005657,\n",
       " -0.016923938,\n",
       " -0.07753117,\n",
       " 0.00064867537,\n",
       " 0.07836924,\n",
       " -0.016955018,\n",
       " -0.037311457,\n",
       " 0.09635798,\n",
       " 0.039608914,\n",
       " -0.021452613,\n",
       " -0.024078652,\n",
       " -0.042821817,\n",
       " -0.04670987,\n",
       " -0.05229223,\n",
       " -2.1286705e-05,\n",
       " 0.0005036215,\n",
       " 0.045920152,\n",
       " -0.019572359,\n",
       " -0.012176886,\n",
       " -0.027229939,\n",
       " -0.009662286,\n",
       " -0.031863894,\n",
       " 0.053116165,\n",
       " 0.03080105,\n",
       " -0.049577493,\n",
       " -0.05799922,\n",
       " -0.028438745,\n",
       " 0.07326708,\n",
       " 0.030660018,\n",
       " 0.050056543,\n",
       " -0.037565596,\n",
       " -0.07151052,\n",
       " 0.11279336,\n",
       " -0.06794194,\n",
       " 0.033122662,\n",
       " 0.09116984,\n",
       " 0.06806227,\n",
       " -0.013856983,\n",
       " 0.057681724,\n",
       " 0.012309428,\n",
       " 0.03825685,\n",
       " -0.0033907113,\n",
       " -0.06694251,\n",
       " 0.0029005965,\n",
       " -0.032865178,\n",
       " 0.021374855,\n",
       " 0.006553116,\n",
       " -0.023446027,\n",
       " -0.019594135,\n",
       " -0.091262616,\n",
       " -0.08855382,\n",
       " -0.09746656,\n",
       " -0.0019012936,\n",
       " 0.038749114,\n",
       " -0.12100896,\n",
       " 0.0782902,\n",
       " -0.056685653,\n",
       " -0.064724125,\n",
       " -0.08067286,\n",
       " -0.04816534,\n",
       " 0.04086553,\n",
       " -0.03894728,\n",
       " -0.052835155,\n",
       " 0.005892833,\n",
       " -0.003631371,\n",
       " 0.048419215,\n",
       " 0.0038481976,\n",
       " -0.025384517,\n",
       " -0.021783356,\n",
       " 0.009831489,\n",
       " 0.027383396,\n",
       " 0.07721813,\n",
       " 0.0021442284,\n",
       " -0.122898914,\n",
       " 0.040194754,\n",
       " -0.03014762,\n",
       " 0.06278436,\n",
       " 0.014056132,\n",
       " -0.014848087,\n",
       " 0.027352048,\n",
       " 0.070910305,\n",
       " -0.014571926,\n",
       " 0.073933,\n",
       " -0.0029050212,\n",
       " -0.034183435,\n",
       " -0.028515602,\n",
       " 0.07650544,\n",
       " -0.033242013,\n",
       " 0.06576812,\n",
       " -0.032509618,\n",
       " -0.010580793,\n",
       " 0.07949769,\n",
       " 0.074142486,\n",
       " -0.06696256,\n",
       " -0.058052123,\n",
       " -0.0848628,\n",
       " -0.009913794,\n",
       " 0.036163185,\n",
       " -0.049216554,\n",
       " -0.015497377,\n",
       " -0.026147721,\n",
       " 0.046782497,\n",
       " 0.028917987,\n",
       " 0.032264568,\n",
       " -0.056631766,\n",
       " -0.018408181,\n",
       " 0.0002224962,\n",
       " -0.034488216,\n",
       " 0.058405314,\n",
       " 0.06839698,\n",
       " 0.0066760858,\n",
       " 0.03140586,\n",
       " 0.004923004,\n",
       " 0.067279875,\n",
       " 0.009541926,\n",
       " 0.0017689009,\n",
       " -0.07297752,\n",
       " -0.0642329,\n",
       " -0.056619257,\n",
       " 0.00894264,\n",
       " -0.046379417,\n",
       " -0.04145955,\n",
       " -0.021883082,\n",
       " -0.0064867423,\n",
       " 0.030230237,\n",
       " 0.008330159,\n",
       " 0.04974681,\n",
       " 0.03219086,\n",
       " 0.04198254,\n",
       " -0.11779102,\n",
       " -0.08104368,\n",
       " -0.13407904,\n",
       " -0.013819504,\n",
       " -0.048564516,\n",
       " -0.02704194,\n",
       " 0.09672309,\n",
       " -0.0214617,\n",
       " -0.075262986,\n",
       " 0.035881277,\n",
       " -0.011323146,\n",
       " 0.030845128,\n",
       " 0.07946952,\n",
       " 0.0018152812,\n",
       " 0.012155814,\n",
       " -0.003280931,\n",
       " -0.0074389665,\n",
       " 0.07292793,\n",
       " 0.012871333,\n",
       " -0.0014946132,\n",
       " 0.04182721,\n",
       " -0.033447847,\n",
       " 0.011923332,\n",
       " -0.09061145,\n",
       " -0.025319887,\n",
       " -0.046357997,\n",
       " -0.0036168124,\n",
       " 0.007211708,\n",
       " 0.10914793,\n",
       " 0.055269025,\n",
       " 0.0073384237,\n",
       " -0.036426153,\n",
       " -0.0017521736,\n",
       " 0.034409974,\n",
       " -0.022494592,\n",
       " -0.09613602,\n",
       " 0.026822504,\n",
       " -0.038900822,\n",
       " 0.009062141,\n",
       " -0.0035450684,\n",
       " -0.040919207,\n",
       " -0.04835086,\n",
       " 0.11831383,\n",
       " 0.010364021,\n",
       " -0.021749655,\n",
       " -0.018394902,\n",
       " 0.10956775,\n",
       " -0.04922179,\n",
       " -0.0051010703,\n",
       " 0.0122652715,\n",
       " 0.05018098,\n",
       " -0.02770544,\n",
       " 0.045351535,\n",
       " -0.06556956,\n",
       " 0.11283802,\n",
       " -0.0064749215,\n",
       " 0.0043956847,\n",
       " -0.043156657,\n",
       " -0.071272664,\n",
       " 0.07827221,\n",
       " -0.07427424,\n",
       " -0.021214258,\n",
       " -0.042629756,\n",
       " -0.024566166,\n",
       " 0.08991176,\n",
       " 0.008256173,\n",
       " 0.010565302,\n",
       " 0.000766556,\n",
       " -0.009734781,\n",
       " -0.048325468,\n",
       " -0.021502437,\n",
       " -0.06946375,\n",
       " -0.004622978,\n",
       " 0.05455363,\n",
       " -0.030831378,\n",
       " 0.035938583,\n",
       " 0.101615585,\n",
       " 0.0320272,\n",
       " 0.04549612,\n",
       " -0.038438514,\n",
       " -0.04110538,\n",
       " 0.003322475,\n",
       " -0.015397469,\n",
       " -0.099727556,\n",
       " 0.06747692,\n",
       " 0.031583082,\n",
       " 0.07128957,\n",
       " 0.022866556,\n",
       " -0.066259965,\n",
       " -0.04457798,\n",
       " 0.026592646,\n",
       " -0.017820442,\n",
       " 0.019637167,\n",
       " -0.020993382,\n",
       " 0.05851784,\n",
       " 0.044635814,\n",
       " -0.0039190957,\n",
       " -0.040177166,\n",
       " -0.13817377,\n",
       " -0.03392739,\n",
       " 0.038843416,\n",
       " 0.011294168,\n",
       " -0.0029348643,\n",
       " 0.019946888,\n",
       " 0.011791752,\n",
       " 0.008344082,\n",
       " 0.0021644004,\n",
       " -0.05301123,\n",
       " 0.04299213,\n",
       " 0.018702108,\n",
       " 0.091551304,\n",
       " -0.04447007,\n",
       " -0.018836375,\n",
       " 0.017910352,\n",
       " 0.092344284,\n",
       " -0.015064135,\n",
       " 0.001443666,\n",
       " -0.086035684,\n",
       " -0.003000032,\n",
       " -0.02406149,\n",
       " 0.09759367,\n",
       " 0.0396408,\n",
       " -0.026642557,\n",
       " 0.030015215,\n",
       " 0.037412252,\n",
       " 0.03014384,\n",
       " -0.054521862,\n",
       " 0.06506247,\n",
       " -0.015139623,\n",
       " -0.02960574,\n",
       " 0.14575823,\n",
       " -0.018092867,\n",
       " 0.084319964,\n",
       " 0.06829496,\n",
       " 0.018978728,\n",
       " 0.008166374,\n",
       " 0.06087601,\n",
       " -0.031763166,\n",
       " 0.033305343,\n",
       " 0.0588043,\n",
       " -0.02778578,\n",
       " -0.0050622197,\n",
       " 0.12400255,\n",
       " -0.040006474,\n",
       " -0.069708526,\n",
       " -0.005182318,\n",
       " 0.019593474,\n",
       " -0.029983498,\n",
       " -0.05694999,\n",
       " -0.03905214,\n",
       " 0.07611139,\n",
       " 0.016302463,\n",
       " 0.009555893,\n",
       " -0.034020577,\n",
       " -0.08965704,\n",
       " 0.00012786716,\n",
       " -0.026218738,\n",
       " -0.10019686,\n",
       " 0.006826181,\n",
       " -0.08017953,\n",
       " 0.03746397,\n",
       " 0.0016048995,\n",
       " 0.0076350705]"
      ]
     },
     "execution_count": 68,
     "metadata": {},
     "output_type": "execute_result"
    }
   ],
   "source": [
    "sad = await client.scroll(\n",
    "    collection_name =\"products_description\",\n",
    "    scroll_filter = models.Filter(\n",
    "        must = [models.FieldCondition(\n",
    "            key='Name',\n",
    "            match =models.MatchValue(\n",
    "                value= 'Bloodroot'))\n",
    "                ]\n",
    "    ),\n",
    "    with_vectors = True\n",
    ")\n",
    "\n",
    "sad[0][0].vector"
   ]
  },
  {
   "cell_type": "code",
   "execution_count": 66,
   "metadata": {},
   "outputs": [
    {
     "data": {
      "text/plain": [
       "Record(id=6, payload={'Description': 'Named for its red colored sap that flows from cut stems, bloodroot flowers are white with a bright yellow center. Needs well-drained soil. Blooms in early spring.', 'Id': 'AtfxNCsTNK', 'Name': 'Bloodroot'}, vector=None, shard_key=None)"
      ]
     },
     "execution_count": 66,
     "metadata": {},
     "output_type": "execute_result"
    }
   ],
   "source": [
    "sad[0][0]"
   ]
  },
  {
   "cell_type": "code",
   "execution_count": 59,
   "metadata": {},
   "outputs": [],
   "source": [
    "a = Product(**sad[0][0].payload)"
   ]
  },
  {
   "cell_type": "code",
   "execution_count": 63,
   "metadata": {},
   "outputs": [
    {
     "ename": "TypeError",
     "evalue": "BaseModel.__init__() takes 1 positional argument but 2 were given",
     "output_type": "error",
     "traceback": [
      "\u001b[0;31m---------------------------------------------------------------------------\u001b[0m",
      "\u001b[0;31mTypeError\u001b[0m                                 Traceback (most recent call last)",
      "Cell \u001b[0;32mIn[63], line 1\u001b[0m\n\u001b[0;32m----> 1\u001b[0m \u001b[43mVecProduct\u001b[49m\u001b[43m(\u001b[49m\u001b[38;5;241;43m2\u001b[39;49m\u001b[43m)\u001b[49m\n",
      "\u001b[0;31mTypeError\u001b[0m: BaseModel.__init__() takes 1 positional argument but 2 were given"
     ]
    }
   ],
   "source": [
    "VecProduct()"
   ]
  },
  {
   "cell_type": "code",
   "execution_count": 71,
   "metadata": {},
   "outputs": [],
   "source": [
    "sad = await client.delete_collection(\n",
    "    collection_name =\"products_description\"\n",
    ")"
   ]
  },
  {
   "cell_type": "code",
   "execution_count": null,
   "metadata": {},
   "outputs": [],
   "source": []
  },
  {
   "cell_type": "code",
   "execution_count": 78,
   "metadata": {},
   "outputs": [
    {
     "data": {
      "text/plain": [
       "{'detail': 'Vector DB error'}"
      ]
     },
     "execution_count": 78,
     "metadata": {},
     "output_type": "execute_result"
    }
   ],
   "source": [
    "requests.post(\"http://127.0.0.1:8000/products/vec_search/\", json={'question': 'Red flower'}).json()\n"
   ]
  },
  {
   "cell_type": "code",
   "execution_count": 77,
   "metadata": {},
   "outputs": [
    {
     "data": {
      "text/plain": [
       "0"
      ]
     },
     "execution_count": 77,
     "metadata": {},
     "output_type": "execute_result"
    }
   ],
   "source": [
    "count = await client.count(collection_name=\"products_description\")\n",
    "count.count"
   ]
  },
  {
   "cell_type": "code",
   "execution_count": 47,
   "metadata": {},
   "outputs": [
    {
     "name": "stdout",
     "output_type": "stream",
     "text": [
      "{'_id': ObjectId('6660a491e6f5fdc838303e16'), 'id': '_ihvY2cxEF', 'name': 'Periwinkle', 'description': 'Perfect as a ground cover, the flowers resemble small, delicate stars and are often found in shades of blue, purple, and white. Needs droughty. Blooms in mid-spring to mid-fall.', 'sell_price': 8.1, 'quantity': 40, 'buy_price': 12.2, 'date': 'None', 'image_id': '6660a491e6f5fdc838303e14', 'tags': ['flower'], 'is_enabled': True}\n",
      "{'_id': ObjectId('6660a491e6f5fdc838303e19'), 'id': 'X8tcuAiPKf', 'name': 'Bellflower', 'description': 'Known for their resemblance to bells, these flowers come in shades of blue, purple, pink, and white and add a whimsical touch to any garden. Needs well-drained soil. Blooms in early summer to early fall.', 'sell_price': 13.1, 'quantity': 67, 'buy_price': 13.7, 'date': 'None', 'image_id': '6660a491e6f5fdc838303e17', 'tags': ['flower'], 'is_enabled': True}\n",
      "{'_id': ObjectId('6660a491e6f5fdc838303e1c'), 'id': 'J7hVRECgEm', 'name': 'Lily', 'description': 'A highly recognized flower which has bright colors and a distinct fragrance, lilies are often associated with purity and refined beauty. Needs well-drained soil. Blooms in spring to early fall.', 'sell_price': 10.5, 'quantity': 41, 'buy_price': 15.3, 'date': 'None', 'image_id': '6660a491e6f5fdc838303e1a', 'tags': ['flower'], 'is_enabled': True}\n",
      "{'_id': ObjectId('6660a492e6f5fdc838303e1f'), 'id': '0GUxcnNKTr', 'name': 'Tulip', 'description': 'Great as a cut flower, they come in every color of the rainbow and are symbolic of spring and renewal. Needs well-drained soil. Blooms in spring.', 'sell_price': 5.7, 'quantity': 67, 'buy_price': 14.0, 'date': 'None', 'image_id': '6660a491e6f5fdc838303e1d', 'tags': ['flower'], 'is_enabled': True}\n",
      "{'_id': ObjectId('6660a492e6f5fdc838303e22'), 'id': 'WOuYvLGP7w', 'name': 'Rose', 'description': 'Over 100 species of rose exist along with almost countless cultivars, known for their beauty and fragrance, often symbols of love and admiration. Needs well-drained soil. Blooms in late spring to early fall.', 'sell_price': 10.3, 'quantity': 36, 'buy_price': 18.5, 'date': 'None', 'image_id': '6660a492e6f5fdc838303e20', 'tags': ['flower'], 'is_enabled': True}\n",
      "{'_id': ObjectId('6660a492e6f5fdc838303e25'), 'id': 'IA35bodmUU', 'name': 'Zinnia', 'description': 'Large blooms in vibrant colors that attract butterflies, zinnias are popular for their long-lasting flowers and ease of growth. Needs well-drained soil. Blooms in mid-summer to mid-fall.', 'sell_price': 12.9, 'quantity': 2, 'buy_price': 17.4, 'date': 'None', 'image_id': '6660a492e6f5fdc838303e23', 'tags': ['flower'], 'is_enabled': True}\n",
      "{'_id': ObjectId('6660a492e6f5fdc838303e28'), 'id': 'AtfxNCsTNK', 'name': 'Bloodroot', 'description': 'Named for its red colored sap that flows from cut stems, bloodroot flowers are white with a bright yellow center. Needs well-drained soil. Blooms in early spring.', 'sell_price': 11.9, 'quantity': 70, 'buy_price': 19.1, 'date': 'None', 'image_id': '6660a492e6f5fdc838303e26', 'tags': ['flower'], 'is_enabled': True}\n",
      "{'_id': ObjectId('6660a492e6f5fdc838303e2b'), 'id': '00Z8IjaDD3', 'name': 'Violet', 'description': 'A common house plant, they come in many colors and are known for their delicate, heart-shaped leaves and small blooms. Needs well-drained soil. Blooms in early spring to early fall.', 'sell_price': 4.3, 'quantity': 11, 'buy_price': 12.8, 'date': 'None', 'image_id': '6660a492e6f5fdc838303e29', 'tags': ['flower'], 'is_enabled': True}\n",
      "{'_id': ObjectId('6660a492e6f5fdc838303e2e'), 'id': 'WHJg9afebE', 'name': 'Daffodil', 'description': 'Known for their trumpet-like flowers and bright yellow petals, daffodils are a harbinger of spring. Needs well-drained soil. Blooms in early spring.', 'sell_price': 3.7, 'quantity': 49, 'buy_price': 12.4, 'date': 'None', 'image_id': '6660a492e6f5fdc838303e2c', 'tags': ['flower'], 'is_enabled': True}\n",
      "{'_id': ObjectId('6660a492e6f5fdc838303e31'), 'id': 'CgsU6O-TeU', 'name': 'Marigold', 'description': 'Popular for their vibrant orange and yellow blooms, marigolds are easy to grow and can help repel garden pests. Needs full sun. Blooms in summer to fall.', 'sell_price': 14.9, 'quantity': 48, 'buy_price': 15.1, 'date': 'None', 'image_id': '6660a492e6f5fdc838303e2f', 'tags': ['flower'], 'is_enabled': True}\n",
      "{'_id': ObjectId('6660a492e6f5fdc838303e34'), 'id': 'zVFa1VsDLp', 'name': 'Hydrangea', 'description': 'Large flower heads and a variety of colors, usually blue, pink, or white, hydrangeas are beloved in garden landscapes. Needs moist soil. Blooms in late spring to summer.', 'sell_price': 9.2, 'quantity': 5, 'buy_price': 17.3, 'date': 'None', 'image_id': '6660a492e6f5fdc838303e32', 'tags': ['flower'], 'is_enabled': True}\n",
      "{'_id': ObjectId('6660a492e6f5fdc838303e37'), 'id': 'UKoQtfX4un', 'name': 'Lavender', 'description': 'Famous for its fragrance, often used in oils and sachets, lavender is also known for its beautiful purple flowers. Needs well-drained soil. Blooms in late spring to early summer.', 'sell_price': 9.5, 'quantity': 27, 'buy_price': 13.2, 'date': 'None', 'image_id': '6660a492e6f5fdc838303e35', 'tags': ['flower'], 'is_enabled': True}\n",
      "{'_id': ObjectId('6660a492e6f5fdc838303e3a'), 'id': 'o_gtwodUHF', 'name': 'Peony', 'description': 'Known for their large, often fragrant blooms, peonies are a garden favorite and come in a variety of colors. Needs rich, well-drained soil. Blooms in late spring to early summer.', 'sell_price': 11.2, 'quantity': 94, 'buy_price': 12.9, 'date': 'None', 'image_id': '6660a492e6f5fdc838303e38', 'tags': ['flower'], 'is_enabled': True}\n",
      "{'_id': ObjectId('6660a492e6f5fdc838303e3d'), 'id': '9cQPkJ5fnG', 'name': 'Daisy', 'description': 'Simple and charming, daisies are a symbol of innocence and purity, recognized by their white petals and yellow centers. Needs well-drained soil. Blooms in spring to autumn.', 'sell_price': 8.6, 'quantity': 93, 'buy_price': 16.0, 'date': 'None', 'image_id': '6660a492e6f5fdc838303e3b', 'tags': ['flower'], 'is_enabled': True}\n",
      "{'_id': ObjectId('6660a492e6f5fdc838303e40'), 'id': '3jMpIejkr7', 'name': 'Chrysanthemum', 'description': 'Known as mums, these flowers come in a variety of colors and are popular in fall gardens for their vibrant blooms. Needs well-drained soil. Blooms in late summer to fall.', 'sell_price': 14.4, 'quantity': 77, 'buy_price': 15.7, 'date': 'None', 'image_id': '6660a492e6f5fdc838303e3e', 'tags': ['flower'], 'is_enabled': True}\n",
      "{'_id': ObjectId('6660a492e6f5fdc838303e43'), 'id': '-lhzFPNmw3', 'name': 'Aster', 'description': 'Star-shaped flowers that come in many colors, asters are a great addition to any garden and attract pollinators. Needs well-drained soil. Blooms in late summer to fall.', 'sell_price': 5.9, 'quantity': 85, 'buy_price': 13.0, 'date': 'None', 'image_id': '6660a492e6f5fdc838303e41', 'tags': ['flower'], 'is_enabled': True}\n",
      "{'_id': ObjectId('6660a492e6f5fdc838303e46'), 'id': 'fnT6pXzKP0', 'name': 'Iris', 'description': 'Distinctive flowers with unique petal arrangements and a wide range of colors, irises are named after the Greek goddess of the rainbow. Needs well-drained soil. Blooms in late spring to early summer.', 'sell_price': 9.8, 'quantity': 24, 'buy_price': 12.9, 'date': 'None', 'image_id': '6660a492e6f5fdc838303e44', 'tags': ['flower'], 'is_enabled': True}\n",
      "{'_id': ObjectId('6660a492e6f5fdc838303e49'), 'id': 'R746hjRC8R', 'name': 'Sunflower', 'description': 'Tall and bright, they follow the sun across the sky and are known for their large, cheerful blooms. Needs full sun. Blooms in summer.', 'sell_price': 9.4, 'quantity': 56, 'buy_price': 12.2, 'date': 'None', 'image_id': '6660a492e6f5fdc838303e47', 'tags': ['flower'], 'is_enabled': True}\n",
      "{'_id': ObjectId('6660a492e6f5fdc838303e4c'), 'id': '_E-ZKGwRlt', 'name': 'Orchid', 'description': 'Exotic flowers with intricate patterns, often grown as houseplants, orchids come in many varieties and colors. Needs well-drained, humid soil. Blooms throughout the year.', 'sell_price': 14.1, 'quantity': 17, 'buy_price': 17.6, 'date': 'None', 'image_id': '6660a492e6f5fdc838303e4a', 'tags': ['flower'], 'is_enabled': True}\n",
      "{'_id': ObjectId('6660a492e6f5fdc838303e4f'), 'id': 'G_IiU9GZQc', 'name': 'Begonia', 'description': 'Popular in gardens and as houseplants, they come in a variety of colors and forms, known for their vibrant blooms and foliage. Needs moist, well-drained soil. Blooms in summer.', 'sell_price': 3.4, 'quantity': 41, 'buy_price': 10.1, 'date': 'None', 'image_id': '6660a492e6f5fdc838303e4d', 'tags': ['flower'], 'is_enabled': True}\n",
      "{'_id': ObjectId('6660a492e6f5fdc838303e52'), 'id': 'sF4-20cYQc', 'name': 'Forsythia', 'description': 'Early blooming shrub with bright yellow flowers that herald the arrival of spring. Needs well-drained soil. Blooms in early spring.', 'sell_price': 7.0, 'quantity': 80, 'buy_price': 15.1, 'date': 'None', 'image_id': '6660a492e6f5fdc838303e50', 'tags': ['flower'], 'is_enabled': True}\n",
      "{'_id': ObjectId('6660a492e6f5fdc838303e55'), 'id': 'CS9fWn1prj', 'name': 'Heather', 'description': 'Small, bell-shaped flowers, often used as ground cover and in rock gardens, known for their resilience and beauty. Needs acidic soil. Blooms in late summer to fall.', 'sell_price': 7.7, 'quantity': 89, 'buy_price': 11.4, 'date': 'None', 'image_id': '6660a492e6f5fdc838303e53', 'tags': ['flower'], 'is_enabled': True}\n",
      "{'_id': ObjectId('6660a492e6f5fdc838303e58'), 'id': 'S-eaVUdShM', 'name': 'Jasmine', 'description': 'Known for their sweet fragrance, often used in perfumes and teas, jasmine flowers are small and usually white or yellow. Needs well-drained soil. Blooms in summer.', 'sell_price': 12.9, 'quantity': 17, 'buy_price': 16.7, 'date': 'None', 'image_id': '6660a492e6f5fdc838303e56', 'tags': ['flower'], 'is_enabled': True}\n",
      "{'_id': ObjectId('6660a492e6f5fdc838303e5b'), 'id': 'azMUK48QID', 'name': 'Azalea', 'description': 'Known for their vibrant blooms and use in bonsai, azaleas are a type of rhododendron with a wide range of colors. Needs acidic, well-drained soil. Blooms in spring.', 'sell_price': 14.4, 'quantity': 87, 'buy_price': 16.4, 'date': 'None', 'image_id': '6660a492e6f5fdc838303e59', 'tags': ['flower'], 'is_enabled': True}\n",
      "{'_id': ObjectId('6660a492e6f5fdc838303e5e'), 'id': 'CiXDjEv0vN', 'name': 'Rhododendron', 'description': 'Large clusters of blooms, often used in landscaping for their showy flowers and evergreen foliage. Needs acidic soil. Blooms in spring.', 'sell_price': 10.8, 'quantity': 82, 'buy_price': 18.7, 'date': 'None', 'image_id': '6660a492e6f5fdc838303e5c', 'tags': ['flower'], 'is_enabled': True}\n",
      "{'_id': ObjectId('6660a492e6f5fdc838303e61'), 'id': 'rV7Pw3purQ', 'name': 'Geranium', 'description': 'Popular in window boxes and gardens, they come in many colors and are known for their long blooming season and easy care. Needs well-drained soil. Blooms in spring to fall.', 'sell_price': 11.3, 'quantity': 70, 'buy_price': 11.7, 'date': 'None', 'image_id': '6660a492e6f5fdc838303e5f', 'tags': ['flower'], 'is_enabled': True}\n",
      "{'_id': ObjectId('6660a493e6f5fdc838303e64'), 'id': 'P45PakP_Xs', 'name': 'Lobelia', 'description': 'Small, vibrant blue flowers often used in borders and containers, known for their intense color. Needs well-drained soil. Blooms in summer.', 'sell_price': 16.0, 'quantity': 6, 'buy_price': 17.5, 'date': 'None', 'image_id': '6660a493e6f5fdc838303e62', 'tags': ['flower'], 'is_enabled': True}\n",
      "{'_id': ObjectId('6660a493e6f5fdc838303e67'), 'id': 'A7y3--teGu', 'name': 'Snapdragon', 'description': 'Tall spikes of flowers that resemble a dragon’s mouth when squeezed, available in a wide range of colors. Needs well-drained soil. Blooms in spring to fall.', 'sell_price': 12.9, 'quantity': 22, 'buy_price': 17.6, 'date': 'None', 'image_id': '6660a493e6f5fdc838303e65', 'tags': ['flower'], 'is_enabled': True}\n",
      "{'_id': ObjectId('6660a493e6f5fdc838303e6a'), 'id': 'kuN1yq6RR4', 'name': 'Anemone', 'description': 'Known for their delicate, wind-blown appearance, anemones come in various colors and are often used in floral arrangements. Needs well-drained soil. Blooms in spring or fall.', 'sell_price': 12.7, 'quantity': 2, 'buy_price': 17.3, 'date': 'None', 'image_id': '6660a493e6f5fdc838303e68', 'tags': ['flower'], 'is_enabled': True}\n",
      "{'_id': ObjectId('6660a493e6f5fdc838303e6d'), 'id': 'tMe6_pOiUb', 'name': 'Fuchsia', 'description': 'Recognizable by their pendulous flowers, often in shades of pink, purple, and red, fuchsias are popular in hanging baskets. Needs well-drained soil. Blooms in summer to fall.', 'sell_price': 17.4, 'quantity': 71, 'buy_price': 19.4, 'date': 'None', 'image_id': '6660a493e6f5fdc838303e6b', 'tags': ['flower'], 'is_enabled': True}\n",
      "{'_id': ObjectId('6660a493e6f5fdc838303e70'), 'id': '4YLG29WuoD', 'name': 'Primrose', 'description': 'Early blooming flowers that come in many colors and are often found in woodlands and shady areas. Needs well-drained soil. Blooms in spring.', 'sell_price': 8.7, 'quantity': 53, 'buy_price': 13.5, 'date': 'None', 'image_id': '6660a493e6f5fdc838303e6e', 'tags': ['flower'], 'is_enabled': True}\n",
      "{'_id': ObjectId('6660a493e6f5fdc838303e73'), 'id': 'xIsL3vy9jX', 'name': 'Crocus', 'description': 'One of the first flowers to bloom in spring, they come in a variety of colors and signal the end of winter. Needs well-drained soil. Blooms in early spring.', 'sell_price': 10.0, 'quantity': 79, 'buy_price': 17.8, 'date': 'None', 'image_id': '6660a493e6f5fdc838303e71', 'tags': ['flower'], 'is_enabled': True}\n",
      "{'_id': ObjectId('6660a493e6f5fdc838303e76'), 'id': 'QZHcgsdTrp', 'name': 'Bluebell', 'description': 'Known for their beautiful blue, bell-shaped flowers, often carpeting woodland floors in spring. Needs moist, well-drained soil. Blooms in spring.', 'sell_price': 12.4, 'quantity': 5, 'buy_price': 13.1, 'date': 'None', 'image_id': '6660a493e6f5fdc838303e74', 'tags': ['flower'], 'is_enabled': True}\n",
      "{'_id': ObjectId('6660a493e6f5fdc838303e79'), 'id': 'Drdwc2G0QW', 'name': 'Gladiolus', 'description': 'Tall spikes of flowers that are often used in floral arrangements, gladiolus come in many colors and are known for their striking appearance. Needs well-drained soil. Blooms in summer.', 'sell_price': 13.0, 'quantity': 33, 'buy_price': 16.3, 'date': 'None', 'image_id': '6660a493e6f5fdc838303e77', 'tags': ['flower'], 'is_enabled': True}\n",
      "{'_id': ObjectId('6660a493e6f5fdc838303e7c'), 'id': 'zYq3AMWqa3', 'name': 'Freesia', 'description': 'Highly fragrant flowers that are often used in bouquets, freesias come in a range of colors and are prized for their scent. Needs well-drained soil. Blooms in spring to summer.', 'sell_price': 13.3, 'quantity': 87, 'buy_price': 14.5, 'date': 'None', 'image_id': '6660a493e6f5fdc838303e7a', 'tags': ['flower'], 'is_enabled': True}\n",
      "{'_id': ObjectId('6660a493e6f5fdc838303e7f'), 'id': 'Wl9jQDY1wS', 'name': 'Camellia', 'description': 'Glossy green leaves and beautiful, rose-like flowers make camellias a favorite in southern gardens. Needs well-drained, acidic soil. Blooms in winter to spring.', 'sell_price': 11.9, 'quantity': 72, 'buy_price': 18.9, 'date': 'None', 'image_id': '6660a493e6f5fdc838303e7d', 'tags': ['flower'], 'is_enabled': True}\n",
      "{'_id': ObjectId('6660a493e6f5fdc838303e82'), 'id': 'fBMVMwy2D-', 'name': 'Allium', 'description': 'Known for their spherical flower heads, often purple, alliums are related to onions and garlic and add a unique touch to gardens. Needs well-drained soil. Blooms in late spring to early summer.', 'sell_price': 16.6, 'quantity': 68, 'buy_price': 17.1, 'date': 'None', 'image_id': '6660a493e6f5fdc838303e80', 'tags': ['flower'], 'is_enabled': True}\n",
      "{'_id': ObjectId('6660a493e6f5fdc838303e85'), 'id': 'J5k54tgIUo', 'name': 'Amaryllis', 'description': 'Large, trumpet-shaped flowers that are often grown indoors during winter, amaryllis come in various colors. Needs well-drained soil. Blooms in winter to spring.', 'sell_price': 15.7, 'quantity': 29, 'buy_price': 17.0, 'date': 'None', 'image_id': '6660a493e6f5fdc838303e83', 'tags': ['flower'], 'is_enabled': True}\n",
      "{'_id': ObjectId('6660a493e6f5fdc838303e88'), 'id': '7ipw2-n6el', 'name': 'Delphinium', 'description': 'Tall spikes of flowers that come in various shades of blue, purple, pink, and white, known for their striking height and beauty. Needs well-drained soil. Blooms in early to mid-summer.', 'sell_price': 13.4, 'quantity': 30, 'buy_price': 19.7, 'date': 'None', 'image_id': '6660a493e6f5fdc838303e86', 'tags': ['flower'], 'is_enabled': True}\n",
      "{'_id': ObjectId('6660a493e6f5fdc838303e8b'), 'id': 'lrwvdH2JxR', 'name': 'Columbine', 'description': 'Distinctive flowers with spurred petals, popular in cottage gardens and attracting hummingbirds. Needs well-drained soil. Blooms in spring to early summer.', 'sell_price': 9.1, 'quantity': 44, 'buy_price': 14.7, 'date': 'None', 'image_id': '6660a493e6f5fdc838303e89', 'tags': ['flower'], 'is_enabled': True}\n",
      "{'_id': ObjectId('6660a493e6f5fdc838303e8e'), 'id': 'iDgq32JgbD', 'name': 'Cornflower', 'description': 'Blue, star-like flowers that are often used in wildflower gardens and are known for their bright color. Needs well-drained soil. Blooms in summer.', 'sell_price': 14.2, 'quantity': 80, 'buy_price': 16.3, 'date': 'None', 'image_id': '6660a493e6f5fdc838303e8c', 'tags': ['flower'], 'is_enabled': True}\n",
      "{'_id': ObjectId('6660a493e6f5fdc838303e91'), 'id': 'JvHD1bTkT2', 'name': 'Gazania', 'description': 'Sun-loving flowers with daisy-like blooms that close at night and in cloudy weather, available in a variety of bright colors. Needs well-drained soil. Blooms in summer.', 'sell_price': 12.9, 'quantity': 59, 'buy_price': 13.6, 'date': 'None', 'image_id': '6660a493e6f5fdc838303e8f', 'tags': ['flower'], 'is_enabled': True}\n",
      "{'_id': ObjectId('6660a493e6f5fdc838303e94'), 'id': 'hafuP76NWY', 'name': 'Heliotrope', 'description': 'Known for their sweet vanilla-like fragrance, heliotrope flowers are clusters of small, usually purple or white blooms. Needs well-drained soil. Blooms in summer to fall.', 'sell_price': 9.8, 'quantity': 50, 'buy_price': 10.7, 'date': 'None', 'image_id': '6660a493e6f5fdc838303e92', 'tags': ['flower'], 'is_enabled': True}\n",
      "{'_id': ObjectId('6660a493e6f5fdc838303e97'), 'id': 'OeDgiWB5d0', 'name': 'Impatiens', 'description': 'Popular shade-loving flowers that come in a wide range of colors, often used in hanging baskets and as bedding plants. Needs moist, well-drained soil. Blooms in spring to fall.', 'sell_price': 13.6, 'quantity': 82, 'buy_price': 17.0, 'date': 'None', 'image_id': '6660a493e6f5fdc838303e95', 'tags': ['flower'], 'is_enabled': True}\n",
      "{'_id': ObjectId('6660a493e6f5fdc838303e9a'), 'id': 'rMgYwgmWs9', 'name': 'Canna', 'description': 'Large, tropical-looking flowers that add a touch of the exotic to gardens, cannas come in vibrant colors and have bold foliage. Needs well-drained soil. Blooms in summer to fall.', 'sell_price': 13.9, 'quantity': 5, 'buy_price': 19.5, 'date': 'None', 'image_id': '6660a493e6f5fdc838303e98', 'tags': ['flower'], 'is_enabled': True}\n",
      "{'_id': ObjectId('6660a493e6f5fdc838303e9d'), 'id': 'JH2cy8MSbn', 'name': 'Coreopsis', 'description': 'Daisy-like flowers that are known for their long blooming period and bright yellow or orange colors. Needs well-drained soil. Blooms in summer to fall.', 'sell_price': 10.7, 'quantity': 1, 'buy_price': 16.6, 'date': 'None', 'image_id': '6660a493e6f5fdc838303e9b', 'tags': ['flower'], 'is_enabled': True}\n",
      "{'_id': ObjectId('6660a493e6f5fdc838303ea0'), 'id': 'yUyax0IZdV', 'name': 'Verbena', 'description': 'Clusters of small, colorful flowers that are perfect for hanging baskets and borders, known for their long bloom period. Needs well-drained soil. Blooms in summer to fall.', 'sell_price': 12.6, 'quantity': 26, 'buy_price': 18.8, 'date': 'None', 'image_id': '6660a493e6f5fdc838303e9e', 'tags': ['flower'], 'is_enabled': True}\n",
      "{'_id': ObjectId('6660a493e6f5fdc838303ea3'), 'id': 'a-IMJ6FywW', 'name': 'Cosmos', 'description': 'Dainty, daisy-like flowers that are easy to grow and come in shades of pink, white, and orange. Needs well-drained Blooms in summer to fall.', 'sell_price': 16.8, 'quantity': 80, 'buy_price': 19.5, 'date': 'None', 'image_id': '6660a493e6f5fdc838303ea1', 'tags': ['flower'], 'is_enabled': True}\n"
     ]
    }
   ],
   "source": [
    "# Connect to the MongoDB server\n",
    "client_mongo = pymongo.MongoClient(\"mongodb://localhost:27017/\")\n",
    "\n",
    "# Select your database\n",
    "db = client_mongo[\"ecommerce-app\"]\n",
    "\n",
    "# List all collection names in the database\n",
    "collection_names = db.list_collection_names()\n",
    "\n",
    "\n",
    "collection = db['products']\n",
    "# Find all documents in the collection\n",
    "documents = collection.find()\n",
    "for x in documents:\n",
    "    print(x)\n",
    "\n",
    "\n",
    "# print(len(documents))\n",
    "\n",
    "\n"
   ]
  },
  {
   "cell_type": "code",
   "execution_count": null,
   "metadata": {},
   "outputs": [],
   "source": [
    "db.drop_collection('products')\n",
    "for document in documents:\n",
    "    print(document)"
   ]
  },
  {
   "cell_type": "code",
   "execution_count": 6,
   "metadata": {},
   "outputs": [],
   "source": [
    "from pydantic import BaseModel,Field\n",
    "class Product(BaseModel):\n",
    "    id: str = Field(default_factory=lambda: nanoid.generate(size=10))\n",
    "    name: str = ''\n",
    "    description: str = ''\n",
    "    sell_price: float = 0\n",
    "    quantity: int = 0\n",
    "    buy_price: float = 0\n",
    "    date: str = Field(default_factory=lambda: datetime.now().strftime(\"%d-%m-%Y %H:%M:%S\"))\n",
    "    image_id: str | None = None\n",
    "    tags: List[str] = Field(default_factory=list)\n",
    "    is_enabled: bool = True\n",
    "\n",
    "class VecProduct(BaseModel):\n",
    "    id: str = ''\n",
    "    name: str = ''\n",
    "    description: str = ''\n",
    "    is_enabled: bool = True"
   ]
  },
  {
   "cell_type": "code",
   "execution_count": 34,
   "metadata": {},
   "outputs": [],
   "source": [
    "from sentence_transformers import SentenceTransformer\n",
    "from qdrant_client import AsyncQdrantClient\n",
    "from qdrant_client.models import Filter, FieldCondition, PointStruct, MatchValue, PointVectors\n",
    "\n",
    "class QdrantManager:\n",
    "    qdrant_client: AsyncQdrantClient\n",
    "    modelEmbed: SentenceTransformer\n",
    "\n",
    "    def __init__(self) -> None:\n",
    "        self.qdrant_client = AsyncQdrantClient('http://127.0.0.1:6333')\n",
    "        self.modelEmbed = SentenceTransformer('intfloat/e5-small-v2', cache_folder='src/model_st')\n",
    "        pass\n",
    "\n",
    "    async def search(self, query:str):\n",
    "        vector = self.modelEmbed.encode(query, normalize_embeddings=True)\n",
    "        response = await self.qdrant_client.search(collection_name=\"products_description\",\n",
    "                                          query_vector=vector,\n",
    "                                          limit=3,\n",
    "                                          query_filter= Filter(\n",
    "                                              must=[\n",
    "                                                  FieldCondition(\n",
    "                                                      key='is_enabled',\n",
    "                                                      match = MatchValue(value=True)\n",
    "                                                  )\n",
    "                                              ]\n",
    "                                          ))\n",
    "        return response\n",
    "\n",
    "    async def add_product_vec(self,product: Product):\n",
    "        if not await self.__check_db__(product.name):\n",
    "            vector = self.modelEmbed.encode(product.description,normalize_embeddings=True)\n",
    "            num = await self.qdrant_client.count(collection_name=\"products_description\")\n",
    "            point = PointStruct(\n",
    "                        id=int(num.count),\n",
    "                        vector=vector,\n",
    "                        payload={\"id\": product.id, \"name\": product.name, \n",
    "                                 \"description\": product.description, \n",
    "                                 \"is_enabled\": product.is_enabled}\n",
    "                    )\n",
    "\n",
    "            await self.qdrant_client.upsert(\n",
    "                collection_name=\"products_description\",\n",
    "                wait=True,\n",
    "                points=[point])\n",
    "        else:\n",
    "            print('Product already exists')\n",
    "\n",
    "    async def update_product(self,product: Product):\n",
    "        product_in_base = await self.__check_db__(product.name)\n",
    "        if product.is_enabled:\n",
    "            updated_product = VecProduct(**product_in_base.payload)\n",
    "            updated_product.description = product.description\n",
    "            vector = self.modelEmbed.encode(product.description,normalize_embeddings=True)\n",
    "            # point = PointVectors(\n",
    "            #         id=int(product_in_base.id),\n",
    "            #         vector=vector,\n",
    "            #         payload=dict(updated_product)\n",
    "            #     )\n",
    "            payload=dict(updated_product)\n",
    "            await self.qdrant_client.update_vectors(\n",
    "                collection_name='products_description',\n",
    "                points = [\n",
    "                    PointVectors(\n",
    "                    id=int(product_in_base.id),\n",
    "                    vector=vector,\n",
    "                )\n",
    "                ]\n",
    "            )\n",
    "        else:\n",
    "            updated_product = VecProduct(**product_in_base.payload)\n",
    "            updated_product.is_enabled = product.is_enabled\n",
    "            # point = PointVectors(\n",
    "            #         id=int(product_in_base.id),\n",
    "            #         vector=product_in_base.vector,\n",
    "            #         payload=dict(updated_product)\n",
    "            # )\n",
    "            payload=dict(updated_product)\n",
    "        await self.qdrant_client.overwrite_payload(\n",
    "            collection_name=\"products_description\",\n",
    "            wait = True,\n",
    "            points=Filter(must=[FieldCondition(\n",
    "                            key='name',\n",
    "                            match = MatchValue(value=updated_product.name)\n",
    "            )]),\n",
    "            payload=payload\n",
    "        )\n",
    "\n",
    "    async def __check_db__(self,name):\n",
    "        record = await self.qdrant_client.scroll(\n",
    "        collection_name =\"products_description\",\n",
    "        scroll_filter = Filter(\n",
    "            must = [FieldCondition(\n",
    "                key='name',\n",
    "                match =MatchValue(\n",
    "                    value= name))\n",
    "                    ]\n",
    "                ),\n",
    "                with_vectors = True\n",
    "            )\n",
    "        if record[0]:\n",
    "            return record[0][0]\n",
    "        else:\n",
    "            return False\n",
    "\n"
   ]
  },
  {
   "cell_type": "code",
   "execution_count": 35,
   "metadata": {},
   "outputs": [],
   "source": [
    "dwa = QdrantManager()"
   ]
  },
  {
   "cell_type": "code",
   "execution_count": 36,
   "metadata": {},
   "outputs": [],
   "source": [
    "example = Product()\n",
    "example.buy_price = 1\n",
    "example.name = 'Kwiat'\n",
    "example.description = 'szesc dwa'\n",
    "example.sell_price = 1\n",
    "example.buy_price = 1\n",
    "example.quantity = 5\n",
    "example.tags = ['dwa']\n"
   ]
  },
  {
   "cell_type": "code",
   "execution_count": 40,
   "metadata": {},
   "outputs": [
    {
     "data": {
      "text/plain": [
       "[ScoredPoint(id=0, version=5, score=0.9322207, payload={'description': 'szesc dwa', 'id': 'ghzCyW6g4q', 'is_enabled': True, 'name': 'Kwiat'}, vector=None, shard_key=None)]"
      ]
     },
     "execution_count": 40,
     "metadata": {},
     "output_type": "execute_result"
    }
   ],
   "source": [
    "await dwa.search('szesc')"
   ]
  },
  {
   "cell_type": "code",
   "execution_count": 38,
   "metadata": {},
   "outputs": [
    {
     "name": "stdout",
     "output_type": "stream",
     "text": [
      "Product already exists\n"
     ]
    }
   ],
   "source": [
    "await dwa.add_product_vec(example)"
   ]
  },
  {
   "cell_type": "code",
   "execution_count": 39,
   "metadata": {},
   "outputs": [],
   "source": [
    "await dwa.update_product(example)"
   ]
  },
  {
   "cell_type": "code",
   "execution_count": 135,
   "metadata": {},
   "outputs": [
    {
     "data": {
      "text/plain": [
       "qdrant_client.http.models.models.ScoredPoint"
      ]
     },
     "execution_count": 135,
     "metadata": {},
     "output_type": "execute_result"
    }
   ],
   "source": [
    "qdrant_client = QdrantClient('localhost:6333')\n",
    "results = qdrant_client.search(\n",
    "    collection_name=\"products_description\",\n",
    "    query_vector=list(model.encode('dwa', normalize_embeddings=True)),\n",
    "    limit=3,\n",
    ")\n",
    "type(results[0])"
   ]
  },
  {
   "cell_type": "code",
   "execution_count": 52,
   "metadata": {},
   "outputs": [
    {
     "data": {
      "text/plain": [
       "384"
      ]
     },
     "execution_count": 52,
     "metadata": {},
     "output_type": "execute_result"
    }
   ],
   "source": [
    "model[1].word_embedding_dimension"
   ]
  },
  {
   "cell_type": "code",
   "execution_count": 50,
   "metadata": {},
   "outputs": [
    {
     "name": "stdout",
     "output_type": "stream",
     "text": [
      "count=48\n"
     ]
    }
   ],
   "source": [
    "count = await client.count(collection_name='products_description')\n",
    "\n",
    "print(count)"
   ]
  },
  {
   "cell_type": "code",
   "execution_count": 44,
   "metadata": {},
   "outputs": [
    {
     "data": {
      "text/plain": [
       "True"
      ]
     },
     "execution_count": 44,
     "metadata": {},
     "output_type": "execute_result"
    }
   ],
   "source": [
    "await client.delete_collection(collection_name='products_description')"
   ]
  },
  {
   "cell_type": "code",
   "execution_count": 23,
   "metadata": {},
   "outputs": [
    {
     "data": {
      "text/plain": [
       "['/dwa/trzy', 'jpg']"
      ]
     },
     "execution_count": 23,
     "metadata": {},
     "output_type": "execute_result"
    }
   ],
   "source": [
    "'/dwa/trzy.jpg'.split('.')"
   ]
  }
 ],
 "metadata": {
  "kernelspec": {
   "display_name": "Chatbot",
   "language": "python",
   "name": "python3"
  },
  "language_info": {
   "codemirror_mode": {
    "name": "ipython",
    "version": 3
   },
   "file_extension": ".py",
   "mimetype": "text/x-python",
   "name": "python",
   "nbconvert_exporter": "python",
   "pygments_lexer": "ipython3",
   "version": "3.11.3"
  }
 },
 "nbformat": 4,
 "nbformat_minor": 2
}
