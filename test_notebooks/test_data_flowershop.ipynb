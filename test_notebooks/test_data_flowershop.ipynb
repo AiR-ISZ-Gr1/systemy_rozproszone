{
 "cells": [
  {
   "cell_type": "code",
   "execution_count": 1,
   "metadata": {},
   "outputs": [],
   "source": [
    "import pandas as pd\n",
    "import numpy as np\n",
    "import nanoid\n",
    "import pymongo\n",
    "from openai import OpenAI\n",
    "import requests"
   ]
  },
  {
   "cell_type": "code",
   "execution_count": 76,
   "metadata": {},
   "outputs": [],
   "source": [
    "quantites = np.random.randint(1,100,size=48)\n",
    "prices_buy = np.random.randint(1,2,size=48)*10 + np.random.randint(0,10,size=48) + np.random.randint(0,10,size=48)*0.1\n",
    "prices_sale = prices_buy - np.random.randint(0,10,size=48) + np.random.randint(0,10,size=48)*0.1\n"
   ]
  },
  {
   "cell_type": "code",
   "execution_count": 130,
   "metadata": {},
   "outputs": [],
   "source": [
    "data = pd.read_csv('data/flowershopdata.csv')\n",
    "data['Description'] = data[['Description', 'Needs','Season']].apply(lambda x: ' '.join(x.dropna().astype(str)), axis=1)\n",
    "data['Buy_price'] = prices_buy\n",
    "data['Sale_price'] = np.round(prices_sale,2)\n",
    "data['Quantities'] = quantites\n",
    "jpg_paths = [f\"/Users/kacperjarzyna/systemy_rozproszone/test_notebooks/data/img_flowers/{flower.lower()}.jpg\" for flower in data['Name']]\n",
    "data['pic_path'] = jpg_paths\n",
    "data['id'] = [nanoid.generate(size=10) for x in range(48)]\n",
    "data.drop(columns=['Needs','Season'],inplace=True)"
   ]
  },
  {
   "cell_type": "code",
   "execution_count": 131,
   "metadata": {},
   "outputs": [],
   "source": [
    "data.to_csv('data/flowershopdata_clean.csv')"
   ]
  },
  {
   "cell_type": "code",
   "execution_count": 46,
   "metadata": {},
   "outputs": [],
   "source": [
    "import os\n",
    "import requests\n",
    "from bs4 import BeautifulSoup\n",
    "from PIL import Image\n",
    "from io import BytesIO\n",
    "from selenium import webdriver\n",
    "from selenium.webdriver.common.by import By\n",
    "import time\n",
    "\n",
    "def fetch_first_image_url(query):\n",
    "    options = webdriver.SafariOptions()\n",
    "    driver = webdriver.Safari(options=options)\n",
    "\n",
    "    search_url = f\"https://pl.pinterest.com/search/pins/?q={query}%20flower&rs=typed\"\n",
    "    driver.get(search_url)\n",
    "\n",
    "    time.sleep(2)\n",
    "    image_elements = driver.find_elements(By.CSS_SELECTOR, 'img')\n",
    "\n",
    "    if len(image_elements) >= 10:\n",
    "        # Get the URL of the 10th image\n",
    "        image_element = image_elements[9]  # Index 9 corresponds to the 10th image (0-based index)\n",
    "        image_url = image_element.get_attribute('src')\n",
    "    else:\n",
    "        print(\"Not enough images found on the page\")\n",
    "        image_url = None\n",
    "\n",
    "    driver.quit()\n",
    "    return image_url\n",
    "\n",
    "def save_image_from_url(url, directory, filename):\n",
    "    response = requests.get(url)\n",
    "    image = Image.open(BytesIO(response.content))\n",
    "    image_path = os.path.join(directory, filename)\n",
    "    image.save(image_path)\n",
    "    print(f\"Image saved to {image_path}\")\n",
    "\n"
   ]
  },
  {
   "cell_type": "code",
   "execution_count": 6,
   "metadata": {},
   "outputs": [],
   "source": [
    "import nanoid\n",
    "def create_product(product_data):\n",
    "    base_url = \"http://127.0.0.1:8000\"\n",
    "    response = requests.post(f\"{base_url}/products/\", json=product_data)\n",
    "    print(response.json())"
   ]
  },
  {
   "cell_type": "code",
   "execution_count": 7,
   "metadata": {},
   "outputs": [],
   "source": [
    "data = pd.read_csv('data/flowershopdata_clean.csv').drop(columns=['Unnamed: 0'])\n",
    "# for index,item in data.iterrows():\n",
    "#     product_data = {\n",
    "#     \"id\": item['id'],\n",
    "#     \"name\": item['Name'][0] + item['Name'][1:].lower(),\n",
    "#     \"description\": item['Description'],\n",
    "#     \"sale_price\": item['Sale_price'],\n",
    "#     \"quantity\": item['Quantities'],\n",
    "#     \"buy_price\": item['Buy_price'],\n",
    "#     \"date\": 'None',\n",
    "#     \"picture_path\": item['pic_path']\n",
    "#     }\n",
    "#     create_product(product_data)\n"
   ]
  },
  {
   "cell_type": "code",
   "execution_count": 70,
   "metadata": {},
   "outputs": [
    {
     "name": "stdout",
     "output_type": "stream",
     "text": [
      "Collection exits\n"
     ]
    }
   ],
   "source": [
    "from sentence_transformers import SentenceTransformer, util\n",
    "from qdrant_client import QdrantClient\n",
    "from qdrant_client.models import Distance, VectorParams\n",
    "from qdrant_client.models import PointStruct\n",
    "\n",
    "model = SentenceTransformer('intfloat/e5-small-v2')\n",
    "vec_len = model[1].word_embedding_dimension\n",
    "client = QdrantClient(url=\"http://127.0.0.1:6333\")\n",
    "names = [item.name for item in client.get_collections().collections]\n",
    "if 'products_description' not in names:\n",
    "    client.create_collection(\n",
    "        collection_name=\"products_description\",\n",
    "        vectors_config=VectorParams(size=vec_len, distance=Distance.COSINE),)\n",
    "else:\n",
    "    print('Collection exits')\n"
   ]
  },
  {
   "cell_type": "code",
   "execution_count": 74,
   "metadata": {},
   "outputs": [
    {
     "data": {
      "text/plain": [
       "True"
      ]
     },
     "execution_count": 74,
     "metadata": {},
     "output_type": "execute_result"
    }
   ],
   "source": [
    "client.delete_collection(\"products_description\")"
   ]
  },
  {
   "cell_type": "code",
   "execution_count": 8,
   "metadata": {},
   "outputs": [],
   "source": [
    "points = [PointStruct(id=index, \n",
    "                      vector=model.encode(item['Description'], normalize_embeddings=True), \n",
    "                      payload={\"Id\": item['id'],\n",
    "                               \"Name\": item['Name'],\n",
    "                               \"Description\":item['Description']}) for index,item in data.iterrows()]\n"
   ]
  },
  {
   "cell_type": "code",
   "execution_count": 215,
   "metadata": {},
   "outputs": [
    {
     "name": "stdout",
     "output_type": "stream",
     "text": [
      "operation_id=0 status=<UpdateStatus.COMPLETED: 'completed'>\n"
     ]
    }
   ],
   "source": [
    "operation_info = client.upsert(\n",
    "    collection_name=\"products_description\",\n",
    "    wait=True,\n",
    "    points=points,\n",
    ")\n",
    "\n",
    "print(operation_info)"
   ]
  },
  {
   "cell_type": "code",
   "execution_count": 87,
   "metadata": {},
   "outputs": [],
   "source": [
    "from pymongo import MongoClient\n",
    "from openai import OpenAI\n",
    "from typing import List\n",
    "from sentence_transformers import SentenceTransformer\n",
    "from qdrant_client import QdrantClient\n",
    "\n",
    "\n",
    "class Chatbot():\n",
    "    mongo_client: MongoClient\n",
    "    qdrant_client: QdrantClient\n",
    "    openai_client: OpenAI\n",
    "    embedding_model: SentenceTransformer\n",
    "\n",
    "    def __init__(self, data, embedding_model):\n",
    "        self.mongo_client = data.pop('mongo_client', None)\n",
    "        self.qdrant_client = data.pop('qdrant_client', None)\n",
    "        self.openai_client = data.pop('openai_client', None)\n",
    "        self.embedding_model = embedding_model\n",
    "\n",
    "    def answer(self,question:str) -> str:\n",
    "        system,user = self.__prepare_question(question)\n",
    "        chat_completion = self.openai_client.chat.completions.create(\n",
    "        model=\"gpt-3.5-turbo\",\n",
    "        messages=[{\"role\":\"system\", \"content\" : system},\n",
    "            {\"role\": \"user\", \"content\": user}])\n",
    "        \n",
    "        return chat_completion.choices[0].message.content\n",
    "\n",
    "\n",
    "    def __fill_prompt(self,question:str, jsons:List[str]) -> List[str]:\n",
    "        SYSTEM_TEMPLATE = \"\"\"You are a professional flower shop assistatnt, you reccomend products that fullfils\n",
    "        every user expectations or answer his question based only on data in json format below:\n",
    "        {}\n",
    "        Always check the quantity before recommending if it's equal to 0 ask to wait until restock.\n",
    "        If none of products fulfill expectations say that sadly we don't have product you need.\n",
    "        Your answer should short and contain only what flower you recommend, reasoning why and friendly insight.\n",
    "        Don't encourage further conversation.\n",
    "        \"\"\"\n",
    "\n",
    "        filled_prompt = SYSTEM_TEMPLATE.format(jsons)\n",
    "        return filled_prompt, question\n",
    "\n",
    "\n",
    "    def __qdrant_search(self, question:str):\n",
    "        query = self.embedding_model.encode(question, normalize_embeddings=True)\n",
    "        results = self.qdrant_client.search(\n",
    "            collection_name=\"products_description\",\n",
    "            query_vector=query,\n",
    "            limit=3,\n",
    "        )\n",
    "        return results\n",
    "\n",
    "\n",
    "    def __search_mongo(self, results):\n",
    "        db = self.mongo_client[\"ecommerce-app\"]\n",
    "        collection = db['products']\n",
    "        all_jsons = []\n",
    "        for flower_id in [res.payload.get('Id') for res in results]:\n",
    "            json_data = {}\n",
    "            for item in collection.find({\"id\":flower_id}):\n",
    "                json_data['Name'] = item.get('name')\n",
    "                json_data['Description'] = item.get('description')\n",
    "                json_data['Quantity'] = item.get('quantity')\n",
    "                all_jsons.append(json_data)\n",
    "        return all_jsons\n",
    "\n",
    "\n",
    "    def __prepare_question(self, question):\n",
    "        qdrant_result = self.__qdrant_search(question)\n",
    "        mongo_result = self.__search_mongo(qdrant_result)\n",
    "        return self.__fill_prompt(question,mongo_result)\n",
    "    "
   ]
  },
  {
   "cell_type": "code",
   "execution_count": 5,
   "metadata": {},
   "outputs": [
    {
     "ename": "FileNotFoundError",
     "evalue": "[Errno 2] No such file or directory: '/Users/kacperjarzyna/systemy_rozproszone/app/databases/init_data/products/flowershopdata_clean.csv'",
     "output_type": "error",
     "traceback": [
      "\u001b[0;31m---------------------------------------------------------------------------\u001b[0m",
      "\u001b[0;31mFileNotFoundError\u001b[0m                         Traceback (most recent call last)",
      "Cell \u001b[0;32mIn[5], line 1\u001b[0m\n\u001b[0;32m----> 1\u001b[0m data \u001b[38;5;241m=\u001b[39m \u001b[43mpd\u001b[49m\u001b[38;5;241;43m.\u001b[39;49m\u001b[43mread_csv\u001b[49m\u001b[43m(\u001b[49m\u001b[38;5;124;43m'\u001b[39;49m\u001b[38;5;124;43m/Users/kacperjarzyna/systemy_rozproszone/app/databases/init_data/products/flowershopdata_clean.csv\u001b[39;49m\u001b[38;5;124;43m'\u001b[39;49m\u001b[43m)\u001b[49m\n",
      "File \u001b[0;32m~/opt/anaconda3/envs/Chatbot/lib/python3.11/site-packages/pandas/util/_decorators.py:211\u001b[0m, in \u001b[0;36mdeprecate_kwarg.<locals>._deprecate_kwarg.<locals>.wrapper\u001b[0;34m(*args, **kwargs)\u001b[0m\n\u001b[1;32m    209\u001b[0m     \u001b[38;5;28;01melse\u001b[39;00m:\n\u001b[1;32m    210\u001b[0m         kwargs[new_arg_name] \u001b[38;5;241m=\u001b[39m new_arg_value\n\u001b[0;32m--> 211\u001b[0m \u001b[38;5;28;01mreturn\u001b[39;00m \u001b[43mfunc\u001b[49m\u001b[43m(\u001b[49m\u001b[38;5;241;43m*\u001b[39;49m\u001b[43margs\u001b[49m\u001b[43m,\u001b[49m\u001b[43m \u001b[49m\u001b[38;5;241;43m*\u001b[39;49m\u001b[38;5;241;43m*\u001b[39;49m\u001b[43mkwargs\u001b[49m\u001b[43m)\u001b[49m\n",
      "File \u001b[0;32m~/opt/anaconda3/envs/Chatbot/lib/python3.11/site-packages/pandas/util/_decorators.py:331\u001b[0m, in \u001b[0;36mdeprecate_nonkeyword_arguments.<locals>.decorate.<locals>.wrapper\u001b[0;34m(*args, **kwargs)\u001b[0m\n\u001b[1;32m    325\u001b[0m \u001b[38;5;28;01mif\u001b[39;00m \u001b[38;5;28mlen\u001b[39m(args) \u001b[38;5;241m>\u001b[39m num_allow_args:\n\u001b[1;32m    326\u001b[0m     warnings\u001b[38;5;241m.\u001b[39mwarn(\n\u001b[1;32m    327\u001b[0m         msg\u001b[38;5;241m.\u001b[39mformat(arguments\u001b[38;5;241m=\u001b[39m_format_argument_list(allow_args)),\n\u001b[1;32m    328\u001b[0m         \u001b[38;5;167;01mFutureWarning\u001b[39;00m,\n\u001b[1;32m    329\u001b[0m         stacklevel\u001b[38;5;241m=\u001b[39mfind_stack_level(),\n\u001b[1;32m    330\u001b[0m     )\n\u001b[0;32m--> 331\u001b[0m \u001b[38;5;28;01mreturn\u001b[39;00m \u001b[43mfunc\u001b[49m\u001b[43m(\u001b[49m\u001b[38;5;241;43m*\u001b[39;49m\u001b[43margs\u001b[49m\u001b[43m,\u001b[49m\u001b[43m \u001b[49m\u001b[38;5;241;43m*\u001b[39;49m\u001b[38;5;241;43m*\u001b[39;49m\u001b[43mkwargs\u001b[49m\u001b[43m)\u001b[49m\n",
      "File \u001b[0;32m~/opt/anaconda3/envs/Chatbot/lib/python3.11/site-packages/pandas/io/parsers/readers.py:950\u001b[0m, in \u001b[0;36mread_csv\u001b[0;34m(filepath_or_buffer, sep, delimiter, header, names, index_col, usecols, squeeze, prefix, mangle_dupe_cols, dtype, engine, converters, true_values, false_values, skipinitialspace, skiprows, skipfooter, nrows, na_values, keep_default_na, na_filter, verbose, skip_blank_lines, parse_dates, infer_datetime_format, keep_date_col, date_parser, dayfirst, cache_dates, iterator, chunksize, compression, thousands, decimal, lineterminator, quotechar, quoting, doublequote, escapechar, comment, encoding, encoding_errors, dialect, error_bad_lines, warn_bad_lines, on_bad_lines, delim_whitespace, low_memory, memory_map, float_precision, storage_options)\u001b[0m\n\u001b[1;32m    935\u001b[0m kwds_defaults \u001b[38;5;241m=\u001b[39m _refine_defaults_read(\n\u001b[1;32m    936\u001b[0m     dialect,\n\u001b[1;32m    937\u001b[0m     delimiter,\n\u001b[0;32m   (...)\u001b[0m\n\u001b[1;32m    946\u001b[0m     defaults\u001b[38;5;241m=\u001b[39m{\u001b[38;5;124m\"\u001b[39m\u001b[38;5;124mdelimiter\u001b[39m\u001b[38;5;124m\"\u001b[39m: \u001b[38;5;124m\"\u001b[39m\u001b[38;5;124m,\u001b[39m\u001b[38;5;124m\"\u001b[39m},\n\u001b[1;32m    947\u001b[0m )\n\u001b[1;32m    948\u001b[0m kwds\u001b[38;5;241m.\u001b[39mupdate(kwds_defaults)\n\u001b[0;32m--> 950\u001b[0m \u001b[38;5;28;01mreturn\u001b[39;00m \u001b[43m_read\u001b[49m\u001b[43m(\u001b[49m\u001b[43mfilepath_or_buffer\u001b[49m\u001b[43m,\u001b[49m\u001b[43m \u001b[49m\u001b[43mkwds\u001b[49m\u001b[43m)\u001b[49m\n",
      "File \u001b[0;32m~/opt/anaconda3/envs/Chatbot/lib/python3.11/site-packages/pandas/io/parsers/readers.py:605\u001b[0m, in \u001b[0;36m_read\u001b[0;34m(filepath_or_buffer, kwds)\u001b[0m\n\u001b[1;32m    602\u001b[0m _validate_names(kwds\u001b[38;5;241m.\u001b[39mget(\u001b[38;5;124m\"\u001b[39m\u001b[38;5;124mnames\u001b[39m\u001b[38;5;124m\"\u001b[39m, \u001b[38;5;28;01mNone\u001b[39;00m))\n\u001b[1;32m    604\u001b[0m \u001b[38;5;66;03m# Create the parser.\u001b[39;00m\n\u001b[0;32m--> 605\u001b[0m parser \u001b[38;5;241m=\u001b[39m \u001b[43mTextFileReader\u001b[49m\u001b[43m(\u001b[49m\u001b[43mfilepath_or_buffer\u001b[49m\u001b[43m,\u001b[49m\u001b[43m \u001b[49m\u001b[38;5;241;43m*\u001b[39;49m\u001b[38;5;241;43m*\u001b[39;49m\u001b[43mkwds\u001b[49m\u001b[43m)\u001b[49m\n\u001b[1;32m    607\u001b[0m \u001b[38;5;28;01mif\u001b[39;00m chunksize \u001b[38;5;129;01mor\u001b[39;00m iterator:\n\u001b[1;32m    608\u001b[0m     \u001b[38;5;28;01mreturn\u001b[39;00m parser\n",
      "File \u001b[0;32m~/opt/anaconda3/envs/Chatbot/lib/python3.11/site-packages/pandas/io/parsers/readers.py:1442\u001b[0m, in \u001b[0;36mTextFileReader.__init__\u001b[0;34m(self, f, engine, **kwds)\u001b[0m\n\u001b[1;32m   1439\u001b[0m     \u001b[38;5;28mself\u001b[39m\u001b[38;5;241m.\u001b[39moptions[\u001b[38;5;124m\"\u001b[39m\u001b[38;5;124mhas_index_names\u001b[39m\u001b[38;5;124m\"\u001b[39m] \u001b[38;5;241m=\u001b[39m kwds[\u001b[38;5;124m\"\u001b[39m\u001b[38;5;124mhas_index_names\u001b[39m\u001b[38;5;124m\"\u001b[39m]\n\u001b[1;32m   1441\u001b[0m \u001b[38;5;28mself\u001b[39m\u001b[38;5;241m.\u001b[39mhandles: IOHandles \u001b[38;5;241m|\u001b[39m \u001b[38;5;28;01mNone\u001b[39;00m \u001b[38;5;241m=\u001b[39m \u001b[38;5;28;01mNone\u001b[39;00m\n\u001b[0;32m-> 1442\u001b[0m \u001b[38;5;28mself\u001b[39m\u001b[38;5;241m.\u001b[39m_engine \u001b[38;5;241m=\u001b[39m \u001b[38;5;28;43mself\u001b[39;49m\u001b[38;5;241;43m.\u001b[39;49m\u001b[43m_make_engine\u001b[49m\u001b[43m(\u001b[49m\u001b[43mf\u001b[49m\u001b[43m,\u001b[49m\u001b[43m \u001b[49m\u001b[38;5;28;43mself\u001b[39;49m\u001b[38;5;241;43m.\u001b[39;49m\u001b[43mengine\u001b[49m\u001b[43m)\u001b[49m\n",
      "File \u001b[0;32m~/opt/anaconda3/envs/Chatbot/lib/python3.11/site-packages/pandas/io/parsers/readers.py:1735\u001b[0m, in \u001b[0;36mTextFileReader._make_engine\u001b[0;34m(self, f, engine)\u001b[0m\n\u001b[1;32m   1733\u001b[0m     \u001b[38;5;28;01mif\u001b[39;00m \u001b[38;5;124m\"\u001b[39m\u001b[38;5;124mb\u001b[39m\u001b[38;5;124m\"\u001b[39m \u001b[38;5;129;01mnot\u001b[39;00m \u001b[38;5;129;01min\u001b[39;00m mode:\n\u001b[1;32m   1734\u001b[0m         mode \u001b[38;5;241m+\u001b[39m\u001b[38;5;241m=\u001b[39m \u001b[38;5;124m\"\u001b[39m\u001b[38;5;124mb\u001b[39m\u001b[38;5;124m\"\u001b[39m\n\u001b[0;32m-> 1735\u001b[0m \u001b[38;5;28mself\u001b[39m\u001b[38;5;241m.\u001b[39mhandles \u001b[38;5;241m=\u001b[39m \u001b[43mget_handle\u001b[49m\u001b[43m(\u001b[49m\n\u001b[1;32m   1736\u001b[0m \u001b[43m    \u001b[49m\u001b[43mf\u001b[49m\u001b[43m,\u001b[49m\n\u001b[1;32m   1737\u001b[0m \u001b[43m    \u001b[49m\u001b[43mmode\u001b[49m\u001b[43m,\u001b[49m\n\u001b[1;32m   1738\u001b[0m \u001b[43m    \u001b[49m\u001b[43mencoding\u001b[49m\u001b[38;5;241;43m=\u001b[39;49m\u001b[38;5;28;43mself\u001b[39;49m\u001b[38;5;241;43m.\u001b[39;49m\u001b[43moptions\u001b[49m\u001b[38;5;241;43m.\u001b[39;49m\u001b[43mget\u001b[49m\u001b[43m(\u001b[49m\u001b[38;5;124;43m\"\u001b[39;49m\u001b[38;5;124;43mencoding\u001b[39;49m\u001b[38;5;124;43m\"\u001b[39;49m\u001b[43m,\u001b[49m\u001b[43m \u001b[49m\u001b[38;5;28;43;01mNone\u001b[39;49;00m\u001b[43m)\u001b[49m\u001b[43m,\u001b[49m\n\u001b[1;32m   1739\u001b[0m \u001b[43m    \u001b[49m\u001b[43mcompression\u001b[49m\u001b[38;5;241;43m=\u001b[39;49m\u001b[38;5;28;43mself\u001b[39;49m\u001b[38;5;241;43m.\u001b[39;49m\u001b[43moptions\u001b[49m\u001b[38;5;241;43m.\u001b[39;49m\u001b[43mget\u001b[49m\u001b[43m(\u001b[49m\u001b[38;5;124;43m\"\u001b[39;49m\u001b[38;5;124;43mcompression\u001b[39;49m\u001b[38;5;124;43m\"\u001b[39;49m\u001b[43m,\u001b[49m\u001b[43m \u001b[49m\u001b[38;5;28;43;01mNone\u001b[39;49;00m\u001b[43m)\u001b[49m\u001b[43m,\u001b[49m\n\u001b[1;32m   1740\u001b[0m \u001b[43m    \u001b[49m\u001b[43mmemory_map\u001b[49m\u001b[38;5;241;43m=\u001b[39;49m\u001b[38;5;28;43mself\u001b[39;49m\u001b[38;5;241;43m.\u001b[39;49m\u001b[43moptions\u001b[49m\u001b[38;5;241;43m.\u001b[39;49m\u001b[43mget\u001b[49m\u001b[43m(\u001b[49m\u001b[38;5;124;43m\"\u001b[39;49m\u001b[38;5;124;43mmemory_map\u001b[39;49m\u001b[38;5;124;43m\"\u001b[39;49m\u001b[43m,\u001b[49m\u001b[43m \u001b[49m\u001b[38;5;28;43;01mFalse\u001b[39;49;00m\u001b[43m)\u001b[49m\u001b[43m,\u001b[49m\n\u001b[1;32m   1741\u001b[0m \u001b[43m    \u001b[49m\u001b[43mis_text\u001b[49m\u001b[38;5;241;43m=\u001b[39;49m\u001b[43mis_text\u001b[49m\u001b[43m,\u001b[49m\n\u001b[1;32m   1742\u001b[0m \u001b[43m    \u001b[49m\u001b[43merrors\u001b[49m\u001b[38;5;241;43m=\u001b[39;49m\u001b[38;5;28;43mself\u001b[39;49m\u001b[38;5;241;43m.\u001b[39;49m\u001b[43moptions\u001b[49m\u001b[38;5;241;43m.\u001b[39;49m\u001b[43mget\u001b[49m\u001b[43m(\u001b[49m\u001b[38;5;124;43m\"\u001b[39;49m\u001b[38;5;124;43mencoding_errors\u001b[39;49m\u001b[38;5;124;43m\"\u001b[39;49m\u001b[43m,\u001b[49m\u001b[43m \u001b[49m\u001b[38;5;124;43m\"\u001b[39;49m\u001b[38;5;124;43mstrict\u001b[39;49m\u001b[38;5;124;43m\"\u001b[39;49m\u001b[43m)\u001b[49m\u001b[43m,\u001b[49m\n\u001b[1;32m   1743\u001b[0m \u001b[43m    \u001b[49m\u001b[43mstorage_options\u001b[49m\u001b[38;5;241;43m=\u001b[39;49m\u001b[38;5;28;43mself\u001b[39;49m\u001b[38;5;241;43m.\u001b[39;49m\u001b[43moptions\u001b[49m\u001b[38;5;241;43m.\u001b[39;49m\u001b[43mget\u001b[49m\u001b[43m(\u001b[49m\u001b[38;5;124;43m\"\u001b[39;49m\u001b[38;5;124;43mstorage_options\u001b[39;49m\u001b[38;5;124;43m\"\u001b[39;49m\u001b[43m,\u001b[49m\u001b[43m \u001b[49m\u001b[38;5;28;43;01mNone\u001b[39;49;00m\u001b[43m)\u001b[49m\u001b[43m,\u001b[49m\n\u001b[1;32m   1744\u001b[0m \u001b[43m\u001b[49m\u001b[43m)\u001b[49m\n\u001b[1;32m   1745\u001b[0m \u001b[38;5;28;01massert\u001b[39;00m \u001b[38;5;28mself\u001b[39m\u001b[38;5;241m.\u001b[39mhandles \u001b[38;5;129;01mis\u001b[39;00m \u001b[38;5;129;01mnot\u001b[39;00m \u001b[38;5;28;01mNone\u001b[39;00m\n\u001b[1;32m   1746\u001b[0m f \u001b[38;5;241m=\u001b[39m \u001b[38;5;28mself\u001b[39m\u001b[38;5;241m.\u001b[39mhandles\u001b[38;5;241m.\u001b[39mhandle\n",
      "File \u001b[0;32m~/opt/anaconda3/envs/Chatbot/lib/python3.11/site-packages/pandas/io/common.py:856\u001b[0m, in \u001b[0;36mget_handle\u001b[0;34m(path_or_buf, mode, encoding, compression, memory_map, is_text, errors, storage_options)\u001b[0m\n\u001b[1;32m    851\u001b[0m \u001b[38;5;28;01melif\u001b[39;00m \u001b[38;5;28misinstance\u001b[39m(handle, \u001b[38;5;28mstr\u001b[39m):\n\u001b[1;32m    852\u001b[0m     \u001b[38;5;66;03m# Check whether the filename is to be opened in binary mode.\u001b[39;00m\n\u001b[1;32m    853\u001b[0m     \u001b[38;5;66;03m# Binary mode does not support 'encoding' and 'newline'.\u001b[39;00m\n\u001b[1;32m    854\u001b[0m     \u001b[38;5;28;01mif\u001b[39;00m ioargs\u001b[38;5;241m.\u001b[39mencoding \u001b[38;5;129;01mand\u001b[39;00m \u001b[38;5;124m\"\u001b[39m\u001b[38;5;124mb\u001b[39m\u001b[38;5;124m\"\u001b[39m \u001b[38;5;129;01mnot\u001b[39;00m \u001b[38;5;129;01min\u001b[39;00m ioargs\u001b[38;5;241m.\u001b[39mmode:\n\u001b[1;32m    855\u001b[0m         \u001b[38;5;66;03m# Encoding\u001b[39;00m\n\u001b[0;32m--> 856\u001b[0m         handle \u001b[38;5;241m=\u001b[39m \u001b[38;5;28;43mopen\u001b[39;49m\u001b[43m(\u001b[49m\n\u001b[1;32m    857\u001b[0m \u001b[43m            \u001b[49m\u001b[43mhandle\u001b[49m\u001b[43m,\u001b[49m\n\u001b[1;32m    858\u001b[0m \u001b[43m            \u001b[49m\u001b[43mioargs\u001b[49m\u001b[38;5;241;43m.\u001b[39;49m\u001b[43mmode\u001b[49m\u001b[43m,\u001b[49m\n\u001b[1;32m    859\u001b[0m \u001b[43m            \u001b[49m\u001b[43mencoding\u001b[49m\u001b[38;5;241;43m=\u001b[39;49m\u001b[43mioargs\u001b[49m\u001b[38;5;241;43m.\u001b[39;49m\u001b[43mencoding\u001b[49m\u001b[43m,\u001b[49m\n\u001b[1;32m    860\u001b[0m \u001b[43m            \u001b[49m\u001b[43merrors\u001b[49m\u001b[38;5;241;43m=\u001b[39;49m\u001b[43merrors\u001b[49m\u001b[43m,\u001b[49m\n\u001b[1;32m    861\u001b[0m \u001b[43m            \u001b[49m\u001b[43mnewline\u001b[49m\u001b[38;5;241;43m=\u001b[39;49m\u001b[38;5;124;43m\"\u001b[39;49m\u001b[38;5;124;43m\"\u001b[39;49m\u001b[43m,\u001b[49m\n\u001b[1;32m    862\u001b[0m \u001b[43m        \u001b[49m\u001b[43m)\u001b[49m\n\u001b[1;32m    863\u001b[0m     \u001b[38;5;28;01melse\u001b[39;00m:\n\u001b[1;32m    864\u001b[0m         \u001b[38;5;66;03m# Binary mode\u001b[39;00m\n\u001b[1;32m    865\u001b[0m         handle \u001b[38;5;241m=\u001b[39m \u001b[38;5;28mopen\u001b[39m(handle, ioargs\u001b[38;5;241m.\u001b[39mmode)\n",
      "\u001b[0;31mFileNotFoundError\u001b[0m: [Errno 2] No such file or directory: '/Users/kacperjarzyna/systemy_rozproszone/app/databases/init_data/products/flowershopdata_clean.csv'"
     ]
    }
   ],
   "source": [
    "data = pd.read_csv('/Users/kacperjarzyna/systemy_rozproszone/app/databases/init_data/products/flowershopdata_clean.csv')"
   ]
  },
  {
   "cell_type": "code",
   "execution_count": 88,
   "metadata": {},
   "outputs": [],
   "source": [
    "question = \"I would like white flower that needs acidic soil\"\n",
    "model = SentenceTransformer(\"intfloat/e5-small-v2\")\n",
    "bot = Chatbot(data = {\n",
    "    \"mongo_client\": MongoClient(\"mongodb://localhost:27017/\"),\n",
    "    \"qdrant_client\": QdrantClient(\"http://localhost:6333\"),\n",
    "    \"openai_client\":  OpenAI(api_key=\"sk-proj-8j1NyU5gvA4njucbGG3uT3BlbkFJxBLHcRn4z7futfYb4sgb\")\n",
    "}, embedding_model= model)"
   ]
  },
  {
   "cell_type": "code",
   "execution_count": 90,
   "metadata": {},
   "outputs": [],
   "source": [
    "dwa = bot.qdrant_search(question)"
   ]
  },
  {
   "cell_type": "code",
   "execution_count": 91,
   "metadata": {},
   "outputs": [
    {
     "data": {
      "text/plain": [
       "[ScoredPoint(id=24, version=0, score=0.8672363, payload={'Description': 'Large clusters of blooms, often used in landscaping for their showy flowers and evergreen foliage. The petals come in various colors including pink, red, white, and purple. Needs acidic soil. Blooms in spring. Requires moderate sunlight and moderate water.', 'Id': 'ls2RVznjzh', 'Name': 'RHODODENDRON'}, vector=None, shard_key=None),\n",
       " ScoredPoint(id=47, version=0, score=0.8601799, payload={'Description': 'Dainty, daisy-like flowers that are easy to grow and come in shades of pink, white, and orange. The petals come in shades of pink, white, and orange. Needs well-drained soil. Blooms in summer to fall. Requires full sun and moderate water.', 'Id': 'T0wtC8urCv', 'Name': 'COSMOS'}, vector=None, shard_key=None),\n",
       " ScoredPoint(id=21, version=0, score=0.852825, payload={'Description': 'Small, bell-shaped flowers, often used as ground cover and in rock gardens, known for their resilience and beauty. The petals are various shades including white, pink, and purple. Needs acidic soil. Blooms in late summer to fall. Requires moderate sunlight and low water.', 'Id': '-HiMtaCJm-', 'Name': 'HEATHER'}, vector=None, shard_key=None)]"
      ]
     },
     "execution_count": 91,
     "metadata": {},
     "output_type": "execute_result"
    }
   ],
   "source": [
    "dwa"
   ]
  },
  {
   "cell_type": "code",
   "execution_count": 111,
   "metadata": {},
   "outputs": [],
   "source": [
    "import requests\n",
    "async def search_mongo(results):\n",
    "    all_jsons = []\n",
    "    for flower_id in [res.payload.get('Id') for res in results]:\n",
    "        item = await requests.get(f\"http://127.0.0.1:8000/products/{flower_id}\").json()\n",
    "        json_data = {'Name':item.get('name'), 'Description':item.get('description'),'Quantity': item.get('quantity')}\n",
    "        all_jsons.append(json_data)\n",
    "    return all_jsons\n"
   ]
  },
  {
   "cell_type": "code",
   "execution_count": 121,
   "metadata": {},
   "outputs": [],
   "source": [
    "import aiohttp\n",
    "import asyncio\n",
    "\n"
   ]
  },
  {
   "cell_type": "code",
   "execution_count": 122,
   "metadata": {},
   "outputs": [
    {
     "data": {
      "text/plain": [
       "[{'Name': 'Rhododendron',\n",
       "  'Description': 'Large clusters of blooms, often used in landscaping for their showy flowers and evergreen foliage. The petals come in various colors including pink, red, white, and purple. Needs acidic soil. Blooms in spring. Requires moderate sunlight and moderate water.',\n",
       "  'Quantity': 7},\n",
       " {'Name': 'Cosmos',\n",
       "  'Description': 'Dainty, daisy-like flowers that are easy to grow and come in shades of pink, white, and orange. The petals come in shades of pink, white, and orange. Needs well-drained soil. Blooms in summer to fall. Requires full sun and moderate water.',\n",
       "  'Quantity': 11},\n",
       " {'Name': 'Heather',\n",
       "  'Description': 'Small, bell-shaped flowers, often used as ground cover and in rock gardens, known for their resilience and beauty. The petals are various shades including white, pink, and purple. Needs acidic soil. Blooms in late summer to fall. Requires moderate sunlight and low water.',\n",
       "  'Quantity': 66}]"
      ]
     },
     "execution_count": 122,
     "metadata": {},
     "output_type": "execute_result"
    }
   ],
   "source": [
    "await search_mongo(dwa)"
   ]
  },
  {
   "cell_type": "code",
   "execution_count": 4,
   "metadata": {},
   "outputs": [],
   "source": [
    "# Connect to the MongoDB server\n",
    "client_mongo = pymongo.MongoClient(\"mongodb://localhost:27017/\")\n",
    "\n",
    "# Select your database\n",
    "db = client_mongo[\"ecommerce-app\"]\n",
    "\n",
    "# List all collection names in the database\n",
    "collection_names = db.list_collection_names()\n",
    "\n",
    "\n",
    "collection = db['products']\n",
    "# Find all documents in the collection\n",
    "documents = collection.find()\n",
    "for x in documents:\n",
    "    print(x)\n",
    "\n"
   ]
  },
  {
   "cell_type": "code",
   "execution_count": 3,
   "metadata": {},
   "outputs": [],
   "source": [
    "db.drop_collection('products')\n",
    "for document in documents:\n",
    "    print(document)"
   ]
  },
  {
   "cell_type": "code",
   "execution_count": 76,
   "metadata": {},
   "outputs": [],
   "source": [
    "from pymongo import MongoClient\n",
    "from openai import OpenAI\n",
    "from typing import List\n",
    "from sentence_transformers import SentenceTransformer\n",
    "from qdrant_client import QdrantClient\n",
    "\n",
    "\n",
    "class Chatbot():\n",
    "    mongo_client: MongoClient\n",
    "    qdrant_client: QdrantClient\n",
    "    openai_client: OpenAI\n",
    "    embedding_model: SentenceTransformer\n",
    "\n",
    "    def __init__(self, data, embedding_model):\n",
    "        self.mongo_client = data.pop('mongo_client', None)\n",
    "        self.qdrant_client = data.pop('qdrant_client', None)\n",
    "        self.openai_client = data.pop('openai_client', None)\n",
    "        self.embedding_model = embedding_model\n",
    "\n",
    "    def answer(self,question:str) -> str:\n",
    "        system,user = self.__prepare_question(question)\n",
    "        chat_completion = self.openai_client.chat.completions.create(\n",
    "        model=\"gpt-3.5-turbo\",\n",
    "        messages=[{\"role\":\"system\", \"content\" : system},\n",
    "            {\"role\": \"user\", \"content\": user}])\n",
    "        \n",
    "        return chat_completion.choices[0].message.content\n",
    "\n",
    "\n",
    "    def __fill_prompt(self,question:str, jsons:List[str]) -> List[str]:\n",
    "        SYSTEM_TEMPLATE = \"\"\"You are a professional flower shop assistatnt, you reccomend products that fullfils\n",
    "        every user expectations or answer his question based only on data in json format below:\n",
    "        {}\n",
    "        Always check the quantity before recommending if it's equal to 0 ask to wait until restock.\n",
    "        If none of products fulfill expectations say that sadly we don't have product you need.\n",
    "        Your answer should short and contain only what flower you recommend, reasoning why and friendly insight.\n",
    "        Don't encourage further conversation.\n",
    "        \"\"\"\n",
    "\n",
    "        filled_prompt = SYSTEM_TEMPLATE.format(jsons)\n",
    "        return filled_prompt, question\n",
    "\n",
    "\n",
    "    def __qdrant_search(self, question:str):\n",
    "        query = self.embedding_model.encode(question, normalize_embeddings=True)\n",
    "        results = self.qdrant_client.search(\n",
    "            collection_name=\"products_description\",\n",
    "            query_vector=query,\n",
    "            limit=3,\n",
    "        )\n",
    "        return results\n",
    "\n",
    "\n",
    "    def __search_mongo(self, results):\n",
    "        db = self.mongo_client[\"ecommerce-app\"]\n",
    "        collection = db['products']\n",
    "        all_jsons = []\n",
    "        for flower_id in [res.payload.get('Id') for res in results]:\n",
    "            json_data = {}\n",
    "            for item in collection.find({\"id\":flower_id}):\n",
    "                json_data['Name'] = item.get('name')\n",
    "                json_data['Description'] = item.get('description')\n",
    "                json_data['Quantity'] = item.get('quantity')\n",
    "                all_jsons.append(json_data)\n",
    "        return all_jsons\n",
    "\n",
    "\n",
    "    def __prepare_question(self, question):\n",
    "        qdrant_result = self.__qdrant_search(question)\n",
    "        mongo_result = self.__search_mongo(qdrant_result)\n",
    "        return self.__fill_prompt(question,mongo_result)\n",
    "    "
   ]
  },
  {
   "cell_type": "code",
   "execution_count": 79,
   "metadata": {},
   "outputs": [],
   "source": [
    "model = SentenceTransformer(\"intfloat/e5-small-v2\")\n",
    "bot = Chatbot(data = {\n",
    "    \"mongo_client\": MongoClient(\"mongodb://localhost:27017/\"),\n",
    "    \"qdrant_client\": QdrantClient(\"http://localhost:6333\"),\n",
    "    \"openai_client\":  OpenAI(api_key=\"sk-proj-8j1NyU5gvA4njucbGG3uT3BlbkFJxBLHcRn4z7futfYb4sgb\")\n",
    "}, embedding_model= model)\n"
   ]
  },
  {
   "cell_type": "code",
   "execution_count": 80,
   "metadata": {},
   "outputs": [
    {
     "data": {
      "text/plain": [
       "\"I recommend the Gladiolus, as it has tall spikes of red flowers and is known for its striking appearance. It blooms in summer and requires full sun and moderate water. It's a beautiful choice for adding a pop of color to any garden or floral arrangement.\""
      ]
     },
     "execution_count": 80,
     "metadata": {},
     "output_type": "execute_result"
    }
   ],
   "source": [
    "bot.answer('Red flower')"
   ]
  },
  {
   "cell_type": "code",
   "execution_count": 181,
   "metadata": {},
   "outputs": [],
   "source": [
    "async def qdrant_search(question:str):\n",
    "    vector = model.encode(question, normalize_embeddings=True).tolist()\n",
    "    async with aiohttp.ClientSession() as session:\n",
    "        async with session.post(f\"http://localhost:8000/products/vec_search\", json=vector) as response:\n",
    "            if response.status == 200:\n",
    "                return await response.json()\n",
    "            else:\n",
    "                error_message = await response.text()\n",
    "                raise Exception(f\"Error {response.status}: {error_message}\")"
   ]
  },
  {
   "cell_type": "code",
   "execution_count": 182,
   "metadata": {},
   "outputs": [
    {
     "data": {
      "text/plain": [
       "[{'id': 27,\n",
       "  'version': 6,\n",
       "  'score': 0.8200202,\n",
       "  'payload': {'Description': 'Tall spikes of flowers that resemble a dragon’s mouth when squeezed, available in a wide range of colors. The petals come in various colors including pink, red, white, and yellow. Needs well-drained soil. Blooms in spring to fall. Requires moderate sunlight and moderate water.',\n",
       "   'Id': 'w_ynWmR3in',\n",
       "   'Name': 'SNAPDRAGON'},\n",
       "  'vector': None,\n",
       "  'shard_key': None},\n",
       " {'id': 33,\n",
       "  'version': 6,\n",
       "  'score': 0.81718296,\n",
       "  'payload': {'Description': 'Tall spikes of flowers that are often used in floral arrangements, gladiolus come in many colors and are known for their striking appearance. The petals come in various colors including red, pink, white, and yellow. Needs well-drained soil. Blooms in summer. Requires full sun and moderate water.',\n",
       "   'Id': 'E-UQzkGaJR',\n",
       "   'Name': 'GLADIOLUS'},\n",
       "  'vector': None,\n",
       "  'shard_key': None},\n",
       " {'id': 39,\n",
       "  'version': 6,\n",
       "  'score': 0.8143558,\n",
       "  'payload': {'Description': 'Distinctive flowers with spurred petals, popular in cottage gardens and attracting hummingbirds. The petals come in various colors including blue, purple, red, and yellow. Needs well-drained soil. Blooms in spring to early summer. Requires partial shade and moderate water.',\n",
       "   'Id': 'cXGPWH06cn',\n",
       "   'Name': 'COLUMBINE'},\n",
       "  'vector': None,\n",
       "  'shard_key': None}]"
      ]
     },
     "execution_count": 182,
     "metadata": {},
     "output_type": "execute_result"
    }
   ],
   "source": [
    "await qdrant_search(\"red flower\")"
   ]
  },
  {
   "cell_type": "code",
   "execution_count": 236,
   "metadata": {},
   "outputs": [],
   "source": [
    "model = SentenceTransformer(\"intfloat/e5-small-v2\")\n",
    "bot = Chatbot(data = {\n",
    "    \"openai_client\":  AsyncOpenAI(api_key=\"sk-proj-8j1NyU5gvA4njucbGG3uT3BlbkFJxBLHcRn4z7futfYb4sgb\")\n",
    "}, embedding_model= model)"
   ]
  },
  {
   "cell_type": "code",
   "execution_count": 231,
   "metadata": {},
   "outputs": [
    {
     "name": "stdout",
     "output_type": "stream",
     "text": [
      "w_ynWmR3in\n",
      "E-UQzkGaJR\n",
      "cXGPWH06cn\n"
     ]
    }
   ],
   "source": [
    "vector = model.encode('red flower', normalize_embeddings=True).tolist()\n",
    "# requests.post(f\"http://127.0.0.1:8000/products/vec_search\", json= vector).json()\n",
    "dwa = [{'id': 27, 'version': 6, 'score': 0.8200202, 'payload': {'Description': 'Tall spikes of flowers that resemble a dragon’s mouth when squeezed, available in a wide range of colors. The petals come in various colors including pink, red, white, and yellow. Needs well-drained soil. Blooms in spring to fall. Requires moderate sunlight and moderate water.', 'Id': 'w_ynWmR3in', 'Name': 'SNAPDRAGON'}, 'vector': None, 'shard_key': None}, {'id': 33, 'version': 6, 'score': 0.81718296, 'payload': {'Description': 'Tall spikes of flowers that are often used in floral arrangements, gladiolus come in many colors and are known for their striking appearance. The petals come in various colors including red, pink, white, and yellow. Needs well-drained soil. Blooms in summer. Requires full sun and moderate water.', 'Id': 'E-UQzkGaJR', 'Name': 'GLADIOLUS'}, 'vector': None, 'shard_key': None}, {'id': 39, 'version': 6, 'score': 0.8143558, 'payload': {'Description': 'Distinctive flowers with spurred petals, popular in cottage gardens and attracting hummingbirds. The petals come in various colors including blue, purple, red, and yellow. Needs well-drained soil. Blooms in spring to early summer. Requires partial shade and moderate water.', 'Id': 'cXGPWH06cn', 'Name': 'COLUMBINE'}, 'vector': None, 'shard_key': None}]\n",
    "for res in dwa:\n",
    "    flower_id = res.get('payload').get(\"Id\")\n",
    "    print(flower_id)"
   ]
  },
  {
   "cell_type": "code",
   "execution_count": 237,
   "metadata": {},
   "outputs": [
    {
     "data": {
      "text/plain": [
       "'I recommend the Gladiolus for you as it comes in red petals. It is known for its striking appearance and is great for floral arrangements. Just a heads up, we have 55 in stock so you can get them right away!'"
      ]
     },
     "execution_count": 237,
     "metadata": {},
     "output_type": "execute_result"
    }
   ],
   "source": [
    "await bot.answer('red flower')"
   ]
  },
  {
   "cell_type": "code",
   "execution_count": 135,
   "metadata": {},
   "outputs": [
    {
     "data": {
      "text/plain": [
       "qdrant_client.http.models.models.ScoredPoint"
      ]
     },
     "execution_count": 135,
     "metadata": {},
     "output_type": "execute_result"
    }
   ],
   "source": [
    "qdrant_client = QdrantClient('localhost:6333')\n",
    "results = qdrant_client.search(\n",
    "    collection_name=\"products_description\",\n",
    "    query_vector=list(model.encode('dwa', normalize_embeddings=True)),\n",
    "    limit=3,\n",
    ")\n",
    "type(results[0])"
   ]
  }
 ],
 "metadata": {
  "kernelspec": {
   "display_name": "Chatbot",
   "language": "python",
   "name": "python3"
  },
  "language_info": {
   "codemirror_mode": {
    "name": "ipython",
    "version": 3
   },
   "file_extension": ".py",
   "mimetype": "text/x-python",
   "name": "python",
   "nbconvert_exporter": "python",
   "pygments_lexer": "ipython3",
   "version": "3.11.3"
  }
 },
 "nbformat": 4,
 "nbformat_minor": 2
}
